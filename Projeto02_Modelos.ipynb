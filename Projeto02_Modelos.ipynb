{
  "nbformat": 4,
  "nbformat_minor": 0,
  "metadata": {
    "colab": {
      "name": "Projeto02_Modelos.ipynb",
      "version": "0.3.2",
      "provenance": [],
      "collapsed_sections": []
    },
    "kernelspec": {
      "name": "python3",
      "display_name": "Python 3"
    }
  },
  "cells": [
    {
      "cell_type": "markdown",
      "metadata": {
        "id": "VDFzB6O5XEgr",
        "colab_type": "text"
      },
      "source": [
        "#IF706 - Introdução a Ciência de Dados\n",
        "##Projeto 2: Modelos Preditivos\n",
        "##Discente: Bruno Vinícius Gonçalves Mota\n",
        "##Docente: Luciano Barbosa\n",
        "\n"
      ]
    },
    {
      "cell_type": "markdown",
      "metadata": {
        "id": "kzzx8Vl1qx0n",
        "colab_type": "text"
      },
      "source": [
        "###Pré-Processamento e Divisão dos Dados"
      ]
    },
    {
      "cell_type": "code",
      "metadata": {
        "id": "_xoTfQn_vVr3",
        "colab_type": "code",
        "outputId": "4bdedde6-45dc-40e2-cf53-9cbbbd99aaa9",
        "colab": {
          "resources": {
            "http://localhost:8080/nbextensions/google.colab/files.js": {
              "data": "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",
              "ok": true,
              "headers": [
                [
                  "content-type",
                  "application/javascript"
                ]
              ],
              "status": 200,
              "status_text": "OK"
            }
          },
          "base_uri": "https://localhost:8080/",
          "height": 77
        }
      },
      "source": [
        "import pandas as pd\n",
        "import numpy as np\n",
        "\n",
        "from google.colab import files\n",
        "uploaded = files.upload()\n",
        "import io"
      ],
      "execution_count": 96,
      "outputs": [
        {
          "output_type": "display_data",
          "data": {
            "text/html": [
              "\n",
              "     <input type=\"file\" id=\"files-ed36ff41-4303-4570-add8-a8da277edbe7\" name=\"files[]\" multiple disabled />\n",
              "     <output id=\"result-ed36ff41-4303-4570-add8-a8da277edbe7\">\n",
              "      Upload widget is only available when the cell has been executed in the\n",
              "      current browser session. Please rerun this cell to enable.\n",
              "      </output>\n",
              "      <script src=\"/nbextensions/google.colab/files.js\"></script> "
            ],
            "text/plain": [
              "<IPython.core.display.HTML object>"
            ]
          },
          "metadata": {
            "tags": []
          }
        },
        {
          "output_type": "stream",
          "text": [
            "Saving new_store.csv to new_store (1).csv\n"
          ],
          "name": "stdout"
        }
      ]
    },
    {
      "cell_type": "code",
      "metadata": {
        "id": "E4jy4FfTWZIg",
        "colab_type": "code",
        "colab": {}
      },
      "source": [
        "import matplotlib.pyplot as plt\n",
        "import seaborn as sns \n",
        "%matplotlib inline\n",
        "pd.options.display.float_format = '{:20,.6f}'.format"
      ],
      "execution_count": 0,
      "outputs": []
    },
    {
      "cell_type": "markdown",
      "metadata": {
        "id": "ASrZqG-mrM3R",
        "colab_type": "text"
      },
      "source": [
        "Os dados escolhidos para este Projeto continuam sendo os dados de aplicativos da Google Play Store disponibilizados como datasets no Kaggle, site de competições de Data Science. Para esta etapa será tentado predizer o Rating de um app a partir das demais features."
      ]
    },
    {
      "cell_type": "code",
      "metadata": {
        "id": "_EtzbPgZWgkA",
        "colab_type": "code",
        "outputId": "6ec07ed5-0399-440c-f398-96912220fbb5",
        "colab": {
          "base_uri": "https://localhost:8080/",
          "height": 452
        }
      },
      "source": [
        "#Desta vez será usado o arquivo pré-processado do Projeto anterior:\n",
        "new_store = pd.read_csv(io.BytesIO(uploaded['new_store.csv']))\n",
        "new_store.head()"
      ],
      "execution_count": 98,
      "outputs": [
        {
          "output_type": "execute_result",
          "data": {
            "text/html": [
              "<div>\n",
              "<style scoped>\n",
              "    .dataframe tbody tr th:only-of-type {\n",
              "        vertical-align: middle;\n",
              "    }\n",
              "\n",
              "    .dataframe tbody tr th {\n",
              "        vertical-align: top;\n",
              "    }\n",
              "\n",
              "    .dataframe thead th {\n",
              "        text-align: right;\n",
              "    }\n",
              "</style>\n",
              "<table border=\"1\" class=\"dataframe\">\n",
              "  <thead>\n",
              "    <tr style=\"text-align: right;\">\n",
              "      <th></th>\n",
              "      <th>App</th>\n",
              "      <th>Category</th>\n",
              "      <th>Rating</th>\n",
              "      <th>Reviews</th>\n",
              "      <th>Size(M)</th>\n",
              "      <th>MinimumInstalls</th>\n",
              "      <th>RangeInstalls</th>\n",
              "      <th>Type</th>\n",
              "      <th>Price($)</th>\n",
              "      <th>Content Rating</th>\n",
              "      <th>Genres</th>\n",
              "      <th>Last Updated</th>\n",
              "      <th>Current Ver</th>\n",
              "      <th>Android Ver</th>\n",
              "      <th>isFamily</th>\n",
              "      <th>FamilyCategory</th>\n",
              "      <th>GameCategory</th>\n",
              "      <th>Reviews_log10</th>\n",
              "      <th>Size(M)_log10</th>\n",
              "      <th>Price($)_log10</th>\n",
              "      <th>price_reviews</th>\n",
              "      <th>price_reviews_log10</th>\n",
              "      <th>Rating_float</th>\n",
              "    </tr>\n",
              "  </thead>\n",
              "  <tbody>\n",
              "    <tr>\n",
              "      <th>0</th>\n",
              "      <td>Photo Editor &amp; Candy Camera &amp; Grid &amp; ScrapBook</td>\n",
              "      <td>ART_AND_DESIGN</td>\n",
              "      <td>4.100000</td>\n",
              "      <td>159.000000</td>\n",
              "      <td>19.000000</td>\n",
              "      <td>10000</td>\n",
              "      <td>10000 - 50000</td>\n",
              "      <td>Free</td>\n",
              "      <td>0.000000</td>\n",
              "      <td>Everyone</td>\n",
              "      <td>Art &amp; Design</td>\n",
              "      <td>2018-01-07</td>\n",
              "      <td>1.0.0</td>\n",
              "      <td>4.0.3 and up</td>\n",
              "      <td>0</td>\n",
              "      <td>NaN</td>\n",
              "      <td>NaN</td>\n",
              "      <td>2.201397</td>\n",
              "      <td>1.278754</td>\n",
              "      <td>-inf</td>\n",
              "      <td>0.000000</td>\n",
              "      <td>-inf</td>\n",
              "      <td>4.100000</td>\n",
              "    </tr>\n",
              "    <tr>\n",
              "      <th>1</th>\n",
              "      <td>Best Hairstyles step by step</td>\n",
              "      <td>BEAUTY</td>\n",
              "      <td>4.500000</td>\n",
              "      <td>45,452.000000</td>\n",
              "      <td>9.200000</td>\n",
              "      <td>5000000</td>\n",
              "      <td>5000000 - 10000000</td>\n",
              "      <td>Free</td>\n",
              "      <td>0.000000</td>\n",
              "      <td>Everyone</td>\n",
              "      <td>Beauty</td>\n",
              "      <td>2018-07-19</td>\n",
              "      <td>1.25</td>\n",
              "      <td>4.0 and up</td>\n",
              "      <td>0</td>\n",
              "      <td>NaN</td>\n",
              "      <td>NaN</td>\n",
              "      <td>4.657553</td>\n",
              "      <td>0.963788</td>\n",
              "      <td>-inf</td>\n",
              "      <td>0.000000</td>\n",
              "      <td>-inf</td>\n",
              "      <td>4.500000</td>\n",
              "    </tr>\n",
              "    <tr>\n",
              "      <th>2</th>\n",
              "      <td>Bingo by IGG: Top Bingo+Slots!</td>\n",
              "      <td>GAME</td>\n",
              "      <td>4.700000</td>\n",
              "      <td>183,343.000000</td>\n",
              "      <td>20.000000</td>\n",
              "      <td>5000000</td>\n",
              "      <td>5000000 - 10000000</td>\n",
              "      <td>Free</td>\n",
              "      <td>0.000000</td>\n",
              "      <td>Teen</td>\n",
              "      <td>Casino</td>\n",
              "      <td>2018-05-28</td>\n",
              "      <td>1.5.1</td>\n",
              "      <td>2.3 and up</td>\n",
              "      <td>0</td>\n",
              "      <td>NaN</td>\n",
              "      <td>CASINO</td>\n",
              "      <td>5.263264</td>\n",
              "      <td>1.301030</td>\n",
              "      <td>-inf</td>\n",
              "      <td>0.000000</td>\n",
              "      <td>-inf</td>\n",
              "      <td>4.700000</td>\n",
              "    </tr>\n",
              "    <tr>\n",
              "      <th>3</th>\n",
              "      <td>Project Fi by Google</td>\n",
              "      <td>TOOLS</td>\n",
              "      <td>4.600000</td>\n",
              "      <td>7,342.000000</td>\n",
              "      <td>0.000000</td>\n",
              "      <td>1000000</td>\n",
              "      <td>1000000 - 5000000</td>\n",
              "      <td>Free</td>\n",
              "      <td>0.000000</td>\n",
              "      <td>Everyone</td>\n",
              "      <td>Tools</td>\n",
              "      <td>2018-07-30</td>\n",
              "      <td>Varies with device</td>\n",
              "      <td>5.1 and up</td>\n",
              "      <td>0</td>\n",
              "      <td>NaN</td>\n",
              "      <td>NaN</td>\n",
              "      <td>3.865814</td>\n",
              "      <td>-inf</td>\n",
              "      <td>-inf</td>\n",
              "      <td>0.000000</td>\n",
              "      <td>-inf</td>\n",
              "      <td>4.600000</td>\n",
              "    </tr>\n",
              "    <tr>\n",
              "      <th>4</th>\n",
              "      <td>Slot Machines by IGG</td>\n",
              "      <td>GAME</td>\n",
              "      <td>4.600000</td>\n",
              "      <td>267,229.000000</td>\n",
              "      <td>24.000000</td>\n",
              "      <td>10000000</td>\n",
              "      <td>10000000 - 50000000</td>\n",
              "      <td>Free</td>\n",
              "      <td>0.000000</td>\n",
              "      <td>Teen</td>\n",
              "      <td>Casino</td>\n",
              "      <td>2018-05-28</td>\n",
              "      <td>1.7.4</td>\n",
              "      <td>2.3 and up</td>\n",
              "      <td>0</td>\n",
              "      <td>NaN</td>\n",
              "      <td>CASINO</td>\n",
              "      <td>5.426884</td>\n",
              "      <td>1.380211</td>\n",
              "      <td>-inf</td>\n",
              "      <td>0.000000</td>\n",
              "      <td>-inf</td>\n",
              "      <td>4.600000</td>\n",
              "    </tr>\n",
              "  </tbody>\n",
              "</table>\n",
              "</div>"
            ],
            "text/plain": [
              "                                              App  ...         Rating_float\n",
              "0  Photo Editor & Candy Camera & Grid & ScrapBook  ...             4.100000\n",
              "1                    Best Hairstyles step by step  ...             4.500000\n",
              "2                  Bingo by IGG: Top Bingo+Slots!  ...             4.700000\n",
              "3                            Project Fi by Google  ...             4.600000\n",
              "4                            Slot Machines by IGG  ...             4.600000\n",
              "\n",
              "[5 rows x 23 columns]"
            ]
          },
          "metadata": {
            "tags": []
          },
          "execution_count": 98
        }
      ]
    },
    {
      "cell_type": "code",
      "metadata": {
        "id": "b6QVTrvRWygD",
        "colab_type": "code",
        "outputId": "0e2cb1f2-3c3d-4d79-cdcc-e6f9aa789e1e",
        "colab": {
          "base_uri": "https://localhost:8080/",
          "height": 458
        }
      },
      "source": [
        "#Checando os tipos:\n",
        "new_store.dtypes"
      ],
      "execution_count": 99,
      "outputs": [
        {
          "output_type": "execute_result",
          "data": {
            "text/plain": [
              "App                     object\n",
              "Category                object\n",
              "Rating                 float64\n",
              "Reviews                float64\n",
              "Size(M)                float64\n",
              "MinimumInstalls          int64\n",
              "RangeInstalls           object\n",
              "Type                    object\n",
              "Price($)               float64\n",
              "Content Rating          object\n",
              "Genres                  object\n",
              "Last Updated            object\n",
              "Current Ver             object\n",
              "Android Ver             object\n",
              "isFamily                 int64\n",
              "FamilyCategory          object\n",
              "GameCategory            object\n",
              "Reviews_log10          float64\n",
              "Size(M)_log10          float64\n",
              "Price($)_log10         float64\n",
              "price_reviews          float64\n",
              "price_reviews_log10    float64\n",
              "Rating_float           float64\n",
              "dtype: object"
            ]
          },
          "metadata": {
            "tags": []
          },
          "execution_count": 99
        }
      ]
    },
    {
      "cell_type": "code",
      "metadata": {
        "id": "cex3qWsicoJ1",
        "colab_type": "code",
        "colab": {}
      },
      "source": [
        "#Removendo uma coluna inútil:\n",
        "new_store = new_store.drop('Rating_float', axis=1)"
      ],
      "execution_count": 0,
      "outputs": []
    },
    {
      "cell_type": "code",
      "metadata": {
        "id": "KWWdRfo0YoBl",
        "colab_type": "code",
        "outputId": "7393f09f-1963-4bd3-8925-7c1d14976ffc",
        "colab": {
          "base_uri": "https://localhost:8080/",
          "height": 439
        }
      },
      "source": [
        "#Checando a quantidade de dados que estão faltando nas colunas:\n",
        "new_store.isna().sum()"
      ],
      "execution_count": 101,
      "outputs": [
        {
          "output_type": "execute_result",
          "data": {
            "text/plain": [
              "App                       0\n",
              "Category                  0\n",
              "Rating                 1463\n",
              "Reviews                   0\n",
              "Size(M)                   0\n",
              "MinimumInstalls           0\n",
              "RangeInstalls            20\n",
              "Type                      1\n",
              "Price($)                  0\n",
              "Content Rating            0\n",
              "Genres                    0\n",
              "Last Updated              0\n",
              "Current Ver               8\n",
              "Android Ver               2\n",
              "isFamily                  0\n",
              "FamilyCategory         9306\n",
              "GameCategory           7833\n",
              "Reviews_log10             0\n",
              "Size(M)_log10             0\n",
              "Price($)_log10            0\n",
              "price_reviews           518\n",
              "price_reviews_log10     518\n",
              "dtype: int64"
            ]
          },
          "metadata": {
            "tags": []
          },
          "execution_count": 101
        }
      ]
    },
    {
      "cell_type": "markdown",
      "metadata": {
        "id": "kN4ZnAeKzewK",
        "colab_type": "text"
      },
      "source": [
        "Percebe-se que existem valores que não poderão ser usados como nan no campo 'price_reviews'(decorrente da divisão 0/0). Os campos com tranformação logarítmica também possuem problemas com -inf. Além disso, alguns campos campos categóricos estão faltando. Para tratar os problemas dos campos númericos serão preenchidos com 0, assim pouco influenciando nos algoritmos e para os campos categóricos uma classe adicional, Undefined, será criada como alternativa. Como o campo que será de interesse predizer tem certos dados faltando estas linhas serão desconsideradas por não serem úteis para a tarefa a ser executada."
      ]
    },
    {
      "cell_type": "code",
      "metadata": {
        "id": "CywPO4gVZPpM",
        "colab_type": "code",
        "outputId": "f703c2b4-54ae-4a3d-a0c7-1f12a8722dde",
        "colab": {
          "base_uri": "https://localhost:8080/",
          "height": 365
        }
      },
      "source": [
        "new_store[new_store['price_reviews'].isna()].head()"
      ],
      "execution_count": 102,
      "outputs": [
        {
          "output_type": "execute_result",
          "data": {
            "text/html": [
              "<div>\n",
              "<style scoped>\n",
              "    .dataframe tbody tr th:only-of-type {\n",
              "        vertical-align: middle;\n",
              "    }\n",
              "\n",
              "    .dataframe tbody tr th {\n",
              "        vertical-align: top;\n",
              "    }\n",
              "\n",
              "    .dataframe thead th {\n",
              "        text-align: right;\n",
              "    }\n",
              "</style>\n",
              "<table border=\"1\" class=\"dataframe\">\n",
              "  <thead>\n",
              "    <tr style=\"text-align: right;\">\n",
              "      <th></th>\n",
              "      <th>App</th>\n",
              "      <th>Category</th>\n",
              "      <th>Rating</th>\n",
              "      <th>Reviews</th>\n",
              "      <th>Size(M)</th>\n",
              "      <th>MinimumInstalls</th>\n",
              "      <th>RangeInstalls</th>\n",
              "      <th>Type</th>\n",
              "      <th>Price($)</th>\n",
              "      <th>Content Rating</th>\n",
              "      <th>Genres</th>\n",
              "      <th>Last Updated</th>\n",
              "      <th>Current Ver</th>\n",
              "      <th>Android Ver</th>\n",
              "      <th>isFamily</th>\n",
              "      <th>FamilyCategory</th>\n",
              "      <th>GameCategory</th>\n",
              "      <th>Reviews_log10</th>\n",
              "      <th>Size(M)_log10</th>\n",
              "      <th>Price($)_log10</th>\n",
              "      <th>price_reviews</th>\n",
              "      <th>price_reviews_log10</th>\n",
              "    </tr>\n",
              "  </thead>\n",
              "  <tbody>\n",
              "    <tr>\n",
              "      <th>27</th>\n",
              "      <td>Kick Axe Bx</td>\n",
              "      <td>HEALTH_AND_FITNESS</td>\n",
              "      <td>nan</td>\n",
              "      <td>0.000000</td>\n",
              "      <td>9.300000</td>\n",
              "      <td>1</td>\n",
              "      <td>1 - 5</td>\n",
              "      <td>Free</td>\n",
              "      <td>0.000000</td>\n",
              "      <td>Everyone</td>\n",
              "      <td>Health &amp; Fitness</td>\n",
              "      <td>2017-06-07</td>\n",
              "      <td>1.0.1</td>\n",
              "      <td>4.0 and up</td>\n",
              "      <td>0</td>\n",
              "      <td>NaN</td>\n",
              "      <td>NaN</td>\n",
              "      <td>-inf</td>\n",
              "      <td>0.968483</td>\n",
              "      <td>-inf</td>\n",
              "      <td>nan</td>\n",
              "      <td>nan</td>\n",
              "    </tr>\n",
              "    <tr>\n",
              "      <th>48</th>\n",
              "      <td>BZ Langenthaler Tagblatt E-Paper</td>\n",
              "      <td>NEWS_AND_MAGAZINES</td>\n",
              "      <td>nan</td>\n",
              "      <td>0.000000</td>\n",
              "      <td>0.000000</td>\n",
              "      <td>10</td>\n",
              "      <td>10 - 50</td>\n",
              "      <td>Free</td>\n",
              "      <td>0.000000</td>\n",
              "      <td>Everyone</td>\n",
              "      <td>News &amp; Magazines</td>\n",
              "      <td>2018-07-30</td>\n",
              "      <td>5.1.1</td>\n",
              "      <td>4.1 and up</td>\n",
              "      <td>0</td>\n",
              "      <td>NaN</td>\n",
              "      <td>NaN</td>\n",
              "      <td>-inf</td>\n",
              "      <td>-inf</td>\n",
              "      <td>-inf</td>\n",
              "      <td>nan</td>\n",
              "      <td>nan</td>\n",
              "    </tr>\n",
              "    <tr>\n",
              "      <th>50</th>\n",
              "      <td>Dragon B.Z Wallpapers</td>\n",
              "      <td>PERSONALIZATION</td>\n",
              "      <td>nan</td>\n",
              "      <td>0.000000</td>\n",
              "      <td>3.800000</td>\n",
              "      <td>10</td>\n",
              "      <td>10 - 50</td>\n",
              "      <td>Free</td>\n",
              "      <td>0.000000</td>\n",
              "      <td>Everyone</td>\n",
              "      <td>Personalization</td>\n",
              "      <td>2018-05-06</td>\n",
              "      <td>2.1</td>\n",
              "      <td>4.0.3 and up</td>\n",
              "      <td>0</td>\n",
              "      <td>NaN</td>\n",
              "      <td>NaN</td>\n",
              "      <td>-inf</td>\n",
              "      <td>0.579784</td>\n",
              "      <td>-inf</td>\n",
              "      <td>nan</td>\n",
              "      <td>nan</td>\n",
              "    </tr>\n",
              "    <tr>\n",
              "      <th>65</th>\n",
              "      <td>Learn SAP BW on HANA</td>\n",
              "      <td>BOOKS_AND_REFERENCE</td>\n",
              "      <td>nan</td>\n",
              "      <td>0.000000</td>\n",
              "      <td>13.000000</td>\n",
              "      <td>500</td>\n",
              "      <td>500 - 1000</td>\n",
              "      <td>Free</td>\n",
              "      <td>0.000000</td>\n",
              "      <td>Everyone</td>\n",
              "      <td>Books &amp; Reference</td>\n",
              "      <td>2018-02-13</td>\n",
              "      <td>1.1</td>\n",
              "      <td>4.0 and up</td>\n",
              "      <td>0</td>\n",
              "      <td>NaN</td>\n",
              "      <td>NaN</td>\n",
              "      <td>-inf</td>\n",
              "      <td>1.113943</td>\n",
              "      <td>-inf</td>\n",
              "      <td>nan</td>\n",
              "      <td>nan</td>\n",
              "    </tr>\n",
              "    <tr>\n",
              "      <th>67</th>\n",
              "      <td>BW SmartLife</td>\n",
              "      <td>TOOLS</td>\n",
              "      <td>nan</td>\n",
              "      <td>0.000000</td>\n",
              "      <td>8.800000</td>\n",
              "      <td>100</td>\n",
              "      <td>100 - 500</td>\n",
              "      <td>Free</td>\n",
              "      <td>0.000000</td>\n",
              "      <td>Everyone</td>\n",
              "      <td>Tools</td>\n",
              "      <td>2017-12-05</td>\n",
              "      <td>1.1.8</td>\n",
              "      <td>4.1 and up</td>\n",
              "      <td>0</td>\n",
              "      <td>NaN</td>\n",
              "      <td>NaN</td>\n",
              "      <td>-inf</td>\n",
              "      <td>0.944483</td>\n",
              "      <td>-inf</td>\n",
              "      <td>nan</td>\n",
              "      <td>nan</td>\n",
              "    </tr>\n",
              "  </tbody>\n",
              "</table>\n",
              "</div>"
            ],
            "text/plain": [
              "                                 App  ...  price_reviews_log10\n",
              "27                       Kick Axe Bx  ...                  nan\n",
              "48  BZ Langenthaler Tagblatt E-Paper  ...                  nan\n",
              "50             Dragon B.Z Wallpapers  ...                  nan\n",
              "65              Learn SAP BW on HANA  ...                  nan\n",
              "67                      BW SmartLife  ...                  nan\n",
              "\n",
              "[5 rows x 22 columns]"
            ]
          },
          "metadata": {
            "tags": []
          },
          "execution_count": 102
        }
      ]
    },
    {
      "cell_type": "code",
      "metadata": {
        "id": "8wBQg1xw-YAE",
        "colab_type": "code",
        "colab": {}
      },
      "source": [
        "#Removendo linhas sem Rating(valor alvo):\n",
        "new_store = new_store.dropna(subset=['Rating'])"
      ],
      "execution_count": 0,
      "outputs": []
    },
    {
      "cell_type": "code",
      "metadata": {
        "id": "hLhmbklBA2oV",
        "colab_type": "code",
        "colab": {}
      },
      "source": [
        "#Pré-processando estes campos com valores possíveis para criação de modelos\n",
        "new_store.loc[new_store['RangeInstalls'].isna(), ['RangeInstalls']] = '1000000000+'\n",
        "new_store.loc[new_store['Current Ver'].isna(), ['Current Ver']] = 'Undefined'\n",
        "new_store.loc[new_store['Android Ver'].isna(), ['Android Ver']] = 'Undefined'\n",
        "new_store.loc[new_store['price_reviews'].isna(), ['price_reviews']] = 0\n",
        "new_store.loc[new_store['price_reviews_log10'].isna(), ['price_reviews_log10']] = 0"
      ],
      "execution_count": 0,
      "outputs": []
    },
    {
      "cell_type": "markdown",
      "metadata": {
        "id": "B0MVHKhK1V47",
        "colab_type": "text"
      },
      "source": [
        "Para os campos FamilyCategory e GameCategory semelhante ao que foi feito em cima foram criados outros campos 'NO FAMILY' e 'NO GAME' para os apps que de fato não pertencem a essas classificações."
      ]
    },
    {
      "cell_type": "code",
      "metadata": {
        "id": "Czb3mCJrFLCR",
        "colab_type": "code",
        "colab": {}
      },
      "source": [
        "new_store.loc[new_store['FamilyCategory'].isna(), ['FamilyCategory']] = 'NO FAMILY'\n",
        "new_store.loc[new_store['GameCategory'].isna(), ['GameCategory']] = 'NO GAME'"
      ],
      "execution_count": 0,
      "outputs": []
    },
    {
      "cell_type": "markdown",
      "metadata": {
        "id": "BuPFOuIZ1wip",
        "colab_type": "text"
      },
      "source": [
        "As transformações logarítmicas geram -inf então serão preenchidas com 0."
      ]
    },
    {
      "cell_type": "code",
      "metadata": {
        "id": "WR0EbwH7EQmR",
        "colab_type": "code",
        "colab": {}
      },
      "source": [
        "new_store.loc[new_store['Reviews_log10'] == -np.inf, ['Reviews_log10']] = 0\n",
        "new_store.loc[new_store['Size(M)_log10'] == -np.inf, ['Size(M)_log10']] = 0\n",
        "new_store.loc[new_store['Price($)_log10'] == -np.inf, ['Price($)_log10']] = 0\n",
        "new_store.loc[new_store['price_reviews_log10'] == -np.inf, ['price_reviews_log10']] = 0"
      ],
      "execution_count": 0,
      "outputs": []
    },
    {
      "cell_type": "code",
      "metadata": {
        "id": "hYIJXDpUabj4",
        "colab_type": "code",
        "colab": {}
      },
      "source": [
        "from sklearn.model_selection import train_test_split"
      ],
      "execution_count": 0,
      "outputs": []
    },
    {
      "cell_type": "markdown",
      "metadata": {
        "id": "OuOUMkXS2GKD",
        "colab_type": "text"
      },
      "source": [
        "Será começado a ser montado o DataFrame usado para a tarefa. As colunas abaixo não serão usadas. App, por exemplo, é o nome da Aplicação enquanto Genres foi dividido em outras colunas no pré-processamento do Projeto anterior. As outras não foram consideradas relevantes."
      ]
    },
    {
      "cell_type": "code",
      "metadata": {
        "id": "WHAbqwp5bLGI",
        "colab_type": "code",
        "outputId": "3903aa46-65f6-45e6-d19f-699210896ed2",
        "colab": {
          "base_uri": "https://localhost:8080/",
          "height": 135
        }
      },
      "source": [
        "X = new_store.drop(['Rating', 'RangeInstalls', 'Genres', 'Current Ver', \n",
        "                    'Last Updated', 'App'], axis=1)\n",
        "X.head(1)"
      ],
      "execution_count": 108,
      "outputs": [
        {
          "output_type": "execute_result",
          "data": {
            "text/html": [
              "<div>\n",
              "<style scoped>\n",
              "    .dataframe tbody tr th:only-of-type {\n",
              "        vertical-align: middle;\n",
              "    }\n",
              "\n",
              "    .dataframe tbody tr th {\n",
              "        vertical-align: top;\n",
              "    }\n",
              "\n",
              "    .dataframe thead th {\n",
              "        text-align: right;\n",
              "    }\n",
              "</style>\n",
              "<table border=\"1\" class=\"dataframe\">\n",
              "  <thead>\n",
              "    <tr style=\"text-align: right;\">\n",
              "      <th></th>\n",
              "      <th>Category</th>\n",
              "      <th>Reviews</th>\n",
              "      <th>Size(M)</th>\n",
              "      <th>MinimumInstalls</th>\n",
              "      <th>Type</th>\n",
              "      <th>Price($)</th>\n",
              "      <th>Content Rating</th>\n",
              "      <th>Android Ver</th>\n",
              "      <th>isFamily</th>\n",
              "      <th>FamilyCategory</th>\n",
              "      <th>GameCategory</th>\n",
              "      <th>Reviews_log10</th>\n",
              "      <th>Size(M)_log10</th>\n",
              "      <th>Price($)_log10</th>\n",
              "      <th>price_reviews</th>\n",
              "      <th>price_reviews_log10</th>\n",
              "    </tr>\n",
              "  </thead>\n",
              "  <tbody>\n",
              "    <tr>\n",
              "      <th>0</th>\n",
              "      <td>ART_AND_DESIGN</td>\n",
              "      <td>159.000000</td>\n",
              "      <td>19.000000</td>\n",
              "      <td>10000</td>\n",
              "      <td>Free</td>\n",
              "      <td>0.000000</td>\n",
              "      <td>Everyone</td>\n",
              "      <td>4.0.3 and up</td>\n",
              "      <td>0</td>\n",
              "      <td>NO FAMILY</td>\n",
              "      <td>NO GAME</td>\n",
              "      <td>2.201397</td>\n",
              "      <td>1.278754</td>\n",
              "      <td>0.000000</td>\n",
              "      <td>0.000000</td>\n",
              "      <td>0.000000</td>\n",
              "    </tr>\n",
              "  </tbody>\n",
              "</table>\n",
              "</div>"
            ],
            "text/plain": [
              "         Category  ...  price_reviews_log10\n",
              "0  ART_AND_DESIGN  ...             0.000000\n",
              "\n",
              "[1 rows x 16 columns]"
            ]
          },
          "metadata": {
            "tags": []
          },
          "execution_count": 108
        }
      ]
    },
    {
      "cell_type": "markdown",
      "metadata": {
        "id": "OLf_XqxB2hx_",
        "colab_type": "text"
      },
      "source": [
        "Agora os dados serão normalizados para estarem entre 0 e 1."
      ]
    },
    {
      "cell_type": "code",
      "metadata": {
        "id": "g9q-dHKulguW",
        "colab_type": "code",
        "colab": {}
      },
      "source": [
        "X['Reviews'] = (X['Reviews'] - X['Reviews'].min()) / (X['Reviews'].max() - X['Reviews'].min())\n",
        "X['Size(M)'] = (X['Size(M)'] - X['Size(M)'].min()) / (X['Size(M)'].max() - X['Size(M)'].min())\n",
        "X['MinimumInstalls'] = (X['MinimumInstalls'] - X['MinimumInstalls'].min()) / (X['MinimumInstalls'].max() - X['MinimumInstalls'].min())\n",
        "X['Price($)'] = (X['Price($)'] - X['Price($)'].min()) / (X['Price($)'].max() - X['Price($)'].min())\n",
        "X['isFamily'] = (X['isFamily'] - X['isFamily'].min()) / (X['isFamily'].max() - X['isFamily'].min())\n",
        "X['Reviews_log10'] = (X['Reviews_log10'] - X['Reviews_log10'].min()) / (X['Reviews_log10'].max() - X['Reviews_log10'].min())\n",
        "X['Size(M)_log10'] = (X['Size(M)_log10'] - X['Size(M)_log10'].min()) / (X['Size(M)_log10'].max() - X['Size(M)_log10'].min())\n",
        "X['Price($)_log10'] = (X['Price($)_log10'] - X['Price($)_log10'].min()) / (X['Price($)_log10'].max() - X['Price($)_log10'].min())                                                                        \n",
        "X['price_reviews'] = (X['price_reviews'] - X['price_reviews'].min()) / (X['price_reviews'].max() - X['price_reviews'].min())                                                                        \n",
        "X['price_reviews_log10'] = (X['price_reviews_log10'] - X['price_reviews_log10'].min()) / (X['price_reviews_log10'].max() - X['price_reviews_log10'].min())                                                                        "
      ],
      "execution_count": 0,
      "outputs": []
    },
    {
      "cell_type": "code",
      "metadata": {
        "id": "BY1RV9oSnHRR",
        "colab_type": "code",
        "outputId": "1c8ae751-1628-483c-d7ff-dafa9a9a2c8b",
        "colab": {
          "base_uri": "https://localhost:8080/",
          "height": 135
        }
      },
      "source": [
        "X.head(1)"
      ],
      "execution_count": 110,
      "outputs": [
        {
          "output_type": "execute_result",
          "data": {
            "text/html": [
              "<div>\n",
              "<style scoped>\n",
              "    .dataframe tbody tr th:only-of-type {\n",
              "        vertical-align: middle;\n",
              "    }\n",
              "\n",
              "    .dataframe tbody tr th {\n",
              "        vertical-align: top;\n",
              "    }\n",
              "\n",
              "    .dataframe thead th {\n",
              "        text-align: right;\n",
              "    }\n",
              "</style>\n",
              "<table border=\"1\" class=\"dataframe\">\n",
              "  <thead>\n",
              "    <tr style=\"text-align: right;\">\n",
              "      <th></th>\n",
              "      <th>Category</th>\n",
              "      <th>Reviews</th>\n",
              "      <th>Size(M)</th>\n",
              "      <th>MinimumInstalls</th>\n",
              "      <th>Type</th>\n",
              "      <th>Price($)</th>\n",
              "      <th>Content Rating</th>\n",
              "      <th>Android Ver</th>\n",
              "      <th>isFamily</th>\n",
              "      <th>FamilyCategory</th>\n",
              "      <th>GameCategory</th>\n",
              "      <th>Reviews_log10</th>\n",
              "      <th>Size(M)_log10</th>\n",
              "      <th>Price($)_log10</th>\n",
              "      <th>price_reviews</th>\n",
              "      <th>price_reviews_log10</th>\n",
              "    </tr>\n",
              "  </thead>\n",
              "  <tbody>\n",
              "    <tr>\n",
              "      <th>0</th>\n",
              "      <td>ART_AND_DESIGN</td>\n",
              "      <td>0.000002</td>\n",
              "      <td>0.190000</td>\n",
              "      <td>0.000010</td>\n",
              "      <td>Free</td>\n",
              "      <td>0.000000</td>\n",
              "      <td>Everyone</td>\n",
              "      <td>4.0.3 and up</td>\n",
              "      <td>0.000000</td>\n",
              "      <td>NO FAMILY</td>\n",
              "      <td>NO GAME</td>\n",
              "      <td>0.278909</td>\n",
              "      <td>0.822815</td>\n",
              "      <td>0.001675</td>\n",
              "      <td>0.000000</td>\n",
              "      <td>0.754827</td>\n",
              "    </tr>\n",
              "  </tbody>\n",
              "</table>\n",
              "</div>"
            ],
            "text/plain": [
              "         Category  ...  price_reviews_log10\n",
              "0  ART_AND_DESIGN  ...             0.754827\n",
              "\n",
              "[1 rows x 16 columns]"
            ]
          },
          "metadata": {
            "tags": []
          },
          "execution_count": 110
        }
      ]
    },
    {
      "cell_type": "markdown",
      "metadata": {
        "id": "x5vuPmc23eJI",
        "colab_type": "text"
      },
      "source": [
        "Convertendo as features categóricas para variáveis dummies. Em seguida são removidas as versões originais e o DataFrame ficará todo numérico."
      ]
    },
    {
      "cell_type": "code",
      "metadata": {
        "id": "AI1c-zDq9Hvh",
        "colab_type": "code",
        "outputId": "e89475eb-829a-4c10-a052-1682a18e40df",
        "colab": {
          "base_uri": "https://localhost:8080/",
          "height": 147
        }
      },
      "source": [
        "category_dummies = pd.get_dummies(X['Category'], prefix='CATEGORY')\n",
        "type_dummies = pd.get_dummies(X['Type'], prefix='TYPE')\n",
        "content_dummies = pd.get_dummies(X['Content Rating'], prefix='CONTENT_RATING')\n",
        "android_dummies = pd.get_dummies(X['Android Ver'], prefix='ANDROID_VER')\n",
        "family_dummies = pd.get_dummies(X['FamilyCategory'], prefix='FAMILY_CATEGORY')\n",
        "game_dummies = pd.get_dummies(X['GameCategory'], prefix='GAME_CATEGORY')\n",
        "X = pd.concat([X, category_dummies, type_dummies,content_dummies, android_dummies,\n",
        "              family_dummies, game_dummies], axis=1)\n",
        "X = X.drop(['Category', 'Type', 'Content Rating', 'Android Ver', 'FamilyCategory', \n",
        "            'GameCategory'], axis=1)\n",
        "X.head(1)"
      ],
      "execution_count": 111,
      "outputs": [
        {
          "output_type": "execute_result",
          "data": {
            "text/html": [
              "<div>\n",
              "<style scoped>\n",
              "    .dataframe tbody tr th:only-of-type {\n",
              "        vertical-align: middle;\n",
              "    }\n",
              "\n",
              "    .dataframe tbody tr th {\n",
              "        vertical-align: top;\n",
              "    }\n",
              "\n",
              "    .dataframe thead th {\n",
              "        text-align: right;\n",
              "    }\n",
              "</style>\n",
              "<table border=\"1\" class=\"dataframe\">\n",
              "  <thead>\n",
              "    <tr style=\"text-align: right;\">\n",
              "      <th></th>\n",
              "      <th>Reviews</th>\n",
              "      <th>Size(M)</th>\n",
              "      <th>MinimumInstalls</th>\n",
              "      <th>Price($)</th>\n",
              "      <th>isFamily</th>\n",
              "      <th>Reviews_log10</th>\n",
              "      <th>Size(M)_log10</th>\n",
              "      <th>Price($)_log10</th>\n",
              "      <th>price_reviews</th>\n",
              "      <th>price_reviews_log10</th>\n",
              "      <th>CATEGORY_ART_AND_DESIGN</th>\n",
              "      <th>CATEGORY_AUTO_AND_VEHICLES</th>\n",
              "      <th>CATEGORY_BEAUTY</th>\n",
              "      <th>CATEGORY_BOOKS_AND_REFERENCE</th>\n",
              "      <th>CATEGORY_BUSINESS</th>\n",
              "      <th>CATEGORY_COMICS</th>\n",
              "      <th>CATEGORY_COMMUNICATION</th>\n",
              "      <th>CATEGORY_DATING</th>\n",
              "      <th>CATEGORY_EDUCATION</th>\n",
              "      <th>CATEGORY_ENTERTAINMENT</th>\n",
              "      <th>CATEGORY_EVENTS</th>\n",
              "      <th>CATEGORY_FINANCE</th>\n",
              "      <th>CATEGORY_FOOD_AND_DRINK</th>\n",
              "      <th>CATEGORY_GAME</th>\n",
              "      <th>CATEGORY_HEALTH_AND_FITNESS</th>\n",
              "      <th>CATEGORY_HOUSE_AND_HOME</th>\n",
              "      <th>CATEGORY_LIBRARIES_AND_DEMO</th>\n",
              "      <th>CATEGORY_LIFESTYLE</th>\n",
              "      <th>CATEGORY_MAPS_AND_NAVIGATION</th>\n",
              "      <th>CATEGORY_MEDICAL</th>\n",
              "      <th>CATEGORY_MUSIC &amp; AUDIO</th>\n",
              "      <th>CATEGORY_NEWS_AND_MAGAZINES</th>\n",
              "      <th>CATEGORY_PARENTING</th>\n",
              "      <th>CATEGORY_PERSONALIZATION</th>\n",
              "      <th>CATEGORY_PHOTOGRAPHY</th>\n",
              "      <th>CATEGORY_PRODUCTIVITY</th>\n",
              "      <th>CATEGORY_SHOPPING</th>\n",
              "      <th>CATEGORY_SOCIAL</th>\n",
              "      <th>CATEGORY_SPORTS</th>\n",
              "      <th>CATEGORY_TOOLS</th>\n",
              "      <th>...</th>\n",
              "      <th>ANDROID_VER_4.2 and up</th>\n",
              "      <th>ANDROID_VER_4.3 and up</th>\n",
              "      <th>ANDROID_VER_4.4 and up</th>\n",
              "      <th>ANDROID_VER_4.4W and up</th>\n",
              "      <th>ANDROID_VER_5.0 - 6.0</th>\n",
              "      <th>ANDROID_VER_5.0 - 8.0</th>\n",
              "      <th>ANDROID_VER_5.0 and up</th>\n",
              "      <th>ANDROID_VER_5.1 and up</th>\n",
              "      <th>ANDROID_VER_6.0 and up</th>\n",
              "      <th>ANDROID_VER_7.0 - 7.1.1</th>\n",
              "      <th>ANDROID_VER_7.0 and up</th>\n",
              "      <th>ANDROID_VER_7.1 and up</th>\n",
              "      <th>ANDROID_VER_8.0 and up</th>\n",
              "      <th>ANDROID_VER_Undefined</th>\n",
              "      <th>ANDROID_VER_Varies with device</th>\n",
              "      <th>FAMILY_CATEGORY_ACTION &amp; ADVENTURE</th>\n",
              "      <th>FAMILY_CATEGORY_BRAIN GAMES</th>\n",
              "      <th>FAMILY_CATEGORY_CREATIVITY</th>\n",
              "      <th>FAMILY_CATEGORY_EDUCATION</th>\n",
              "      <th>FAMILY_CATEGORY_MUSIC &amp; VIDEO</th>\n",
              "      <th>FAMILY_CATEGORY_NO FAMILY</th>\n",
              "      <th>FAMILY_CATEGORY_PRETEND PLAY</th>\n",
              "      <th>GAME_CATEGORY_ACTION</th>\n",
              "      <th>GAME_CATEGORY_ADVENTURE</th>\n",
              "      <th>GAME_CATEGORY_ARCADE</th>\n",
              "      <th>GAME_CATEGORY_BOARD</th>\n",
              "      <th>GAME_CATEGORY_CARD</th>\n",
              "      <th>GAME_CATEGORY_CASINO</th>\n",
              "      <th>GAME_CATEGORY_CASUAL</th>\n",
              "      <th>GAME_CATEGORY_EDUCATIONAL</th>\n",
              "      <th>GAME_CATEGORY_MUSIC</th>\n",
              "      <th>GAME_CATEGORY_NO GAME</th>\n",
              "      <th>GAME_CATEGORY_PUZZLE</th>\n",
              "      <th>GAME_CATEGORY_RACING</th>\n",
              "      <th>GAME_CATEGORY_ROLE PLAYING</th>\n",
              "      <th>GAME_CATEGORY_SIMULATION</th>\n",
              "      <th>GAME_CATEGORY_SPORTS</th>\n",
              "      <th>GAME_CATEGORY_STRATEGY</th>\n",
              "      <th>GAME_CATEGORY_TRIVIA</th>\n",
              "      <th>GAME_CATEGORY_WORD</th>\n",
              "    </tr>\n",
              "  </thead>\n",
              "  <tbody>\n",
              "    <tr>\n",
              "      <th>0</th>\n",
              "      <td>0.000002</td>\n",
              "      <td>0.190000</td>\n",
              "      <td>0.000010</td>\n",
              "      <td>0.000000</td>\n",
              "      <td>0.000000</td>\n",
              "      <td>0.278909</td>\n",
              "      <td>0.822815</td>\n",
              "      <td>0.001675</td>\n",
              "      <td>0.000000</td>\n",
              "      <td>0.754827</td>\n",
              "      <td>1</td>\n",
              "      <td>0</td>\n",
              "      <td>0</td>\n",
              "      <td>0</td>\n",
              "      <td>0</td>\n",
              "      <td>0</td>\n",
              "      <td>0</td>\n",
              "      <td>0</td>\n",
              "      <td>0</td>\n",
              "      <td>0</td>\n",
              "      <td>0</td>\n",
              "      <td>0</td>\n",
              "      <td>0</td>\n",
              "      <td>0</td>\n",
              "      <td>0</td>\n",
              "      <td>0</td>\n",
              "      <td>0</td>\n",
              "      <td>0</td>\n",
              "      <td>0</td>\n",
              "      <td>0</td>\n",
              "      <td>0</td>\n",
              "      <td>0</td>\n",
              "      <td>0</td>\n",
              "      <td>0</td>\n",
              "      <td>0</td>\n",
              "      <td>0</td>\n",
              "      <td>0</td>\n",
              "      <td>0</td>\n",
              "      <td>0</td>\n",
              "      <td>0</td>\n",
              "      <td>...</td>\n",
              "      <td>0</td>\n",
              "      <td>0</td>\n",
              "      <td>0</td>\n",
              "      <td>0</td>\n",
              "      <td>0</td>\n",
              "      <td>0</td>\n",
              "      <td>0</td>\n",
              "      <td>0</td>\n",
              "      <td>0</td>\n",
              "      <td>0</td>\n",
              "      <td>0</td>\n",
              "      <td>0</td>\n",
              "      <td>0</td>\n",
              "      <td>0</td>\n",
              "      <td>0</td>\n",
              "      <td>0</td>\n",
              "      <td>0</td>\n",
              "      <td>0</td>\n",
              "      <td>0</td>\n",
              "      <td>0</td>\n",
              "      <td>1</td>\n",
              "      <td>0</td>\n",
              "      <td>0</td>\n",
              "      <td>0</td>\n",
              "      <td>0</td>\n",
              "      <td>0</td>\n",
              "      <td>0</td>\n",
              "      <td>0</td>\n",
              "      <td>0</td>\n",
              "      <td>0</td>\n",
              "      <td>0</td>\n",
              "      <td>1</td>\n",
              "      <td>0</td>\n",
              "      <td>0</td>\n",
              "      <td>0</td>\n",
              "      <td>0</td>\n",
              "      <td>0</td>\n",
              "      <td>0</td>\n",
              "      <td>0</td>\n",
              "      <td>0</td>\n",
              "    </tr>\n",
              "  </tbody>\n",
              "</table>\n",
              "<p>1 rows × 108 columns</p>\n",
              "</div>"
            ],
            "text/plain": [
              "               Reviews  ...  GAME_CATEGORY_WORD\n",
              "0             0.000002  ...                   0\n",
              "\n",
              "[1 rows x 108 columns]"
            ]
          },
          "metadata": {
            "tags": []
          },
          "execution_count": 111
        }
      ]
    },
    {
      "cell_type": "markdown",
      "metadata": {
        "id": "Nw9nKRU23vV4",
        "colab_type": "text"
      },
      "source": [
        "Este é o campo que será de interesse predizer. O output desejado será o Rating e como é notado caracteriza por ser um valor em um intervalo contínuo onde será realizada uma tarefa de Regressão."
      ]
    },
    {
      "cell_type": "code",
      "metadata": {
        "id": "rYDjLUjUdAuK",
        "colab_type": "code",
        "outputId": "318bd9d3-103b-4b62-b80f-823e0aaff6c8",
        "colab": {
          "base_uri": "https://localhost:8080/",
          "height": 127
        }
      },
      "source": [
        "y = new_store['Rating']\n",
        "y.head()"
      ],
      "execution_count": 112,
      "outputs": [
        {
          "output_type": "execute_result",
          "data": {
            "text/plain": [
              "0               4.100000\n",
              "1               4.500000\n",
              "2               4.700000\n",
              "3               4.600000\n",
              "4               4.600000\n",
              "Name: Rating, dtype: float64"
            ]
          },
          "metadata": {
            "tags": []
          },
          "execution_count": 112
        }
      ]
    },
    {
      "cell_type": "markdown",
      "metadata": {
        "id": "1Z0d6mR77vx0",
        "colab_type": "text"
      },
      "source": [
        "Dividimos os datasets de treino e teste em 70% e 30% respectivamente. O conjunto de validação será utilizado na busca de hiperparâmetros(Grid/Random Search) com cross-validation."
      ]
    },
    {
      "cell_type": "code",
      "metadata": {
        "id": "IkoekDkOdZc0",
        "colab_type": "code",
        "colab": {}
      },
      "source": [
        "#70|30\n",
        "X_train, X_test, y_train, y_test = train_test_split(X, y, test_size=0.3, random_state=13)"
      ],
      "execution_count": 0,
      "outputs": []
    },
    {
      "cell_type": "code",
      "metadata": {
        "id": "F2sfC9Rgd3px",
        "colab_type": "code",
        "outputId": "34967041-78b3-4add-9805-8fb89828aae5",
        "colab": {
          "base_uri": "https://localhost:8080/",
          "height": 35
        }
      },
      "source": [
        "print(X_train.shape,\n",
        "     X_test.shape,\n",
        "     y_train.shape,\n",
        "     y_test.shape)"
      ],
      "execution_count": 114,
      "outputs": [
        {
          "output_type": "stream",
          "text": [
            "(5737, 108) (2460, 108) (5737,) (2460,)\n"
          ],
          "name": "stdout"
        }
      ]
    },
    {
      "cell_type": "code",
      "metadata": {
        "id": "R1zrpKJficE_",
        "colab_type": "code",
        "outputId": "a5348b4f-d850-4d5e-bd27-7619d8341e68",
        "colab": {
          "base_uri": "https://localhost:8080/",
          "height": 147
        }
      },
      "source": [
        "#Checando o dataset após os pré-processamentos:\n",
        "X_train.head(1)"
      ],
      "execution_count": 117,
      "outputs": [
        {
          "output_type": "execute_result",
          "data": {
            "text/html": [
              "<div>\n",
              "<style scoped>\n",
              "    .dataframe tbody tr th:only-of-type {\n",
              "        vertical-align: middle;\n",
              "    }\n",
              "\n",
              "    .dataframe tbody tr th {\n",
              "        vertical-align: top;\n",
              "    }\n",
              "\n",
              "    .dataframe thead th {\n",
              "        text-align: right;\n",
              "    }\n",
              "</style>\n",
              "<table border=\"1\" class=\"dataframe\">\n",
              "  <thead>\n",
              "    <tr style=\"text-align: right;\">\n",
              "      <th></th>\n",
              "      <th>Reviews</th>\n",
              "      <th>Size(M)</th>\n",
              "      <th>MinimumInstalls</th>\n",
              "      <th>Price($)</th>\n",
              "      <th>isFamily</th>\n",
              "      <th>Reviews_log10</th>\n",
              "      <th>Size(M)_log10</th>\n",
              "      <th>Price($)_log10</th>\n",
              "      <th>price_reviews</th>\n",
              "      <th>price_reviews_log10</th>\n",
              "      <th>CATEGORY_ART_AND_DESIGN</th>\n",
              "      <th>CATEGORY_AUTO_AND_VEHICLES</th>\n",
              "      <th>CATEGORY_BEAUTY</th>\n",
              "      <th>CATEGORY_BOOKS_AND_REFERENCE</th>\n",
              "      <th>CATEGORY_BUSINESS</th>\n",
              "      <th>CATEGORY_COMICS</th>\n",
              "      <th>CATEGORY_COMMUNICATION</th>\n",
              "      <th>CATEGORY_DATING</th>\n",
              "      <th>CATEGORY_EDUCATION</th>\n",
              "      <th>CATEGORY_ENTERTAINMENT</th>\n",
              "      <th>CATEGORY_EVENTS</th>\n",
              "      <th>CATEGORY_FINANCE</th>\n",
              "      <th>CATEGORY_FOOD_AND_DRINK</th>\n",
              "      <th>CATEGORY_GAME</th>\n",
              "      <th>CATEGORY_HEALTH_AND_FITNESS</th>\n",
              "      <th>CATEGORY_HOUSE_AND_HOME</th>\n",
              "      <th>CATEGORY_LIBRARIES_AND_DEMO</th>\n",
              "      <th>CATEGORY_LIFESTYLE</th>\n",
              "      <th>CATEGORY_MAPS_AND_NAVIGATION</th>\n",
              "      <th>CATEGORY_MEDICAL</th>\n",
              "      <th>CATEGORY_MUSIC &amp; AUDIO</th>\n",
              "      <th>CATEGORY_NEWS_AND_MAGAZINES</th>\n",
              "      <th>CATEGORY_PARENTING</th>\n",
              "      <th>CATEGORY_PERSONALIZATION</th>\n",
              "      <th>CATEGORY_PHOTOGRAPHY</th>\n",
              "      <th>CATEGORY_PRODUCTIVITY</th>\n",
              "      <th>CATEGORY_SHOPPING</th>\n",
              "      <th>CATEGORY_SOCIAL</th>\n",
              "      <th>CATEGORY_SPORTS</th>\n",
              "      <th>CATEGORY_TOOLS</th>\n",
              "      <th>...</th>\n",
              "      <th>ANDROID_VER_4.2 and up</th>\n",
              "      <th>ANDROID_VER_4.3 and up</th>\n",
              "      <th>ANDROID_VER_4.4 and up</th>\n",
              "      <th>ANDROID_VER_4.4W and up</th>\n",
              "      <th>ANDROID_VER_5.0 - 6.0</th>\n",
              "      <th>ANDROID_VER_5.0 - 8.0</th>\n",
              "      <th>ANDROID_VER_5.0 and up</th>\n",
              "      <th>ANDROID_VER_5.1 and up</th>\n",
              "      <th>ANDROID_VER_6.0 and up</th>\n",
              "      <th>ANDROID_VER_7.0 - 7.1.1</th>\n",
              "      <th>ANDROID_VER_7.0 and up</th>\n",
              "      <th>ANDROID_VER_7.1 and up</th>\n",
              "      <th>ANDROID_VER_8.0 and up</th>\n",
              "      <th>ANDROID_VER_Undefined</th>\n",
              "      <th>ANDROID_VER_Varies with device</th>\n",
              "      <th>FAMILY_CATEGORY_ACTION &amp; ADVENTURE</th>\n",
              "      <th>FAMILY_CATEGORY_BRAIN GAMES</th>\n",
              "      <th>FAMILY_CATEGORY_CREATIVITY</th>\n",
              "      <th>FAMILY_CATEGORY_EDUCATION</th>\n",
              "      <th>FAMILY_CATEGORY_MUSIC &amp; VIDEO</th>\n",
              "      <th>FAMILY_CATEGORY_NO FAMILY</th>\n",
              "      <th>FAMILY_CATEGORY_PRETEND PLAY</th>\n",
              "      <th>GAME_CATEGORY_ACTION</th>\n",
              "      <th>GAME_CATEGORY_ADVENTURE</th>\n",
              "      <th>GAME_CATEGORY_ARCADE</th>\n",
              "      <th>GAME_CATEGORY_BOARD</th>\n",
              "      <th>GAME_CATEGORY_CARD</th>\n",
              "      <th>GAME_CATEGORY_CASINO</th>\n",
              "      <th>GAME_CATEGORY_CASUAL</th>\n",
              "      <th>GAME_CATEGORY_EDUCATIONAL</th>\n",
              "      <th>GAME_CATEGORY_MUSIC</th>\n",
              "      <th>GAME_CATEGORY_NO GAME</th>\n",
              "      <th>GAME_CATEGORY_PUZZLE</th>\n",
              "      <th>GAME_CATEGORY_RACING</th>\n",
              "      <th>GAME_CATEGORY_ROLE PLAYING</th>\n",
              "      <th>GAME_CATEGORY_SIMULATION</th>\n",
              "      <th>GAME_CATEGORY_SPORTS</th>\n",
              "      <th>GAME_CATEGORY_STRATEGY</th>\n",
              "      <th>GAME_CATEGORY_TRIVIA</th>\n",
              "      <th>GAME_CATEGORY_WORD</th>\n",
              "    </tr>\n",
              "  </thead>\n",
              "  <tbody>\n",
              "    <tr>\n",
              "      <th>3723</th>\n",
              "      <td>0.000000</td>\n",
              "      <td>0.034000</td>\n",
              "      <td>0.000001</td>\n",
              "      <td>0.000000</td>\n",
              "      <td>0.000000</td>\n",
              "      <td>0.120899</td>\n",
              "      <td>0.639236</td>\n",
              "      <td>0.001675</td>\n",
              "      <td>0.000000</td>\n",
              "      <td>0.754827</td>\n",
              "      <td>0</td>\n",
              "      <td>0</td>\n",
              "      <td>0</td>\n",
              "      <td>0</td>\n",
              "      <td>1</td>\n",
              "      <td>0</td>\n",
              "      <td>0</td>\n",
              "      <td>0</td>\n",
              "      <td>0</td>\n",
              "      <td>0</td>\n",
              "      <td>0</td>\n",
              "      <td>0</td>\n",
              "      <td>0</td>\n",
              "      <td>0</td>\n",
              "      <td>0</td>\n",
              "      <td>0</td>\n",
              "      <td>0</td>\n",
              "      <td>0</td>\n",
              "      <td>0</td>\n",
              "      <td>0</td>\n",
              "      <td>0</td>\n",
              "      <td>0</td>\n",
              "      <td>0</td>\n",
              "      <td>0</td>\n",
              "      <td>0</td>\n",
              "      <td>0</td>\n",
              "      <td>0</td>\n",
              "      <td>0</td>\n",
              "      <td>0</td>\n",
              "      <td>0</td>\n",
              "      <td>...</td>\n",
              "      <td>0</td>\n",
              "      <td>0</td>\n",
              "      <td>0</td>\n",
              "      <td>0</td>\n",
              "      <td>0</td>\n",
              "      <td>0</td>\n",
              "      <td>0</td>\n",
              "      <td>0</td>\n",
              "      <td>0</td>\n",
              "      <td>0</td>\n",
              "      <td>0</td>\n",
              "      <td>0</td>\n",
              "      <td>0</td>\n",
              "      <td>0</td>\n",
              "      <td>0</td>\n",
              "      <td>0</td>\n",
              "      <td>0</td>\n",
              "      <td>0</td>\n",
              "      <td>0</td>\n",
              "      <td>0</td>\n",
              "      <td>1</td>\n",
              "      <td>0</td>\n",
              "      <td>0</td>\n",
              "      <td>0</td>\n",
              "      <td>0</td>\n",
              "      <td>0</td>\n",
              "      <td>0</td>\n",
              "      <td>0</td>\n",
              "      <td>0</td>\n",
              "      <td>0</td>\n",
              "      <td>0</td>\n",
              "      <td>1</td>\n",
              "      <td>0</td>\n",
              "      <td>0</td>\n",
              "      <td>0</td>\n",
              "      <td>0</td>\n",
              "      <td>0</td>\n",
              "      <td>0</td>\n",
              "      <td>0</td>\n",
              "      <td>0</td>\n",
              "    </tr>\n",
              "  </tbody>\n",
              "</table>\n",
              "<p>1 rows × 108 columns</p>\n",
              "</div>"
            ],
            "text/plain": [
              "                  Reviews  ...  GAME_CATEGORY_WORD\n",
              "3723             0.000000  ...                   0\n",
              "\n",
              "[1 rows x 108 columns]"
            ]
          },
          "metadata": {
            "tags": []
          },
          "execution_count": 117
        }
      ]
    },
    {
      "cell_type": "markdown",
      "metadata": {
        "id": "cZpnHWqp8hoN",
        "colab_type": "text"
      },
      "source": [
        "###Regressão Linear"
      ]
    },
    {
      "cell_type": "markdown",
      "metadata": {
        "id": "fT8SIodfAzzQ",
        "colab_type": "text"
      },
      "source": [
        "O primeiro algoritmo a ser testado é um dos mais simples de todos: a Regressão Linear. Inicialmente serão usadas as features a princípio numéricas, em seguida também serão incrementadas as transformações logarítmicas e por fim as originalmente categóricas(convertidas para dummies)."
      ]
    },
    {
      "cell_type": "code",
      "metadata": {
        "id": "GuRv6H70lCTG",
        "colab_type": "code",
        "colab": {}
      },
      "source": [
        "from sklearn.linear_model import LinearRegression\n",
        "from sklearn.metrics import mean_squared_error, r2_score, mean_absolute_error, mean_squared_log_error"
      ],
      "execution_count": 0,
      "outputs": []
    },
    {
      "cell_type": "code",
      "metadata": {
        "id": "abrcQCQC9o3P",
        "colab_type": "code",
        "colab": {}
      },
      "source": [
        "#https://stats.stackexchange.com/questions/58391/mean-absolute-percentage-error-mape-in-scikit-learn\n",
        "def mean_absolute_percentage_error(y_true, y_pred): \n",
        "    y_true, y_pred = np.array(y_true), np.array(y_pred)\n",
        "    return np.mean(np.abs((y_true - y_pred) / y_true)) * 100"
      ],
      "execution_count": 0,
      "outputs": []
    },
    {
      "cell_type": "markdown",
      "metadata": {
        "id": "h_YuLth3BPUl",
        "colab_type": "text"
      },
      "source": [
        "Será usada a função abaixo para um resumo dos resultados usando diferentes métricas de desempenho para regressão. Para análise de viés e variância para simplificação só será considerado o MSE."
      ]
    },
    {
      "cell_type": "code",
      "metadata": {
        "id": "m3ivgj7f-pM3",
        "colab_type": "code",
        "colab": {}
      },
      "source": [
        "def summary_results(y_true, y_pred):\n",
        "  print(f'MSE: {mean_squared_error(y_true, y_pred)}',\n",
        "        f'MAE: {mean_absolute_error(y_true, y_pred)}',\n",
        "        f'R^2: {r2_score(y_true, y_pred)}',\n",
        "        f'MSLE: {mean_squared_log_error(y_true, y_pred)}',\n",
        "        f'MAPE: {mean_absolute_percentage_error(y_true, y_pred)}',\n",
        "        sep='\\n')"
      ],
      "execution_count": 0,
      "outputs": []
    },
    {
      "cell_type": "code",
      "metadata": {
        "id": "8FYYrUVwmVQi",
        "colab_type": "code",
        "colab": {}
      },
      "source": [
        "#Criando a primeira Regressão Linear:\n",
        "reg1 = LinearRegression()"
      ],
      "execution_count": 0,
      "outputs": []
    },
    {
      "cell_type": "code",
      "metadata": {
        "id": "DheX3kiemaJM",
        "colab_type": "code",
        "outputId": "5d6b6843-c627-46c2-ffa9-57cf179250e4",
        "colab": {
          "base_uri": "https://localhost:8080/",
          "height": 35
        }
      },
      "source": [
        "#Regressão Linear só para testar com features originalmente numéricas:\n",
        "reg1.fit(X_train.loc[:,['Reviews', 'Size(M)', 'MinimumInstalls', 'Price($)', 'isFamily']], y_train)"
      ],
      "execution_count": 122,
      "outputs": [
        {
          "output_type": "execute_result",
          "data": {
            "text/plain": [
              "LinearRegression(copy_X=True, fit_intercept=True, n_jobs=None, normalize=False)"
            ]
          },
          "metadata": {
            "tags": []
          },
          "execution_count": 122
        }
      ]
    },
    {
      "cell_type": "code",
      "metadata": {
        "id": "_QbjGiPRYgWq",
        "colab_type": "code",
        "colab": {}
      },
      "source": [
        "y_pred1 = reg1.predict(X_test.loc[:, ['Reviews', 'Size(M)', 'MinimumInstalls', 'Price($)', 'isFamily']])"
      ],
      "execution_count": 0,
      "outputs": []
    },
    {
      "cell_type": "markdown",
      "metadata": {
        "id": "H8b_W1ufCedh",
        "colab_type": "text"
      },
      "source": [
        "Para essa primeira predição temos um MAE e MSE um tanto elevados. O R^2 score indica pouca explicabilidade dos dados e o MAPE, que indica a porcentagem quanto longe estão os valores de seus outputs, em média. "
      ]
    },
    {
      "cell_type": "code",
      "metadata": {
        "id": "0zx1Q4jb_xSl",
        "colab_type": "code",
        "colab": {
          "base_uri": "https://localhost:8080/",
          "height": 109
        },
        "outputId": "607428ee-f17d-4fc0-e694-96a2b58f71e5"
      },
      "source": [
        "summary_results(y_test, y_pred1)"
      ],
      "execution_count": 124,
      "outputs": [
        {
          "output_type": "stream",
          "text": [
            "MSE: 0.27831534835195215\n",
            "MAE: 0.3773348433287764\n",
            "R^2: 0.0021124000549836985\n",
            "MSLE: 0.013866859524824885\n",
            "MAPE: 10.73031923292527\n"
          ],
          "name": "stdout"
        }
      ]
    },
    {
      "cell_type": "code",
      "metadata": {
        "id": "TphgfKdMZC15",
        "colab_type": "code",
        "colab": {}
      },
      "source": [
        "test_error1 = mean_squared_error(y_test, y_pred1)"
      ],
      "execution_count": 0,
      "outputs": []
    },
    {
      "cell_type": "markdown",
      "metadata": {
        "id": "uI73oS-zDdeo",
        "colab_type": "text"
      },
      "source": [
        "Está sendo definido um valor target aqui de 15% para todas as análises no projeto para o cálculo de viés e variância."
      ]
    },
    {
      "cell_type": "code",
      "metadata": {
        "id": "5_x_elLqF59_",
        "colab_type": "code",
        "colab": {}
      },
      "source": [
        "target_error = 0.15"
      ],
      "execution_count": 0,
      "outputs": []
    },
    {
      "cell_type": "markdown",
      "metadata": {
        "id": "PU_6wwMJ-FUt",
        "colab_type": "text"
      },
      "source": [
        "Observamos um alto viés talvez indicando underfitting indicando que o modelo escolhido foi muito simples para capturar a complexidade dos dados(não linearidades). É normal utilizar na Regressão Linear variáveis transformadas para melhorar o desempenho e elas serão usadas em aplicadas em log. "
      ]
    },
    {
      "cell_type": "code",
      "metadata": {
        "colab_type": "code",
        "outputId": "6c96ad26-bf8e-4c62-f60e-0723f873e810",
        "id": "a0K37g3f-Dzx",
        "colab": {
          "base_uri": "https://localhost:8080/",
          "height": 35
        }
      },
      "source": [
        "#Calculando o viés e a variância para alvo de 15% de erro:\n",
        "y_train_pred1 = reg1.predict(X_train.loc[:,['Reviews', 'Size(M)', 'MinimumInstalls', 'Price($)', 'isFamily']])\n",
        "train_error1 = mean_squared_error(y_train, y_train_pred1)\n",
        "print(f'Viés: {train_error1-target_error} ; Variância: {test_error1-train_error1}')"
      ],
      "execution_count": 127,
      "outputs": [
        {
          "output_type": "stream",
          "text": [
            "Viés: 0.14049939233589767 ; Variância: -0.012184043983945514\n"
          ],
          "name": "stdout"
        }
      ]
    },
    {
      "cell_type": "code",
      "metadata": {
        "id": "x1KThlKRaHsc",
        "colab_type": "code",
        "colab": {}
      },
      "source": [
        "#Agora também serão usadas features com log\n",
        "reg2 = LinearRegression()\n",
        "reg2.fit(X_train.loc[:,['Reviews', 'Size(M)', 'MinimumInstalls', 'Price($)', \n",
        "                        'isFamily','Reviews_log10', 'Size(M)_log10', 'Price($)_log10', \n",
        "                        'price_reviews', 'price_reviews_log10']], y_train)\n",
        "y_pred2 = reg2.predict(X_test.loc[:,['Reviews', 'Size(M)', 'MinimumInstalls', 'Price($)', \n",
        "                        'isFamily','Reviews_log10', 'Size(M)_log10', 'Price($)_log10', \n",
        "                        'price_reviews', 'price_reviews_log10']])"
      ],
      "execution_count": 0,
      "outputs": []
    },
    {
      "cell_type": "markdown",
      "metadata": {
        "id": "Q-rPpRWjAOmQ",
        "colab_type": "text"
      },
      "source": [
        "Observa-se uma melhoria ao modelo anterior mas ainda não muito significativa. Em seguida usaremos as variáveis categóricas convertidas em dummies."
      ]
    },
    {
      "cell_type": "code",
      "metadata": {
        "id": "dqVP1jQ2Efw-",
        "colab_type": "code",
        "colab": {
          "base_uri": "https://localhost:8080/",
          "height": 109
        },
        "outputId": "cf2690f6-2da8-4869-b5dd-22d79d332883"
      },
      "source": [
        "summary_results(y_test, y_pred2)"
      ],
      "execution_count": 129,
      "outputs": [
        {
          "output_type": "stream",
          "text": [
            "MSE: 0.27177415616584005\n",
            "MAE: 0.36919380034194427\n",
            "R^2: 0.02556556068744764\n",
            "MSLE: 0.013392825666617682\n",
            "MAPE: 10.38095628791456\n"
          ],
          "name": "stdout"
        }
      ]
    },
    {
      "cell_type": "code",
      "metadata": {
        "id": "8CZ47ur2qS6k",
        "colab_type": "code",
        "colab": {}
      },
      "source": [
        "test_error2 = mean_squared_error(y_test, y_pred2)"
      ],
      "execution_count": 0,
      "outputs": []
    },
    {
      "cell_type": "markdown",
      "metadata": {
        "id": "6VSJd92HAhsm",
        "colab_type": "text"
      },
      "source": [
        "Aqui o gráfico de resíduos. Percebemos que os dados não necessariamente seguem as hipóteses da Regressão Linear."
      ]
    },
    {
      "cell_type": "code",
      "metadata": {
        "id": "pATFMhokuc2H",
        "colab_type": "code",
        "outputId": "c7b9890f-9f52-4510-ad0c-f1984d02ea91",
        "colab": {
          "base_uri": "https://localhost:8080/",
          "height": 292
        }
      },
      "source": [
        "sns.set(style=\"whitegrid\")\n",
        "sns.residplot(y_pred2, y_test, color=\"r\")"
      ],
      "execution_count": 131,
      "outputs": [
        {
          "output_type": "execute_result",
          "data": {
            "text/plain": [
              "<matplotlib.axes._subplots.AxesSubplot at 0x7f9b29677a58>"
            ]
          },
          "metadata": {
            "tags": []
          },
          "execution_count": 131
        },
        {
          "output_type": "display_data",
          "data": {
            "image/png": "[encoded data removed]",
            "text/plain": [
              "<Figure size 432x288 with 1 Axes>"
            ]
          },
          "metadata": {
            "tags": []
          }
        }
      ]
    },
    {
      "cell_type": "markdown",
      "metadata": {
        "id": "sBcDLKEAA04r",
        "colab_type": "text"
      },
      "source": [
        "O viés foi reduzido significando que certas não linearidades foram capturadas desta vez que não foram na anterior."
      ]
    },
    {
      "cell_type": "code",
      "metadata": {
        "id": "JuNW7nEWG0W6",
        "colab_type": "code",
        "outputId": "19bea47b-e7bb-43c1-8e53-8e831fc2d4f9",
        "colab": {
          "base_uri": "https://localhost:8080/",
          "height": 35
        }
      },
      "source": [
        "#Calculando o viés e a variância para alvo de 15% de erro:\n",
        "y_train_pred2 = reg2.predict(X_train.loc[:,['Reviews', 'Size(M)', 'MinimumInstalls', \n",
        "                        'Price($)', 'isFamily','Reviews_log10', 'Size(M)_log10', \n",
        "                        'Price($)_log10', 'price_reviews', 'price_reviews_log10']])\n",
        "train_error2 = mean_squared_error(y_train, y_train_pred2)\n",
        "print(f'Viés: {train_error2-target_error} ; Variância: {test_error2-train_error2}')"
      ],
      "execution_count": 132,
      "outputs": [
        {
          "output_type": "stream",
          "text": [
            "Viés: 0.12817847629083742 ; Variância: -0.006404320124997365\n"
          ],
          "name": "stdout"
        }
      ]
    },
    {
      "cell_type": "markdown",
      "metadata": {
        "id": "xXBMOwmUPK7B",
        "colab_type": "text"
      },
      "source": [
        "Nesta última Regressão todas as variáveis foram utilizadas mas ficou evidente que os erros estão bastante elevados e o R^2 está negativa indicando que este modelo não está seguindo a distribuição dos dados. Isto foi decorrente de que nesta última modelagem apareceram 3 predições negativas(com valores extremamente baixos). Podem ser feitas Seleção de Features para contornar o problema mas será optado por investigar outros métodos que façam bagging ou boosting."
      ]
    },
    {
      "cell_type": "code",
      "metadata": {
        "id": "qMyHipvmvdas",
        "colab_type": "code",
        "outputId": "8ee7e52d-095b-45cd-875f-2c661e1da89c",
        "colab": {
          "base_uri": "https://localhost:8080/",
          "height": 324
        }
      },
      "source": [
        "reg3 = LinearRegression()\n",
        "reg3.fit(X_train, y_train)\n",
        "y_pred3 = reg3.predict(X_test)\n",
        "test_error3 = mean_squared_error(y_test, y_pred3)\n",
        "print(f'MSE: {test_error3}; R^2: {r2_score(y_test, y_pred3)}; MAE: {mean_absolute_error(y_test,y_pred3)}')\n",
        "sns.residplot(y_pred3, y_test, color='r')"
      ],
      "execution_count": 225,
      "outputs": [
        {
          "output_type": "stream",
          "text": [
            "MSE: 5.762371725693546e+19; R^2: -2.0660733679954166e+20; MAE: 265090222.5974936\n"
          ],
          "name": "stdout"
        },
        {
          "output_type": "execute_result",
          "data": {
            "text/plain": [
              "<matplotlib.axes._subplots.AxesSubplot at 0x7f9b249d3f28>"
            ]
          },
          "metadata": {
            "tags": []
          },
          "execution_count": 225
        },
        {
          "output_type": "display_data",
          "data": {
            "image/png": "[encoded data removed]",
            "text/plain": [
              "<Figure size 432x288 with 1 Axes>"
            ]
          },
          "metadata": {
            "tags": []
          }
        }
      ]
    },
    {
      "cell_type": "markdown",
      "metadata": {
        "id": "_5TLXfGjRnXV",
        "colab_type": "text"
      },
      "source": [
        "Um viés não muito diferente dos valores acima mas uma alta variância."
      ]
    },
    {
      "cell_type": "code",
      "metadata": {
        "id": "TkBMqXxAAku6",
        "colab_type": "code",
        "outputId": "fac5a875-2a5b-4c3a-e207-2c7263be45eb",
        "colab": {
          "base_uri": "https://localhost:8080/",
          "height": 35
        }
      },
      "source": [
        "#Calculando o viés e a variância para alvo de 15% de erro:\n",
        "y_train_pred3 = reg3.predict(X_train)\n",
        "train_error3 = mean_squared_error(y_train, y_train_pred3)\n",
        "print(f'Viés: {train_error3-target_error} ; Variância: {test_error3-train_error3}')"
      ],
      "execution_count": 135,
      "outputs": [
        {
          "output_type": "stream",
          "text": [
            "Viés: 0.11233684505335503 ; Variância: 5.762371725693546e+19\n"
          ],
          "name": "stdout"
        }
      ]
    },
    {
      "cell_type": "markdown",
      "metadata": {
        "id": "PRp6UyKlEyCG",
        "colab_type": "text"
      },
      "source": [
        "###Random Forest"
      ]
    },
    {
      "cell_type": "markdown",
      "metadata": {
        "id": "8tDK9PwBSI0V",
        "colab_type": "text"
      },
      "source": [
        "Agora serão realizados experimentos com Random Forest que utiliza a técnica bagging(bootstrap aggregating) a qual selecionará um subconjunto de features aleatoriamente para cada diferente estimador(decision tree) e no final usará uma regra de decisão baseada nos resultados."
      ]
    },
    {
      "cell_type": "code",
      "metadata": {
        "id": "u47bWb5gNgT8",
        "colab_type": "code",
        "colab": {}
      },
      "source": [
        "from sklearn.ensemble import RandomForestRegressor"
      ],
      "execution_count": 0,
      "outputs": []
    },
    {
      "cell_type": "code",
      "metadata": {
        "id": "zLuPJdkYQA0R",
        "colab_type": "code",
        "outputId": "aa2c2895-6f47-422d-822a-e90625975aa9",
        "colab": {
          "base_uri": "https://localhost:8080/",
          "height": 146
        }
      },
      "source": [
        "#Primeira Random Forest com 10 Decision Trees\n",
        "reg1 = RandomForestRegressor(n_estimators=10, random_state=13)\n",
        "reg1"
      ],
      "execution_count": 233,
      "outputs": [
        {
          "output_type": "execute_result",
          "data": {
            "text/plain": [
              "RandomForestRegressor(bootstrap=True, criterion='mse', max_depth=None,\n",
              "                      max_features='auto', max_leaf_nodes=None,\n",
              "                      min_impurity_decrease=0.0, min_impurity_split=None,\n",
              "                      min_samples_leaf=1, min_samples_split=2,\n",
              "                      min_weight_fraction_leaf=0.0, n_estimators=10,\n",
              "                      n_jobs=None, oob_score=False, random_state=13, verbose=0,\n",
              "                      warm_start=False)"
            ]
          },
          "metadata": {
            "tags": []
          },
          "execution_count": 233
        }
      ]
    },
    {
      "cell_type": "markdown",
      "metadata": {
        "id": "BZ2QK28qSxWi",
        "colab_type": "text"
      },
      "source": [
        "Uma curiosidade é saber as features mais importantes segundo o algoritmo em questão. Vemos que Reviews_log10 tem maior impacto seguido de MinimumInstalls e Size(M). "
      ]
    },
    {
      "cell_type": "code",
      "metadata": {
        "id": "_5RGyo_QQ9D8",
        "colab_type": "code",
        "outputId": "ffde1d24-5938-43fd-a00e-d895e8d6287b",
        "colab": {
          "base_uri": "https://localhost:8080/",
          "height": 426
        }
      },
      "source": [
        "reg1.fit(X_train, y_train)\n",
        "feat_importances = pd.DataFrame(reg1.feature_importances_, index=X.columns, \n",
        "                                columns=['Importance']).sort_values(by='Importance', \n",
        "                                                                    ascending=False)\n",
        "feat_importances.head(10).plot.bar(color='gold')"
      ],
      "execution_count": 234,
      "outputs": [
        {
          "output_type": "execute_result",
          "data": {
            "text/plain": [
              "<matplotlib.axes._subplots.AxesSubplot at 0x7f9b25d054a8>"
            ]
          },
          "metadata": {
            "tags": []
          },
          "execution_count": 234
        },
        {
          "output_type": "display_data",
          "data": {
            "image/png": "[encoded data removed]",
            "text/plain": [
              "<Figure size 432x288 with 1 Axes>"
            ]
          },
          "metadata": {
            "tags": []
          }
        }
      ]
    },
    {
      "cell_type": "markdown",
      "metadata": {
        "id": "9P8V-FgcTWw2",
        "colab_type": "text"
      },
      "source": [
        "As métricas estão semelhantes aos experimentos anteriores mas a variância está elevada."
      ]
    },
    {
      "cell_type": "code",
      "metadata": {
        "id": "OlT9PhSDVmah",
        "colab_type": "code",
        "outputId": "061408b1-ea8d-4d58-97a2-47e9f1ff2e4d",
        "colab": {
          "base_uri": "https://localhost:8080/",
          "height": 109
        }
      },
      "source": [
        "y_pred1 = reg1.predict(X_test)\n",
        "y_train_pred1 = reg1.predict(X_train)\n",
        "\n",
        "train_error1 = mean_squared_error(y_train, y_train_pred1)\n",
        "test_error1 = mean_squared_error(y_test, y_pred1)\n",
        "\n",
        "summary_results(y_test, y_pred1)"
      ],
      "execution_count": 236,
      "outputs": [
        {
          "output_type": "stream",
          "text": [
            "MSE: 0.2924131571815718\n",
            "MAE: 0.36152981029810305\n",
            "R^2: -0.04843468152271879\n",
            "MSLE: 0.01465169952506857\n",
            "MAPE: 10.343752548564629\n"
          ],
          "name": "stdout"
        }
      ]
    },
    {
      "cell_type": "code",
      "metadata": {
        "id": "Y8OA4qkbVzSb",
        "colab_type": "code",
        "outputId": "b80567ae-837c-4851-ce9f-841887aac550",
        "colab": {
          "base_uri": "https://localhost:8080/",
          "height": 35
        }
      },
      "source": [
        "print(f'Viés: {train_error1-target_error} ; Variância: {test_error1-train_error1}')"
      ],
      "execution_count": 237,
      "outputs": [
        {
          "output_type": "stream",
          "text": [
            "Viés: -0.10139057440009296 ; Variância: 0.24380373158166474\n"
          ],
          "name": "stdout"
        }
      ]
    },
    {
      "cell_type": "code",
      "metadata": {
        "id": "fxwcA0-ExTkT",
        "colab_type": "code",
        "outputId": "48081ffc-ccec-4e39-fed0-5218b11a12fb",
        "colab": {
          "base_uri": "https://localhost:8080/",
          "height": 292
        }
      },
      "source": [
        "sns.residplot(y_pred1, y_test, color='r')"
      ],
      "execution_count": 238,
      "outputs": [
        {
          "output_type": "execute_result",
          "data": {
            "text/plain": [
              "<matplotlib.axes._subplots.AxesSubplot at 0x7f9b248e8320>"
            ]
          },
          "metadata": {
            "tags": []
          },
          "execution_count": 238
        },
        {
          "output_type": "display_data",
          "data": {
            "image/png": "[encoded data removed]",
            "text/plain": [
              "<Figure size 432x288 with 1 Axes>"
            ]
          },
          "metadata": {
            "tags": []
          }
        }
      ]
    },
    {
      "cell_type": "markdown",
      "metadata": {
        "id": "lK0Tf12wTlAL",
        "colab_type": "text"
      },
      "source": [
        "10 estimadores pode ser pouco para esse problema então agora será tentado com 100."
      ]
    },
    {
      "cell_type": "code",
      "metadata": {
        "id": "zKN4-_ofaIMY",
        "colab_type": "code",
        "outputId": "eb6e15d3-f48d-44de-9a64-848d1fd37795",
        "colab": {
          "base_uri": "https://localhost:8080/",
          "height": 109
        }
      },
      "source": [
        "reg2 = RandomForestRegressor(n_estimators=100, random_state=13)\n",
        "reg2.fit(X_train, y_train)\n",
        "\n",
        "y_pred2 = reg2.predict(X_test)\n",
        "y_train_pred2 = reg2.predict(X_train)\n",
        "\n",
        "train_error2 = mean_squared_error(y_train, y_train_pred2)\n",
        "test_error2 = mean_squared_error(y_test, y_pred2)\n",
        "\n",
        "summary_results(y_test, y_pred2)"
      ],
      "execution_count": 239,
      "outputs": [
        {
          "output_type": "stream",
          "text": [
            "MSE: 0.2716447973840334\n",
            "MAE: 0.349436849593496\n",
            "R^2: 0.02602937098419633\n",
            "MSLE: 0.013745088657708088\n",
            "MAPE: 10.060820692949033\n"
          ],
          "name": "stdout"
        }
      ]
    },
    {
      "cell_type": "markdown",
      "metadata": {
        "id": "sCNb8DeLT3_a",
        "colab_type": "text"
      },
      "source": [
        "É percebida uma melhoria significativa e a variância também caiu."
      ]
    },
    {
      "cell_type": "code",
      "metadata": {
        "id": "LD7pCYJ-bdod",
        "colab_type": "code",
        "outputId": "27184d35-4e06-42ff-c86f-b8ab59417656",
        "colab": {
          "base_uri": "https://localhost:8080/",
          "height": 35
        }
      },
      "source": [
        "print(f'Viés: {train_error2-target_error} ; Variância: {test_error2-train_error2}')"
      ],
      "execution_count": 240,
      "outputs": [
        {
          "output_type": "stream",
          "text": [
            "Viés: -0.11497723706679737 ; Variância: 0.2366220344508308\n"
          ],
          "name": "stdout"
        }
      ]
    },
    {
      "cell_type": "code",
      "metadata": {
        "id": "JNmV_1VIxaWU",
        "colab_type": "code",
        "outputId": "7cd14628-7f23-429a-b00e-f3b72801f88b",
        "colab": {
          "base_uri": "https://localhost:8080/",
          "height": 292
        }
      },
      "source": [
        "sns.residplot(y_pred2, y_test, color='r')"
      ],
      "execution_count": 150,
      "outputs": [
        {
          "output_type": "execute_result",
          "data": {
            "text/plain": [
              "<matplotlib.axes._subplots.AxesSubplot at 0x7f9b25cfc1d0>"
            ]
          },
          "metadata": {
            "tags": []
          },
          "execution_count": 150
        },
        {
          "output_type": "display_data",
          "data": {
            "image/png": "[encoded data removed]",
            "text/plain": [
              "<Figure size 432x288 with 1 Axes>"
            ]
          },
          "metadata": {
            "tags": []
          }
        }
      ]
    },
    {
      "cell_type": "markdown",
      "metadata": {
        "id": "vrdvLF1LUB6b",
        "colab_type": "text"
      },
      "source": [
        "Uma busca de hiperparâmetros será realizada com Random Search para melhorar o desempenho."
      ]
    },
    {
      "cell_type": "code",
      "metadata": {
        "id": "EK1qqfvryUBG",
        "colab_type": "code",
        "colab": {}
      },
      "source": [
        "from sklearn.model_selection import RandomizedSearchCV"
      ],
      "execution_count": 0,
      "outputs": []
    },
    {
      "cell_type": "code",
      "metadata": {
        "id": "grQgSs512Qnq",
        "colab_type": "code",
        "colab": {}
      },
      "source": [
        "param_grid = {\n",
        "    'bootstrap': [True],\n",
        "    'max_depth': [80, 90, 100, 110],\n",
        "    'max_features': [2, 4, 6, 8, 9, 10, 53, 70, 108],\n",
        "    'min_samples_leaf': [1, 2, 3, 4, 5],\n",
        "    'min_samples_split': [2, 4, 8, 10, 12],\n",
        "    'n_estimators': [200, 350, 500, 750, 1000]\n",
        "}"
      ],
      "execution_count": 0,
      "outputs": []
    },
    {
      "cell_type": "code",
      "metadata": {
        "id": "GDB6LWc_3T0s",
        "colab_type": "code",
        "outputId": "48fbbc79-85a9-4a65-824f-f3d04e2e09cf",
        "colab": {
          "base_uri": "https://localhost:8080/",
          "height": 495
        }
      },
      "source": [
        "reg3 = RandomForestRegressor(random_state=13)\n",
        "random_search = RandomizedSearchCV(estimator = reg3, param_distributions = param_grid, \n",
        "                           cv = 5, n_jobs = -1, verbose = 0)\n",
        "random_search.fit(X_train, y_train)"
      ],
      "execution_count": 242,
      "outputs": [
        {
          "output_type": "execute_result",
          "data": {
            "text/plain": [
              "RandomizedSearchCV(cv=5, error_score='raise-deprecating',\n",
              "                   estimator=RandomForestRegressor(bootstrap=True,\n",
              "                                                   criterion='mse',\n",
              "                                                   max_depth=None,\n",
              "                                                   max_features='auto',\n",
              "                                                   max_leaf_nodes=None,\n",
              "                                                   min_impurity_decrease=0.0,\n",
              "                                                   min_impurity_split=None,\n",
              "                                                   min_samples_leaf=1,\n",
              "                                                   min_samples_split=2,\n",
              "                                                   min_weight_fraction_leaf=0.0,\n",
              "                                                   n_estimators='warn',\n",
              "                                                   n_jobs=None, oob_score=False,\n",
              "                                                   random_sta...\n",
              "                                                   warm_start=False),\n",
              "                   iid='warn', n_iter=10, n_jobs=-1,\n",
              "                   param_distributions={'bootstrap': [True],\n",
              "                                        'max_depth': [80, 90, 100, 110],\n",
              "                                        'max_features': [2, 4, 6, 8, 9, 10, 53,\n",
              "                                                         70, 108],\n",
              "                                        'min_samples_leaf': [1, 2, 3, 4, 5],\n",
              "                                        'min_samples_split': [2, 4, 8, 10, 12],\n",
              "                                        'n_estimators': [200, 350, 500, 750,\n",
              "                                                         1000]},\n",
              "                   pre_dispatch='2*n_jobs', random_state=None, refit=True,\n",
              "                   return_train_score=False, scoring=None, verbose=0)"
            ]
          },
          "metadata": {
            "tags": []
          },
          "execution_count": 242
        }
      ]
    },
    {
      "cell_type": "markdown",
      "metadata": {
        "id": "r3B4LXsKU79F",
        "colab_type": "text"
      },
      "source": [
        "É evidente a melhoria das métricas e a queda brusca do MSE e do MAPE assim como o aumento do R^2 significando resultados razoáveis. A variância segue caindo mostrando que Random Forest consegue capturar melhor os dados que uma Regressão Linear."
      ]
    },
    {
      "cell_type": "code",
      "metadata": {
        "id": "9it8N6ZMsGiq",
        "colab_type": "code",
        "outputId": "951aacbc-fbb7-498a-9832-02d8d9fc772c",
        "colab": {
          "base_uri": "https://localhost:8080/",
          "height": 109
        }
      },
      "source": [
        "best_estimator = random_search.best_estimator_\n",
        "y_pred3 = best_estimator.predict(X_test)\n",
        "y_train_pred3 = best_estimator.predict(X_train)\n",
        "\n",
        "train_error3 = mean_squared_error(y_train, y_train_pred3)\n",
        "test_error3 = mean_squared_error(y_test, y_pred3)\n",
        "\n",
        "summary_results(y_test, y_pred3)\n",
        "#train_error3, test_error3, r2_score(y_pred3, y_test)"
      ],
      "execution_count": 243,
      "outputs": [
        {
          "output_type": "stream",
          "text": [
            "MSE: 0.2571140611802593\n",
            "MAE: 0.34501033833262384\n",
            "R^2: 0.07812869486870533\n",
            "MSLE: 0.013038229335312934\n",
            "MAPE: 9.914332714434536\n"
          ],
          "name": "stdout"
        }
      ]
    },
    {
      "cell_type": "code",
      "metadata": {
        "id": "yDT06yS2U4iI",
        "colab_type": "code",
        "outputId": "5a302786-2fff-4a27-f70c-84aff8358ba0",
        "colab": {
          "base_uri": "https://localhost:8080/",
          "height": 311
        }
      },
      "source": [
        "best_estimator.get_params()"
      ],
      "execution_count": 244,
      "outputs": [
        {
          "output_type": "execute_result",
          "data": {
            "text/plain": [
              "{'bootstrap': True,\n",
              " 'criterion': 'mse',\n",
              " 'max_depth': 80,\n",
              " 'max_features': 70,\n",
              " 'max_leaf_nodes': None,\n",
              " 'min_impurity_decrease': 0.0,\n",
              " 'min_impurity_split': None,\n",
              " 'min_samples_leaf': 2,\n",
              " 'min_samples_split': 10,\n",
              " 'min_weight_fraction_leaf': 0.0,\n",
              " 'n_estimators': 500,\n",
              " 'n_jobs': None,\n",
              " 'oob_score': False,\n",
              " 'random_state': 13,\n",
              " 'verbose': 0,\n",
              " 'warm_start': False}"
            ]
          },
          "metadata": {
            "tags": []
          },
          "execution_count": 244
        }
      ]
    },
    {
      "cell_type": "code",
      "metadata": {
        "id": "mmxRwftQSjvc",
        "colab_type": "code",
        "outputId": "eab7781f-a82b-4b90-dd27-353b8d53cadd",
        "colab": {
          "base_uri": "https://localhost:8080/",
          "height": 292
        }
      },
      "source": [
        "sns.residplot(y_pred3, y_test, color='r')"
      ],
      "execution_count": 245,
      "outputs": [
        {
          "output_type": "execute_result",
          "data": {
            "text/plain": [
              "<matplotlib.axes._subplots.AxesSubplot at 0x7f9b247a4630>"
            ]
          },
          "metadata": {
            "tags": []
          },
          "execution_count": 245
        },
        {
          "output_type": "display_data",
          "data": {
            "image/png": "[encoded data removed]",
            "text/plain": [
              "<Figure size 432x288 with 1 Axes>"
            ]
          },
          "metadata": {
            "tags": []
          }
        }
      ]
    },
    {
      "cell_type": "code",
      "metadata": {
        "id": "21_LhUiiRYZk",
        "colab_type": "code",
        "outputId": "e3c2a878-527d-4629-9768-2ea6258cc741",
        "colab": {
          "base_uri": "https://localhost:8080/",
          "height": 35
        }
      },
      "source": [
        "print(f'Viés: {train_error3-target_error} ; Variância: {test_error3-train_error3}')"
      ],
      "execution_count": 246,
      "outputs": [
        {
          "output_type": "stream",
          "text": [
            "Viés: -0.04038273736786427 ; Variância: 0.1474967985481236\n"
          ],
          "name": "stdout"
        }
      ]
    },
    {
      "cell_type": "markdown",
      "metadata": {
        "id": "rroTbh89E9Ir",
        "colab_type": "text"
      },
      "source": [
        "###Gradient Boosting"
      ]
    },
    {
      "cell_type": "markdown",
      "metadata": {
        "id": "oWTTyjWgVjK_",
        "colab_type": "text"
      },
      "source": [
        "Agora será tentada uma abordagem com Gradient Boosting, onde a técnica em questão, boosting, melhora otimiza as predições treinando novos estimadores baseando nos resíduos dos estimadores anteriores."
      ]
    },
    {
      "cell_type": "code",
      "metadata": {
        "id": "NedaXfAZtvdp",
        "colab_type": "code",
        "colab": {}
      },
      "source": [
        "from sklearn.ensemble import GradientBoostingRegressor"
      ],
      "execution_count": 0,
      "outputs": []
    },
    {
      "cell_type": "code",
      "metadata": {
        "id": "O-L2RWBqNc0H",
        "colab_type": "code",
        "outputId": "c5012362-4e2c-490f-a3b0-7a80e8aafca1",
        "colab": {
          "base_uri": "https://localhost:8080/",
          "height": 182
        }
      },
      "source": [
        "reg1 = GradientBoostingRegressor(random_state=13)\n",
        "reg1.fit(X_train, y_train)"
      ],
      "execution_count": 248,
      "outputs": [
        {
          "output_type": "execute_result",
          "data": {
            "text/plain": [
              "GradientBoostingRegressor(alpha=0.9, criterion='friedman_mse', init=None,\n",
              "                          learning_rate=0.1, loss='ls', max_depth=3,\n",
              "                          max_features=None, max_leaf_nodes=None,\n",
              "                          min_impurity_decrease=0.0, min_impurity_split=None,\n",
              "                          min_samples_leaf=1, min_samples_split=2,\n",
              "                          min_weight_fraction_leaf=0.0, n_estimators=100,\n",
              "                          n_iter_no_change=None, presort='auto',\n",
              "                          random_state=13, subsample=1.0, tol=0.0001,\n",
              "                          validation_fraction=0.1, verbose=0, warm_start=False)"
            ]
          },
          "metadata": {
            "tags": []
          },
          "execution_count": 248
        }
      ]
    },
    {
      "cell_type": "markdown",
      "metadata": {
        "id": "Y5KHJGBWWHjL",
        "colab_type": "text"
      },
      "source": [
        "Para uma primeira vez com os parâmetros default o algoritmo não foi mal comparando com os anteriores. Aliás, isso pode indicar que ele talvez seja melhor para tarefa que Random Forest."
      ]
    },
    {
      "cell_type": "code",
      "metadata": {
        "id": "7g7bmhqCuRs9",
        "colab_type": "code",
        "outputId": "c17c823b-0a63-4b56-b711-156a34da0dab",
        "colab": {
          "base_uri": "https://localhost:8080/",
          "height": 109
        }
      },
      "source": [
        "y_pred1 = reg1.predict(X_test)\n",
        "y_train_pred1 = reg1.predict(X_train)\n",
        "\n",
        "train_error1 = mean_squared_error(y_train, y_train_pred1)\n",
        "test_error1 = mean_squared_error(y_test, y_pred1)\n",
        "\n",
        "summary_results(y_test, y_pred1)"
      ],
      "execution_count": 250,
      "outputs": [
        {
          "output_type": "stream",
          "text": [
            "MSE: 0.2598263252822489\n",
            "MAE: 0.3509919702452181\n",
            "R^2: 0.06840398966944772\n",
            "MSLE: 0.013214053726073842\n",
            "MAPE: 10.045132896066711\n"
          ],
          "name": "stdout"
        }
      ]
    },
    {
      "cell_type": "markdown",
      "metadata": {
        "id": "I27WNBXyWX_O",
        "colab_type": "text"
      },
      "source": [
        "As features mais importantes segundo Gradient Boosting. Com algumas leves diferenças em relação a Random Forest. Mas, também é importante notar o peso maior das 2 primeiras features em questão."
      ]
    },
    {
      "cell_type": "code",
      "metadata": {
        "id": "3OmxvccSQh4o",
        "colab_type": "code",
        "outputId": "e52f76cd-c34b-4f5a-8e55-8a71139e3579",
        "colab": {
          "base_uri": "https://localhost:8080/",
          "height": 452
        }
      },
      "source": [
        "feat_importances = pd.DataFrame(reg1.feature_importances_, index=X.columns, \n",
        "                                columns=['Importance']).sort_values(by='Importance', \n",
        "                                                                    ascending=False)\n",
        "feat_importances.head(10).plot.bar(color='gold')"
      ],
      "execution_count": 251,
      "outputs": [
        {
          "output_type": "execute_result",
          "data": {
            "text/plain": [
              "<matplotlib.axes._subplots.AxesSubplot at 0x7f9b24747fd0>"
            ]
          },
          "metadata": {
            "tags": []
          },
          "execution_count": 251
        },
        {
          "output_type": "display_data",
          "data": {
            "image/png": "[encoded data removed]",
            "text/plain": [
              "<Figure size 432x288 with 1 Axes>"
            ]
          },
          "metadata": {
            "tags": []
          }
        }
      ]
    },
    {
      "cell_type": "markdown",
      "metadata": {
        "id": "VDqwM3XlWwNL",
        "colab_type": "text"
      },
      "source": [
        "Viés e Variância baixos comparados aos algoritmos anteriores. Atenção maior para Variância que conseguiu o menor resultado até agora."
      ]
    },
    {
      "cell_type": "code",
      "metadata": {
        "id": "rNIklLhEagXu",
        "colab_type": "code",
        "outputId": "d2506af7-5da4-4ba8-a87e-d08268fe7ef7",
        "colab": {
          "base_uri": "https://localhost:8080/",
          "height": 35
        }
      },
      "source": [
        "print(f'Viés: {train_error1-target_error} ; Variância: {test_error1-train_error1}')"
      ],
      "execution_count": 252,
      "outputs": [
        {
          "output_type": "stream",
          "text": [
            "Viés: 0.06525393364838833 ; Variância: 0.04457239163386059\n"
          ],
          "name": "stdout"
        }
      ]
    },
    {
      "cell_type": "code",
      "metadata": {
        "id": "zkc3Hykludeg",
        "colab_type": "code",
        "outputId": "f097a31e-a17a-49c1-c006-6a30e7ed1799",
        "colab": {
          "base_uri": "https://localhost:8080/",
          "height": 292
        }
      },
      "source": [
        "sns.residplot(y_pred1, y_test, color='r')"
      ],
      "execution_count": 253,
      "outputs": [
        {
          "output_type": "execute_result",
          "data": {
            "text/plain": [
              "<matplotlib.axes._subplots.AxesSubplot at 0x7f9b24828940>"
            ]
          },
          "metadata": {
            "tags": []
          },
          "execution_count": 253
        },
        {
          "output_type": "display_data",
          "data": {
            "image/png": "[encoded data removed]",
            "text/plain": [
              "<Figure size 432x288 with 1 Axes>"
            ]
          },
          "metadata": {
            "tags": []
          }
        }
      ]
    },
    {
      "cell_type": "code",
      "metadata": {
        "id": "9dhTbc3AGQow",
        "colab_type": "code",
        "colab": {}
      },
      "source": [
        "param_grid = {\n",
        "    'n_estimators': list(range(200, 600, 50)),\n",
        "    'learning_rate': [0.001, 0.005],\n",
        "    'max_depth': [80, 90, 100, 110],\n",
        "    'max_features': [7, 8, 9, 10],\n",
        "    'min_samples_leaf': [2, 4, 6, 8, 10]\n",
        "  }"
      ],
      "execution_count": 0,
      "outputs": []
    },
    {
      "cell_type": "markdown",
      "metadata": {
        "id": "nKYcvLrjXE-O",
        "colab_type": "text"
      },
      "source": [
        "Semelhante ao que foi feito com Random Search será realizada uma busca de hiperparâmetros para melhorar o desempenho."
      ]
    },
    {
      "cell_type": "code",
      "metadata": {
        "id": "0zzM6hk2F5qK",
        "colab_type": "code",
        "outputId": "c46a8904-5395-4650-d84c-e6e44554a0a7",
        "colab": {
          "base_uri": "https://localhost:8080/",
          "height": 166
        }
      },
      "source": [
        "reg2 = GradientBoostingRegressor(random_state=13)\n",
        "random_search = RandomizedSearchCV(estimator = reg2, param_distributions = param_grid, \n",
        "                           cv = 5, n_jobs = -1, verbose = 0)\n",
        "random_search.fit(X_train, y_train)\n",
        "\n",
        "best_estimator = random_search.best_estimator_\n",
        "y_pred2 = best_estimator.predict(X_test)\n",
        "y_train_pred2 = best_estimator.predict(X_train)\n",
        "\n",
        "test_error2 = mean_squared_error(y_test, y_pred2)\n",
        "train_error2 = mean_squared_error(y_train, y_train_pred2)\n",
        "\n",
        "summary_results(y_test, y_pred2)\n",
        "#train_error2, test_error2, r2_score(y_test, y_pred2)"
      ],
      "execution_count": 256,
      "outputs": [
        {
          "output_type": "stream",
          "text": [
            "/usr/local/lib/python3.6/dist-packages/joblib/externals/loky/process_executor.py:706: UserWarning: A worker stopped while some jobs were given to the executor. This can be caused by a too short worker timeout or by a memory leak.\n",
            "  \"timeout or by a memory leak.\", UserWarning\n"
          ],
          "name": "stderr"
        },
        {
          "output_type": "stream",
          "text": [
            "MSE: 0.24568611971258358\n",
            "MAE: 0.34180995258691443\n",
            "R^2: 0.11910308291815641\n",
            "MSLE: 0.012514930041964103\n",
            "MAPE: 9.802665784939073\n"
          ],
          "name": "stdout"
        }
      ]
    },
    {
      "cell_type": "markdown",
      "metadata": {
        "id": "oKrQXJt8aWoL",
        "colab_type": "text"
      },
      "source": [
        "Como esperado, as métricas revelam um progresso. Abaixo percebemos que a variância aumentou um pouco mas continua em um valor aceitável. "
      ]
    },
    {
      "cell_type": "code",
      "metadata": {
        "id": "iAM-8hYszww9",
        "colab_type": "code",
        "outputId": "f27e9da7-ca2f-42d7-e216-38d06df96522",
        "colab": {
          "base_uri": "https://localhost:8080/",
          "height": 421
        }
      },
      "source": [
        "best_estimator.get_params()"
      ],
      "execution_count": 257,
      "outputs": [
        {
          "output_type": "execute_result",
          "data": {
            "text/plain": [
              "{'alpha': 0.9,\n",
              " 'criterion': 'friedman_mse',\n",
              " 'init': None,\n",
              " 'learning_rate': 0.005,\n",
              " 'loss': 'ls',\n",
              " 'max_depth': 90,\n",
              " 'max_features': 10,\n",
              " 'max_leaf_nodes': None,\n",
              " 'min_impurity_decrease': 0.0,\n",
              " 'min_impurity_split': None,\n",
              " 'min_samples_leaf': 8,\n",
              " 'min_samples_split': 2,\n",
              " 'min_weight_fraction_leaf': 0.0,\n",
              " 'n_estimators': 550,\n",
              " 'n_iter_no_change': None,\n",
              " 'presort': 'auto',\n",
              " 'random_state': 13,\n",
              " 'subsample': 1.0,\n",
              " 'tol': 0.0001,\n",
              " 'validation_fraction': 0.1,\n",
              " 'verbose': 0,\n",
              " 'warm_start': False}"
            ]
          },
          "metadata": {
            "tags": []
          },
          "execution_count": 257
        }
      ]
    },
    {
      "cell_type": "code",
      "metadata": {
        "id": "KD8Tn5Srb86G",
        "colab_type": "code",
        "outputId": "d264a729-2f75-4c49-8262-c34cf6e64c99",
        "colab": {
          "base_uri": "https://localhost:8080/",
          "height": 35
        }
      },
      "source": [
        "print(f'Viés: {train_error2-target_error} ; Variância: {test_error2-train_error2}')"
      ],
      "execution_count": 258,
      "outputs": [
        {
          "output_type": "stream",
          "text": [
            "Viés: 0.0035967794630457905 ; Variância: 0.0920893402495378\n"
          ],
          "name": "stdout"
        }
      ]
    },
    {
      "cell_type": "markdown",
      "metadata": {
        "id": "vRwVXy02aw_O",
        "colab_type": "text"
      },
      "source": [
        "Podemos ver abaixo que Gradient Boosting é o algoritmo que modela melhor os dados. Vemos uma boa densidade em torno das predições."
      ]
    },
    {
      "cell_type": "code",
      "metadata": {
        "id": "F2bDN3wEdUHC",
        "colab_type": "code",
        "outputId": "b713658b-44e0-41a1-ba30-d9d0dddb2b94",
        "colab": {
          "base_uri": "https://localhost:8080/",
          "height": 292
        }
      },
      "source": [
        "sns.residplot(y_pred2, y_test, color='r')"
      ],
      "execution_count": 259,
      "outputs": [
        {
          "output_type": "execute_result",
          "data": {
            "text/plain": [
              "<matplotlib.axes._subplots.AxesSubplot at 0x7f9b247e1a90>"
            ]
          },
          "metadata": {
            "tags": []
          },
          "execution_count": 259
        },
        {
          "output_type": "display_data",
          "data": {
            "image/png": "[encoded data removed]",
            "text/plain": [
              "<Figure size 432x288 with 1 Axes>"
            ]
          },
          "metadata": {
            "tags": []
          }
        }
      ]
    },
    {
      "cell_type": "markdown",
      "metadata": {
        "id": "vnwC8mLGbBrl",
        "colab_type": "text"
      },
      "source": [
        "Será tentado analisar o desempenho de outras implementações como Xtreme Gradient Boosting. Logo de início ele apresenta nas métricas um desempenho levemente superior ao Gradient Boosting convencional do sklearn(sem busca de hiperparâmetros)."
      ]
    },
    {
      "cell_type": "code",
      "metadata": {
        "id": "0mh11vO4o5hb",
        "colab_type": "code",
        "colab": {}
      },
      "source": [
        "from xgboost import XGBRegressor"
      ],
      "execution_count": 0,
      "outputs": []
    },
    {
      "cell_type": "code",
      "metadata": {
        "id": "WaIgtyy4pwzQ",
        "colab_type": "code",
        "outputId": "67cf45fe-fd38-4ad4-aaed-d21016402d4b",
        "colab": {
          "base_uri": "https://localhost:8080/",
          "height": 164
        }
      },
      "source": [
        "reg3 = XGBRegressor(random_state=13)\n",
        "reg3.fit(X_train, y_train)\n",
        "\n",
        "y_pred3 = reg3.predict(X_test)\n",
        "y_train_pred3 = reg3.predict(X_train)\n",
        "\n",
        "train_error3 = mean_squared_error(y_train, y_train_pred3)\n",
        "test_error3 = mean_squared_error(y_test, y_pred3)\n",
        "\n",
        "summary_results(y_test, y_pred3)"
      ],
      "execution_count": 263,
      "outputs": [
        {
          "output_type": "stream",
          "text": [
            "/usr/local/lib/python3.6/dist-packages/xgboost/core.py:587: FutureWarning: Series.base is deprecated and will be removed in a future version\n",
            "  if getattr(data, 'base', None) is not None and \\\n"
          ],
          "name": "stderr"
        },
        {
          "output_type": "stream",
          "text": [
            "[14:38:16] WARNING: /workspace/src/objective/regression_obj.cu:152: reg:linear is now deprecated in favor of reg:squarederror.\n",
            "MSE: 0.2544236727597348\n",
            "MAE: 0.34966286122314333\n",
            "R^2: 0.08777496576168542\n",
            "MSLE: 0.012919285302881297\n",
            "MAPE: 10.005740480561846\n"
          ],
          "name": "stdout"
        }
      ]
    },
    {
      "cell_type": "markdown",
      "metadata": {
        "id": "2qduPdZUb1Nh",
        "colab_type": "text"
      },
      "source": [
        "Viés e Variância continuam com bons valores."
      ]
    },
    {
      "cell_type": "code",
      "metadata": {
        "id": "qoWsVCKad48L",
        "colab_type": "code",
        "outputId": "b846f2af-ddeb-4e60-f702-49738929f67e",
        "colab": {
          "base_uri": "https://localhost:8080/",
          "height": 35
        }
      },
      "source": [
        "print(f'Viés: {train_error3-target_error} ; Variância: {test_error3-train_error3}')"
      ],
      "execution_count": 264,
      "outputs": [
        {
          "output_type": "stream",
          "text": [
            "Viés: 0.0664310420420462 ; Variância: 0.03799263071768863\n"
          ],
          "name": "stdout"
        }
      ]
    },
    {
      "cell_type": "code",
      "metadata": {
        "id": "lQC9Oc4FgGrg",
        "colab_type": "code",
        "outputId": "a6c40226-0d4c-424e-bb40-fa2c3d057ca4",
        "colab": {
          "base_uri": "https://localhost:8080/",
          "height": 292
        }
      },
      "source": [
        "sns.residplot(y_pred3, y_test, color='r')"
      ],
      "execution_count": 265,
      "outputs": [
        {
          "output_type": "execute_result",
          "data": {
            "text/plain": [
              "<matplotlib.axes._subplots.AxesSubplot at 0x7f9b24a06518>"
            ]
          },
          "metadata": {
            "tags": []
          },
          "execution_count": 265
        },
        {
          "output_type": "display_data",
          "data": {
            "image/png": "[encoded data removed]",
            "text/plain": [
              "<Figure size 432x288 with 1 Axes>"
            ]
          },
          "metadata": {
            "tags": []
          }
        }
      ]
    },
    {
      "cell_type": "markdown",
      "metadata": {
        "id": "yAlebz5YsCMf",
        "colab_type": "text"
      },
      "source": [
        "A busca de hiperparâmetros não retornou bons valores. Eles são inferiores ao Gradient Boosting e Random Forest. Além dos erros MSE e MAE altos além de R^2 negativo temos um MAPE, indicando em média  quanto longe estão os resultados dos seus outputs, de 15%. Várias dessas métricas estão piores que a Regressão Linear, que é o algoritmo mais simples. "
      ]
    },
    {
      "cell_type": "code",
      "metadata": {
        "id": "Z-qpACJXulR7",
        "colab_type": "code",
        "outputId": "55b76a28-bb50-437a-c4cc-16c62b276f35",
        "colab": {
          "base_uri": "https://localhost:8080/",
          "height": 164
        }
      },
      "source": [
        "reg4 = XGBRegressor(random_state=13)\n",
        "random_search2 = RandomizedSearchCV(estimator = reg4, param_distributions = param_grid, \n",
        "                           cv = 5, n_jobs = -1, verbose = 0)\n",
        "random_search2.fit(X_train, y_train)\n",
        "\n",
        "best_estimator = random_search2.best_estimator_\n",
        "y_pred4 = best_estimator.predict(X_test)\n",
        "y_train_pred4 = best_estimator.predict(X_train)\n",
        "\n",
        "train_error4 = mean_squared_error(y_train, y_train_pred4)\n",
        "test_error4 = mean_squared_error(y_test, y_pred4)\n",
        "\n",
        "summary_results(y_test, y_pred4)"
      ],
      "execution_count": 271,
      "outputs": [
        {
          "output_type": "stream",
          "text": [
            "/usr/local/lib/python3.6/dist-packages/xgboost/core.py:587: FutureWarning: Series.base is deprecated and will be removed in a future version\n",
            "  if getattr(data, 'base', None) is not None and \\\n"
          ],
          "name": "stderr"
        },
        {
          "output_type": "stream",
          "text": [
            "[15:48:34] WARNING: /workspace/src/objective/regression_obj.cu:152: reg:linear is now deprecated in favor of reg:squarederror.\n",
            "MSE: 0.5388501835678492\n",
            "MAE: 0.6310548490528168\n",
            "R^2: -0.932023941886498\n",
            "MSLE: 0.02412374904285129\n",
            "MAPE: 15.713711286325227\n"
          ],
          "name": "stdout"
        }
      ]
    },
    {
      "cell_type": "markdown",
      "metadata": {
        "id": "r8rFMaE0sP4X",
        "colab_type": "text"
      },
      "source": [
        "O viés e a variância estão consideravelmente altos tendendo para o pior caso. Logo, será optado por tentar outras alternativas. "
      ]
    },
    {
      "cell_type": "code",
      "metadata": {
        "id": "92rr2Dp5gVR-",
        "colab_type": "code",
        "outputId": "d74b8063-37e5-453a-87d1-d15946344043",
        "colab": {
          "base_uri": "https://localhost:8080/",
          "height": 35
        }
      },
      "source": [
        "print(f'Viés: {train_error4-target_error} ; Variância: {test_error4-train_error4}')"
      ],
      "execution_count": 272,
      "outputs": [
        {
          "output_type": "stream",
          "text": [
            "Viés: 0.20765054599066526 ; Variância: 0.18119963757718394\n"
          ],
          "name": "stdout"
        }
      ]
    },
    {
      "cell_type": "markdown",
      "metadata": {
        "id": "ibY2m_hYulsm",
        "colab_type": "text"
      },
      "source": [
        "Outra implementação é o Light Gradient Boosting Machine. Será checado se desempenho já com a busca de hiperparâmetros."
      ]
    },
    {
      "cell_type": "code",
      "metadata": {
        "id": "AUfiUEqjlJTu",
        "colab_type": "code",
        "colab": {}
      },
      "source": [
        "from lightgbm import LGBMRegressor"
      ],
      "execution_count": 0,
      "outputs": []
    },
    {
      "cell_type": "code",
      "metadata": {
        "id": "hWkM_F1wxC8w",
        "colab_type": "code",
        "colab": {}
      },
      "source": [
        "param_grid = {\n",
        "    'n_estimators': list(range(200, 600, 100)),\n",
        "    'learning_rate': [0.001, 0.005],\n",
        "    'max_depth': [80, 90, 100, 110],\n",
        "    'max_features': [7, 8, 9, 10],\n",
        "  }"
      ],
      "execution_count": 0,
      "outputs": []
    },
    {
      "cell_type": "markdown",
      "metadata": {
        "id": "DqoEvk6BvQLe",
        "colab_type": "text"
      },
      "source": [
        "LGBM é uma implementação mais rápida e apesar de não ter o mesmo desempenho do Gradient Boosting(sklearn) consegue chegar bem perto."
      ]
    },
    {
      "cell_type": "code",
      "metadata": {
        "id": "7Y6NTUTIwuul",
        "colab_type": "code",
        "outputId": "15fd59f2-e0b0-410d-b517-010b61759013",
        "colab": {
          "base_uri": "https://localhost:8080/",
          "height": 109
        }
      },
      "source": [
        "reg5 = LGBMRegressor(random_state=13)\n",
        "random_search3 = RandomizedSearchCV(estimator=reg5, param_distributions=param_grid,\n",
        "                                   cv=5, n_jobs=-1, verbose=0)\n",
        "random_search3.fit(X_train, y_train)\n",
        "\n",
        "best_estimator = random_search3.best_estimator_\n",
        "y_pred5 = best_estimator.predict(X_test)\n",
        "y_train_pred5 = best_estimator.predict(X_train) \n",
        "\n",
        "train_error5 = mean_squared_error(y_train, y_train_pred5)\n",
        "test_error5 = mean_squared_error(y_test, y_pred5)\n",
        "\n",
        "summary_results(y_test, y_pred5)\n",
        "#train_error5, test_error5, r2_score(y_test, y_pred5)"
      ],
      "execution_count": 275,
      "outputs": [
        {
          "output_type": "stream",
          "text": [
            "MSE: 0.24951786462537462\n",
            "MAE: 0.3453667862738358\n",
            "R^2: 0.10536452786803663\n",
            "MSLE: 0.012714230992581567\n",
            "MAPE: 9.901524690220281\n"
          ],
          "name": "stdout"
        }
      ]
    },
    {
      "cell_type": "code",
      "metadata": {
        "id": "53y8xxxChwMf",
        "colab_type": "code",
        "outputId": "274f7f48-1c7b-4762-e99d-0bce53f982ad",
        "colab": {
          "base_uri": "https://localhost:8080/",
          "height": 403
        }
      },
      "source": [
        "best_estimator.get_params()"
      ],
      "execution_count": 276,
      "outputs": [
        {
          "output_type": "execute_result",
          "data": {
            "text/plain": [
              "{'boosting_type': 'gbdt',\n",
              " 'class_weight': None,\n",
              " 'colsample_bytree': 1.0,\n",
              " 'importance_type': 'split',\n",
              " 'learning_rate': 0.005,\n",
              " 'max_depth': 80,\n",
              " 'max_features': 10,\n",
              " 'min_child_samples': 20,\n",
              " 'min_child_weight': 0.001,\n",
              " 'min_split_gain': 0.0,\n",
              " 'n_estimators': 500,\n",
              " 'n_jobs': -1,\n",
              " 'num_leaves': 31,\n",
              " 'objective': None,\n",
              " 'random_state': 13,\n",
              " 'reg_alpha': 0.0,\n",
              " 'reg_lambda': 0.0,\n",
              " 'silent': True,\n",
              " 'subsample': 1.0,\n",
              " 'subsample_for_bin': 200000,\n",
              " 'subsample_freq': 0}"
            ]
          },
          "metadata": {
            "tags": []
          },
          "execution_count": 276
        }
      ]
    },
    {
      "cell_type": "markdown",
      "metadata": {
        "id": "9y3z3wKcvkSe",
        "colab_type": "text"
      },
      "source": [
        "Diferente do XGB, este algoritmo não resulta em valores altos em viés e variância."
      ]
    },
    {
      "cell_type": "code",
      "metadata": {
        "id": "gp940KiSkWNC",
        "colab_type": "code",
        "outputId": "fc74e95e-6792-480f-dadb-0e3f20587525",
        "colab": {
          "base_uri": "https://localhost:8080/",
          "height": 35
        }
      },
      "source": [
        "print(f'Viés: {train_error5-target_error} ; Variância: {test_error5-train_error5}')"
      ],
      "execution_count": 277,
      "outputs": [
        {
          "output_type": "stream",
          "text": [
            "Viés: 0.05584587051698128 ; Variância: 0.04367199410839334\n"
          ],
          "name": "stdout"
        }
      ]
    },
    {
      "cell_type": "code",
      "metadata": {
        "id": "80qBiDiamGpA",
        "colab_type": "code",
        "outputId": "77250070-f43a-40e7-cb7e-ac694b18ddc3",
        "colab": {
          "base_uri": "https://localhost:8080/",
          "height": 292
        }
      },
      "source": [
        "sns.residplot(y_pred5, y_test, color='r')"
      ],
      "execution_count": 278,
      "outputs": [
        {
          "output_type": "execute_result",
          "data": {
            "text/plain": [
              "<matplotlib.axes._subplots.AxesSubplot at 0x7f9b1b73d6a0>"
            ]
          },
          "metadata": {
            "tags": []
          },
          "execution_count": 278
        },
        {
          "output_type": "display_data",
          "data": {
            "image/png": "[encoded data removed]",
            "text/plain": [
              "<Figure size 432x288 with 1 Axes>"
            ]
          },
          "metadata": {
            "tags": []
          }
        }
      ]
    },
    {
      "cell_type": "markdown",
      "metadata": {
        "id": "MiuKSecqFEoF",
        "colab_type": "text"
      },
      "source": [
        "###Multi-Layer Perceptron"
      ]
    },
    {
      "cell_type": "markdown",
      "metadata": {
        "id": "jVm8Fys-v1JR",
        "colab_type": "text"
      },
      "source": [
        "A seguir, serão tentadas uma série de MLP's para avaliar seu desempenho neste dataset."
      ]
    },
    {
      "cell_type": "code",
      "metadata": {
        "id": "CRUB1orSakIp",
        "colab_type": "code",
        "colab": {}
      },
      "source": [
        "from sklearn.neural_network import MLPRegressor"
      ],
      "execution_count": 0,
      "outputs": []
    },
    {
      "cell_type": "markdown",
      "metadata": {
        "id": "eaPU5Or2wBcg",
        "colab_type": "text"
      },
      "source": [
        "A primeira Rede Neural possui apenas uma camada com 50 neurônios e função de ativação tangente hiperbólica. A fração de validação será 25% dos dados."
      ]
    },
    {
      "cell_type": "code",
      "metadata": {
        "id": "VAjdJUFBa4iC",
        "colab_type": "code",
        "outputId": "f8f3c1b2-5508-405e-be01-0589e02656f2",
        "colab": {
          "base_uri": "https://localhost:8080/",
          "height": 3194
        }
      },
      "source": [
        "reg1 = MLPRegressor(hidden_layer_sizes=(50,), activation='tanh', solver='adam',\n",
        "                   max_iter=200, random_state=13, early_stopping=True,\n",
        "                   validation_fraction=0.25, verbose=True)\n",
        "reg1.fit(X_train, y_train)\n",
        "y_pred1 = reg1.predict(X_test)\n",
        "y_train_pred1 = reg1.predict(X_train)\n",
        "\n",
        "train_error1 = mean_squared_error(y_train, y_train_pred1)\n",
        "test_error1 = mean_squared_error(y_test, y_pred1)\n",
        "\n",
        "#train_error1, test_error1, r2_score(y_test, y_pred1)"
      ],
      "execution_count": 281,
      "outputs": [
        {
          "output_type": "stream",
          "text": [
            "Iteration 1, loss = 4.85499952\n",
            "Validation score: -17.510412\n",
            "Iteration 2, loss = 1.31189929\n",
            "Validation score: -2.427315\n",
            "Iteration 3, loss = 0.26545502\n",
            "Validation score: -0.230000\n",
            "Iteration 4, loss = 0.17750736\n",
            "Validation score: -0.193456\n",
            "Iteration 5, loss = 0.17065563\n",
            "Validation score: -0.134441\n",
            "Iteration 6, loss = 0.16413266\n",
            "Validation score: -0.096988\n",
            "Iteration 7, loss = 0.15895075\n",
            "Validation score: -0.065271\n",
            "Iteration 8, loss = 0.15501692\n",
            "Validation score: -0.040692\n",
            "Iteration 9, loss = 0.15168672\n",
            "Validation score: -0.021208\n",
            "Iteration 10, loss = 0.14909285\n",
            "Validation score: -0.006193\n",
            "Iteration 11, loss = 0.14706440\n",
            "Validation score: 0.005239\n",
            "Iteration 12, loss = 0.14546685\n",
            "Validation score: 0.014512\n",
            "Iteration 13, loss = 0.14427148\n",
            "Validation score: 0.021002\n",
            "Iteration 14, loss = 0.14331746\n",
            "Validation score: 0.026775\n",
            "Iteration 15, loss = 0.14245973\n",
            "Validation score: 0.030904\n",
            "Iteration 16, loss = 0.14184057\n",
            "Validation score: 0.033030\n",
            "Iteration 17, loss = 0.14131563\n",
            "Validation score: 0.036768\n",
            "Iteration 18, loss = 0.14089519\n",
            "Validation score: 0.039212\n",
            "Iteration 19, loss = 0.14054341\n",
            "Validation score: 0.041059\n",
            "Iteration 20, loss = 0.14019837\n",
            "Validation score: 0.043192\n",
            "Iteration 21, loss = 0.13989314\n",
            "Validation score: 0.044149\n",
            "Iteration 22, loss = 0.13967775\n",
            "Validation score: 0.046961\n",
            "Iteration 23, loss = 0.13951591\n",
            "Validation score: 0.046734\n",
            "Iteration 24, loss = 0.13927709\n",
            "Validation score: 0.050092\n",
            "Iteration 25, loss = 0.13902556\n",
            "Validation score: 0.050703\n",
            "Iteration 26, loss = 0.13885121\n",
            "Validation score: 0.052999\n",
            "Iteration 27, loss = 0.13869225\n",
            "Validation score: 0.052791\n",
            "Iteration 28, loss = 0.13863052\n",
            "Validation score: 0.054394\n",
            "Iteration 29, loss = 0.13845475\n",
            "Validation score: 0.055804\n",
            "Iteration 30, loss = 0.13846405\n",
            "Validation score: 0.055972\n",
            "Iteration 31, loss = 0.13825797\n",
            "Validation score: 0.056757\n",
            "Iteration 32, loss = 0.13803018\n",
            "Validation score: 0.057909\n",
            "Iteration 33, loss = 0.13775480\n",
            "Validation score: 0.058486\n",
            "Iteration 34, loss = 0.13766949\n",
            "Validation score: 0.059723\n",
            "Iteration 35, loss = 0.13774557\n",
            "Validation score: 0.060208\n",
            "Iteration 36, loss = 0.13746326\n",
            "Validation score: 0.062033\n",
            "Iteration 37, loss = 0.13738260\n",
            "Validation score: 0.062572\n",
            "Iteration 38, loss = 0.13725284\n",
            "Validation score: 0.064209\n",
            "Iteration 39, loss = 0.13724850\n",
            "Validation score: 0.063995\n",
            "Iteration 40, loss = 0.13712290\n",
            "Validation score: 0.066167\n",
            "Iteration 41, loss = 0.13689791\n",
            "Validation score: 0.067275\n",
            "Iteration 42, loss = 0.13704454\n",
            "Validation score: 0.067460\n",
            "Iteration 43, loss = 0.13663055\n",
            "Validation score: 0.067340\n",
            "Iteration 44, loss = 0.13672999\n",
            "Validation score: 0.066652\n",
            "Iteration 45, loss = 0.13657465\n",
            "Validation score: 0.065981\n",
            "Iteration 46, loss = 0.13645443\n",
            "Validation score: 0.069623\n",
            "Iteration 47, loss = 0.13638674\n",
            "Validation score: 0.068466\n",
            "Iteration 48, loss = 0.13631930\n",
            "Validation score: 0.070671\n",
            "Iteration 49, loss = 0.13635360\n",
            "Validation score: 0.069678\n",
            "Iteration 50, loss = 0.13613972\n",
            "Validation score: 0.070250\n",
            "Iteration 51, loss = 0.13628196\n",
            "Validation score: 0.068032\n",
            "Iteration 52, loss = 0.13606747\n",
            "Validation score: 0.071339\n",
            "Iteration 53, loss = 0.13594449\n",
            "Validation score: 0.070525\n",
            "Iteration 54, loss = 0.13592607\n",
            "Validation score: 0.070022\n",
            "Iteration 55, loss = 0.13594573\n",
            "Validation score: 0.071729\n",
            "Iteration 56, loss = 0.13570952\n",
            "Validation score: 0.069773\n",
            "Iteration 57, loss = 0.13588781\n",
            "Validation score: 0.071555\n",
            "Iteration 58, loss = 0.13590783\n",
            "Validation score: 0.064920\n",
            "Iteration 59, loss = 0.13595063\n",
            "Validation score: 0.071589\n",
            "Iteration 60, loss = 0.13561020\n",
            "Validation score: 0.072890\n",
            "Iteration 61, loss = 0.13541107\n",
            "Validation score: 0.071724\n",
            "Iteration 62, loss = 0.13548069\n",
            "Validation score: 0.071448\n",
            "Iteration 63, loss = 0.13552853\n",
            "Validation score: 0.074608\n",
            "Iteration 64, loss = 0.13573174\n",
            "Validation score: 0.071715\n",
            "Iteration 65, loss = 0.13555207\n",
            "Validation score: 0.074816\n",
            "Iteration 66, loss = 0.13522271\n",
            "Validation score: 0.073147\n",
            "Iteration 67, loss = 0.13534721\n",
            "Validation score: 0.074013\n",
            "Iteration 68, loss = 0.13532062\n",
            "Validation score: 0.074026\n",
            "Iteration 69, loss = 0.13560498\n",
            "Validation score: 0.068034\n",
            "Iteration 70, loss = 0.13513041\n",
            "Validation score: 0.075610\n",
            "Iteration 71, loss = 0.13498575\n",
            "Validation score: 0.074405\n",
            "Iteration 72, loss = 0.13494186\n",
            "Validation score: 0.073874\n",
            "Iteration 73, loss = 0.13525319\n",
            "Validation score: 0.075988\n",
            "Iteration 74, loss = 0.13490639\n",
            "Validation score: 0.075317\n",
            "Iteration 75, loss = 0.13469424\n",
            "Validation score: 0.076722\n",
            "Iteration 76, loss = 0.13468754\n",
            "Validation score: 0.075632\n",
            "Iteration 77, loss = 0.13474999\n",
            "Validation score: 0.075763\n",
            "Iteration 78, loss = 0.13456220\n",
            "Validation score: 0.075944\n",
            "Iteration 79, loss = 0.13471621\n",
            "Validation score: 0.075075\n",
            "Iteration 80, loss = 0.13465348\n",
            "Validation score: 0.073958\n",
            "Iteration 81, loss = 0.13465298\n",
            "Validation score: 0.076187\n",
            "Iteration 82, loss = 0.13452208\n",
            "Validation score: 0.073936\n",
            "Iteration 83, loss = 0.13436985\n",
            "Validation score: 0.075835\n",
            "Iteration 84, loss = 0.13459929\n",
            "Validation score: 0.073911\n",
            "Iteration 85, loss = 0.13433793\n",
            "Validation score: 0.074099\n",
            "Iteration 86, loss = 0.13433947\n",
            "Validation score: 0.070212\n",
            "Validation score did not improve more than tol=0.000100 for 10 consecutive epochs. Stopping.\n"
          ],
          "name": "stdout"
        }
      ]
    },
    {
      "cell_type": "markdown",
      "metadata": {
        "id": "FEaaCVZrwsj1",
        "colab_type": "text"
      },
      "source": [
        "A primeira rede apresenta resultados razoáveis mas pode ser que esteja ocorrendo underfitting levando ao teste de outras arquiteturas."
      ]
    },
    {
      "cell_type": "code",
      "metadata": {
        "id": "sn1WHw68wjul",
        "colab_type": "code",
        "colab": {
          "base_uri": "https://localhost:8080/",
          "height": 109
        },
        "outputId": "071bf387-bfcb-46fc-b380-56e335190375"
      },
      "source": [
        "summary_results(y_test, y_pred1)"
      ],
      "execution_count": 282,
      "outputs": [
        {
          "output_type": "stream",
          "text": [
            "MSE: 0.27252260445490123\n",
            "MAE: 0.36913262987929124\n",
            "R^2: 0.022882031836894634\n",
            "MSLE: 0.013416679018840501\n",
            "MAPE: 10.378143566219505\n"
          ],
          "name": "stdout"
        }
      ]
    },
    {
      "cell_type": "code",
      "metadata": {
        "id": "9Tq87mMJQhc1",
        "colab_type": "code",
        "outputId": "16c93381-2a16-4363-ed35-199f733aca05",
        "colab": {
          "base_uri": "https://localhost:8080/",
          "height": 35
        }
      },
      "source": [
        "print(f'Viés: {train_error1-target_error} ; Variância: {test_error1-train_error1}')"
      ],
      "execution_count": 283,
      "outputs": [
        {
          "output_type": "stream",
          "text": [
            "Viés: 0.1127565354164419 ; Variância: 0.009766069038459335\n"
          ],
          "name": "stdout"
        }
      ]
    },
    {
      "cell_type": "markdown",
      "metadata": {
        "id": "xxl3M51DxEkI",
        "colab_type": "text"
      },
      "source": [
        "Será repetido o experimento porém agora a função de ativação é a ReLU."
      ]
    },
    {
      "cell_type": "code",
      "metadata": {
        "id": "tsL8ov-3fUlc",
        "colab_type": "code",
        "outputId": "2f10e2cc-9fa8-4423-ec91-2ebe9182acc2",
        "colab": {
          "base_uri": "https://localhost:8080/",
          "height": 2203
        }
      },
      "source": [
        "reg2 = MLPRegressor(hidden_layer_sizes=(50,), activation='relu', solver='adam',\n",
        "                   max_iter=200, random_state=13, early_stopping=True,\n",
        "                   validation_fraction=0.25, verbose=True)\n",
        "reg2.fit(X_train, y_train)\n",
        "\n",
        "y_pred2 = reg2.predict(X_test)\n",
        "y_train_pred2 = reg2.predict(X_train)\n",
        "\n",
        "train_error2 = mean_squared_error(y_train, y_train_pred2)\n",
        "test_error2 = mean_squared_error(y_test, y_pred2)\n",
        "\n",
        "#train_error2, test_error2, r2_score(y_test, y_pred2)"
      ],
      "execution_count": 284,
      "outputs": [
        {
          "output_type": "stream",
          "text": [
            "Iteration 1, loss = 5.46741801\n",
            "Validation score: -26.747775\n",
            "Iteration 2, loss = 2.43235027\n",
            "Validation score: -8.065232\n",
            "Iteration 3, loss = 0.61629853\n",
            "Validation score: -0.689808\n",
            "Iteration 4, loss = 0.20582961\n",
            "Validation score: -0.391413\n",
            "Iteration 5, loss = 0.18914288\n",
            "Validation score: -0.229709\n",
            "Iteration 6, loss = 0.17375336\n",
            "Validation score: -0.151991\n",
            "Iteration 7, loss = 0.16382655\n",
            "Validation score: -0.094289\n",
            "Iteration 8, loss = 0.15704707\n",
            "Validation score: -0.052510\n",
            "Iteration 9, loss = 0.15171508\n",
            "Validation score: -0.022711\n",
            "Iteration 10, loss = 0.14800847\n",
            "Validation score: -0.002821\n",
            "Iteration 11, loss = 0.14543425\n",
            "Validation score: 0.010486\n",
            "Iteration 12, loss = 0.14358694\n",
            "Validation score: 0.020299\n",
            "Iteration 13, loss = 0.14242619\n",
            "Validation score: 0.026234\n",
            "Iteration 14, loss = 0.14138952\n",
            "Validation score: 0.031868\n",
            "Iteration 15, loss = 0.14057423\n",
            "Validation score: 0.037257\n",
            "Iteration 16, loss = 0.13990766\n",
            "Validation score: 0.039217\n",
            "Iteration 17, loss = 0.13938041\n",
            "Validation score: 0.043348\n",
            "Iteration 18, loss = 0.13890267\n",
            "Validation score: 0.045264\n",
            "Iteration 19, loss = 0.13851063\n",
            "Validation score: 0.046685\n",
            "Iteration 20, loss = 0.13818773\n",
            "Validation score: 0.050952\n",
            "Iteration 21, loss = 0.13769289\n",
            "Validation score: 0.050837\n",
            "Iteration 22, loss = 0.13743458\n",
            "Validation score: 0.054676\n",
            "Iteration 23, loss = 0.13719112\n",
            "Validation score: 0.052390\n",
            "Iteration 24, loss = 0.13689699\n",
            "Validation score: 0.058020\n",
            "Iteration 25, loss = 0.13657938\n",
            "Validation score: 0.057831\n",
            "Iteration 26, loss = 0.13634783\n",
            "Validation score: 0.061200\n",
            "Iteration 27, loss = 0.13618094\n",
            "Validation score: 0.059890\n",
            "Iteration 28, loss = 0.13622961\n",
            "Validation score: 0.060787\n",
            "Iteration 29, loss = 0.13593276\n",
            "Validation score: 0.061715\n",
            "Iteration 30, loss = 0.13594100\n",
            "Validation score: 0.060966\n",
            "Iteration 31, loss = 0.13559519\n",
            "Validation score: 0.060236\n",
            "Iteration 32, loss = 0.13545753\n",
            "Validation score: 0.063159\n",
            "Iteration 33, loss = 0.13506102\n",
            "Validation score: 0.064209\n",
            "Iteration 34, loss = 0.13497266\n",
            "Validation score: 0.064811\n",
            "Iteration 35, loss = 0.13511947\n",
            "Validation score: 0.064482\n",
            "Iteration 36, loss = 0.13466865\n",
            "Validation score: 0.065771\n",
            "Iteration 37, loss = 0.13474143\n",
            "Validation score: 0.066479\n",
            "Iteration 38, loss = 0.13448007\n",
            "Validation score: 0.067611\n",
            "Iteration 39, loss = 0.13450414\n",
            "Validation score: 0.067007\n",
            "Iteration 40, loss = 0.13441739\n",
            "Validation score: 0.068424\n",
            "Iteration 41, loss = 0.13396314\n",
            "Validation score: 0.069191\n",
            "Iteration 42, loss = 0.13417332\n",
            "Validation score: 0.068652\n",
            "Iteration 43, loss = 0.13370564\n",
            "Validation score: 0.069104\n",
            "Iteration 44, loss = 0.13372790\n",
            "Validation score: 0.067188\n",
            "Iteration 45, loss = 0.13355448\n",
            "Validation score: 0.066490\n",
            "Iteration 46, loss = 0.13339376\n",
            "Validation score: 0.069444\n",
            "Iteration 47, loss = 0.13327042\n",
            "Validation score: 0.067869\n",
            "Iteration 48, loss = 0.13320484\n",
            "Validation score: 0.069623\n",
            "Iteration 49, loss = 0.13320032\n",
            "Validation score: 0.067810\n",
            "Iteration 50, loss = 0.13285693\n",
            "Validation score: 0.067992\n",
            "Iteration 51, loss = 0.13300654\n",
            "Validation score: 0.065344\n",
            "Iteration 52, loss = 0.13267891\n",
            "Validation score: 0.067935\n",
            "Iteration 53, loss = 0.13248706\n",
            "Validation score: 0.066121\n",
            "Iteration 54, loss = 0.13246325\n",
            "Validation score: 0.066874\n",
            "Iteration 55, loss = 0.13241950\n",
            "Validation score: 0.067772\n",
            "Iteration 56, loss = 0.13206850\n",
            "Validation score: 0.063676\n",
            "Iteration 57, loss = 0.13214515\n",
            "Validation score: 0.066726\n",
            "Iteration 58, loss = 0.13200077\n",
            "Validation score: 0.058520\n",
            "Iteration 59, loss = 0.13196362\n",
            "Validation score: 0.063770\n",
            "Validation score did not improve more than tol=0.000100 for 10 consecutive epochs. Stopping.\n"
          ],
          "name": "stdout"
        }
      ]
    },
    {
      "cell_type": "markdown",
      "metadata": {
        "id": "ROhq3nXsxeEO",
        "colab_type": "text"
      },
      "source": [
        "A ReLU aparentemente leva a resultados melhores."
      ]
    },
    {
      "cell_type": "code",
      "metadata": {
        "id": "fxZ7a6JWxTG5",
        "colab_type": "code",
        "colab": {
          "base_uri": "https://localhost:8080/",
          "height": 109
        },
        "outputId": "5ac750b0-fd71-4241-e743-61fc1c96c7e9"
      },
      "source": [
        "summary_results(y_test, y_pred2)"
      ],
      "execution_count": 285,
      "outputs": [
        {
          "output_type": "stream",
          "text": [
            "MSE: 0.26989400660504415\n",
            "MAE: 0.3671000443277644\n",
            "R^2: 0.032306755321053426\n",
            "MSLE: 0.013313642969030781\n",
            "MAPE: 10.326076483965908\n"
          ],
          "name": "stdout"
        }
      ]
    },
    {
      "cell_type": "code",
      "metadata": {
        "id": "ZwMF-4wSRCjc",
        "colab_type": "code",
        "outputId": "8a9dffe4-0f50-4c5b-c0e8-d74c4da8727e",
        "colab": {
          "base_uri": "https://localhost:8080/",
          "height": 35
        }
      },
      "source": [
        "print(f'Viés: {train_error2-target_error} ; Variância: {test_error2-train_error2}')"
      ],
      "execution_count": 286,
      "outputs": [
        {
          "output_type": "stream",
          "text": [
            "Viés: 0.11067704268858455 ; Variância: 0.009216963916459597\n"
          ],
          "name": "stdout"
        }
      ]
    },
    {
      "cell_type": "markdown",
      "metadata": {
        "id": "7sGreV2JxiTA",
        "colab_type": "text"
      },
      "source": [
        "Agora será adiciona mais uma camada oculta com 25 neurônios para rede com função de ativação tanh."
      ]
    },
    {
      "cell_type": "code",
      "metadata": {
        "id": "hB_ZLx7JfXJ5",
        "colab_type": "code",
        "outputId": "d44b89a3-70c2-4f18-c894-0c41196507de",
        "colab": {
          "base_uri": "https://localhost:8080/",
          "height": 3488
        }
      },
      "source": [
        "reg3 = MLPRegressor(hidden_layer_sizes=(50,25,), activation='tanh', solver='adam',\n",
        "                   max_iter=200, random_state=13, early_stopping=True,\n",
        "                   validation_fraction=0.25, verbose=True)\n",
        "reg3.fit(X_train, y_train)\n",
        "\n",
        "y_pred3 = reg3.predict(X_test)\n",
        "y_train_pred3 = reg3.predict(X_train)\n",
        "\n",
        "train_error3 = mean_squared_error(y_train, y_train_pred3)\n",
        "test_error3 = mean_squared_error(y_test, y_pred3)\n",
        "\n",
        "#train_error3, test_error3, r2_score(y_test, y_pred3)"
      ],
      "execution_count": 287,
      "outputs": [
        {
          "output_type": "stream",
          "text": [
            "Iteration 1, loss = 5.40918345\n",
            "Validation score: -10.688977\n",
            "Iteration 2, loss = 0.68354423\n",
            "Validation score: -0.061315\n",
            "Iteration 3, loss = 0.16440996\n",
            "Validation score: -0.125763\n",
            "Iteration 4, loss = 0.15570976\n",
            "Validation score: 0.009806\n",
            "Iteration 5, loss = 0.14787773\n",
            "Validation score: 0.021446\n",
            "Iteration 6, loss = 0.14539798\n",
            "Validation score: 0.029565\n",
            "Iteration 7, loss = 0.14370224\n",
            "Validation score: 0.036763\n",
            "Iteration 8, loss = 0.14205229\n",
            "Validation score: 0.045701\n",
            "Iteration 9, loss = 0.14062653\n",
            "Validation score: 0.050320\n",
            "Iteration 10, loss = 0.13931783\n",
            "Validation score: 0.055917\n",
            "Iteration 11, loss = 0.13827525\n",
            "Validation score: 0.060237\n",
            "Iteration 12, loss = 0.13731786\n",
            "Validation score: 0.063594\n",
            "Iteration 13, loss = 0.13650150\n",
            "Validation score: 0.066890\n",
            "Iteration 14, loss = 0.13583143\n",
            "Validation score: 0.069591\n",
            "Iteration 15, loss = 0.13516974\n",
            "Validation score: 0.071426\n",
            "Iteration 16, loss = 0.13474584\n",
            "Validation score: 0.072402\n",
            "Iteration 17, loss = 0.13416928\n",
            "Validation score: 0.075168\n",
            "Iteration 18, loss = 0.13376641\n",
            "Validation score: 0.076383\n",
            "Iteration 19, loss = 0.13342901\n",
            "Validation score: 0.078124\n",
            "Iteration 20, loss = 0.13309485\n",
            "Validation score: 0.078804\n",
            "Iteration 21, loss = 0.13283216\n",
            "Validation score: 0.079372\n",
            "Iteration 22, loss = 0.13260672\n",
            "Validation score: 0.080135\n",
            "Iteration 23, loss = 0.13236819\n",
            "Validation score: 0.081405\n",
            "Iteration 24, loss = 0.13220826\n",
            "Validation score: 0.081212\n",
            "Iteration 25, loss = 0.13202103\n",
            "Validation score: 0.082442\n",
            "Iteration 26, loss = 0.13185001\n",
            "Validation score: 0.082908\n",
            "Iteration 27, loss = 0.13166811\n",
            "Validation score: 0.085474\n",
            "Iteration 28, loss = 0.13147641\n",
            "Validation score: 0.083868\n",
            "Iteration 29, loss = 0.13154820\n",
            "Validation score: 0.086024\n",
            "Iteration 30, loss = 0.13114140\n",
            "Validation score: 0.084970\n",
            "Iteration 31, loss = 0.13111186\n",
            "Validation score: 0.086707\n",
            "Iteration 32, loss = 0.13101156\n",
            "Validation score: 0.086812\n",
            "Iteration 33, loss = 0.13089119\n",
            "Validation score: 0.089449\n",
            "Iteration 34, loss = 0.13081521\n",
            "Validation score: 0.087630\n",
            "Iteration 35, loss = 0.13054515\n",
            "Validation score: 0.089645\n",
            "Iteration 36, loss = 0.13054739\n",
            "Validation score: 0.084380\n",
            "Iteration 37, loss = 0.13042686\n",
            "Validation score: 0.089969\n",
            "Iteration 38, loss = 0.13029778\n",
            "Validation score: 0.090370\n",
            "Iteration 39, loss = 0.13011195\n",
            "Validation score: 0.091178\n",
            "Iteration 40, loss = 0.13020921\n",
            "Validation score: 0.091477\n",
            "Iteration 41, loss = 0.12996471\n",
            "Validation score: 0.088359\n",
            "Iteration 42, loss = 0.12998753\n",
            "Validation score: 0.091486\n",
            "Iteration 43, loss = 0.12971253\n",
            "Validation score: 0.092770\n",
            "Iteration 44, loss = 0.12955953\n",
            "Validation score: 0.092697\n",
            "Iteration 45, loss = 0.12954272\n",
            "Validation score: 0.093629\n",
            "Iteration 46, loss = 0.12954134\n",
            "Validation score: 0.095272\n",
            "Iteration 47, loss = 0.12935168\n",
            "Validation score: 0.091162\n",
            "Iteration 48, loss = 0.12933351\n",
            "Validation score: 0.093128\n",
            "Iteration 49, loss = 0.12915097\n",
            "Validation score: 0.095432\n",
            "Iteration 50, loss = 0.12892391\n",
            "Validation score: 0.096277\n",
            "Iteration 51, loss = 0.12883464\n",
            "Validation score: 0.095231\n",
            "Iteration 52, loss = 0.12892026\n",
            "Validation score: 0.093444\n",
            "Iteration 53, loss = 0.12892489\n",
            "Validation score: 0.097323\n",
            "Iteration 54, loss = 0.12886713\n",
            "Validation score: 0.095129\n",
            "Iteration 55, loss = 0.12837341\n",
            "Validation score: 0.089995\n",
            "Iteration 56, loss = 0.12872459\n",
            "Validation score: 0.098000\n",
            "Iteration 57, loss = 0.12829480\n",
            "Validation score: 0.098880\n",
            "Iteration 58, loss = 0.12817155\n",
            "Validation score: 0.096701\n",
            "Iteration 59, loss = 0.12821199\n",
            "Validation score: 0.098529\n",
            "Iteration 60, loss = 0.12798922\n",
            "Validation score: 0.101193\n",
            "Iteration 61, loss = 0.12808490\n",
            "Validation score: 0.099901\n",
            "Iteration 62, loss = 0.12779323\n",
            "Validation score: 0.100619\n",
            "Iteration 63, loss = 0.12768373\n",
            "Validation score: 0.097697\n",
            "Iteration 64, loss = 0.12757241\n",
            "Validation score: 0.099845\n",
            "Iteration 65, loss = 0.12736049\n",
            "Validation score: 0.098631\n",
            "Iteration 66, loss = 0.12729163\n",
            "Validation score: 0.099823\n",
            "Iteration 67, loss = 0.12707818\n",
            "Validation score: 0.102398\n",
            "Iteration 68, loss = 0.12757080\n",
            "Validation score: 0.101545\n",
            "Iteration 69, loss = 0.12685005\n",
            "Validation score: 0.099788\n",
            "Iteration 70, loss = 0.12681133\n",
            "Validation score: 0.098840\n",
            "Iteration 71, loss = 0.12666229\n",
            "Validation score: 0.100483\n",
            "Iteration 72, loss = 0.12678271\n",
            "Validation score: 0.102159\n",
            "Iteration 73, loss = 0.12700196\n",
            "Validation score: 0.102245\n",
            "Iteration 74, loss = 0.12631128\n",
            "Validation score: 0.103505\n",
            "Iteration 75, loss = 0.12669253\n",
            "Validation score: 0.103214\n",
            "Iteration 76, loss = 0.12621610\n",
            "Validation score: 0.104681\n",
            "Iteration 77, loss = 0.12602591\n",
            "Validation score: 0.104089\n",
            "Iteration 78, loss = 0.12614394\n",
            "Validation score: 0.105256\n",
            "Iteration 79, loss = 0.12574414\n",
            "Validation score: 0.107027\n",
            "Iteration 80, loss = 0.12569206\n",
            "Validation score: 0.104694\n",
            "Iteration 81, loss = 0.12555610\n",
            "Validation score: 0.105440\n",
            "Iteration 82, loss = 0.12524900\n",
            "Validation score: 0.100765\n",
            "Iteration 83, loss = 0.12584636\n",
            "Validation score: 0.107277\n",
            "Iteration 84, loss = 0.12534851\n",
            "Validation score: 0.106901\n",
            "Iteration 85, loss = 0.12552181\n",
            "Validation score: 0.105487\n",
            "Iteration 86, loss = 0.12476516\n",
            "Validation score: 0.105742\n",
            "Iteration 87, loss = 0.12472851\n",
            "Validation score: 0.106614\n",
            "Iteration 88, loss = 0.12443703\n",
            "Validation score: 0.100816\n",
            "Iteration 89, loss = 0.12448490\n",
            "Validation score: 0.104458\n",
            "Iteration 90, loss = 0.12438103\n",
            "Validation score: 0.106064\n",
            "Iteration 91, loss = 0.12431488\n",
            "Validation score: 0.104143\n",
            "Iteration 92, loss = 0.12416316\n",
            "Validation score: 0.103129\n",
            "Iteration 93, loss = 0.12401464\n",
            "Validation score: 0.106008\n",
            "Iteration 94, loss = 0.12420397\n",
            "Validation score: 0.103555\n",
            "Validation score did not improve more than tol=0.000100 for 10 consecutive epochs. Stopping.\n"
          ],
          "name": "stdout"
        }
      ]
    },
    {
      "cell_type": "markdown",
      "metadata": {
        "id": "e57flZqKxzpV",
        "colab_type": "text"
      },
      "source": [
        "O erros continam a baixar e a explicabilidade a aumentar indicando que foi uma boa escolha a adição de uma nova camada. "
      ]
    },
    {
      "cell_type": "code",
      "metadata": {
        "id": "7dv90q79xtwb",
        "colab_type": "code",
        "colab": {
          "base_uri": "https://localhost:8080/",
          "height": 109
        },
        "outputId": "38887e56-9fbc-467d-ce6e-9188f981d383"
      },
      "source": [
        "summary_results(y_test, y_pred3)"
      ],
      "execution_count": 288,
      "outputs": [
        {
          "output_type": "stream",
          "text": [
            "MSE: 0.26829266184899897\n",
            "MAE: 0.367929054771781\n",
            "R^2: 0.038048307430043504\n",
            "MSLE: 0.013203157678281098\n",
            "MAPE: 10.307289895942425\n"
          ],
          "name": "stdout"
        }
      ]
    },
    {
      "cell_type": "code",
      "metadata": {
        "id": "AgWMMJuKRPfX",
        "colab_type": "code",
        "outputId": "e41ded6a-9a6e-45a1-b517-f79d07b041d5",
        "colab": {
          "base_uri": "https://localhost:8080/",
          "height": 35
        }
      },
      "source": [
        "print(f'Viés: {train_error3-target_error} ; Variância: {test_error3-train_error3}')"
      ],
      "execution_count": 289,
      "outputs": [
        {
          "output_type": "stream",
          "text": [
            "Viés: 0.10456061410414916 ; Variância: 0.013732047744849818\n"
          ],
          "name": "stdout"
        }
      ]
    },
    {
      "cell_type": "markdown",
      "metadata": {
        "id": "GW6ka_Y5yAKO",
        "colab_type": "text"
      },
      "source": [
        "Uma nova camada com a função de ativação ReLU."
      ]
    },
    {
      "cell_type": "code",
      "metadata": {
        "id": "UatNYUAosmyF",
        "colab_type": "code",
        "outputId": "c8b153b5-c220-4e21-e963-62fb342cebc6",
        "colab": {
          "base_uri": "https://localhost:8080/",
          "height": 1652
        }
      },
      "source": [
        "reg4 = MLPRegressor(hidden_layer_sizes=(50,25,), activation='relu', solver='adam',\n",
        "                   max_iter=200, random_state=13, early_stopping=True,\n",
        "                   validation_fraction=0.25, verbose=True)\n",
        "reg4.fit(X_train, y_train)\n",
        "\n",
        "y_train_pred4 = reg4.predict(X_train)\n",
        "y_pred4 = reg4.predict(X_test)\n",
        "\n",
        "train_error4 = mean_squared_error(y_train, y_train_pred4)\n",
        "test_error4 = mean_squared_error(y_test, y_pred4)\n",
        "\n",
        "#train_error4, test_error4, r2_score(y_test, y_pred4)"
      ],
      "execution_count": 290,
      "outputs": [
        {
          "output_type": "stream",
          "text": [
            "Iteration 1, loss = 6.75185471\n",
            "Validation score: -28.789656\n",
            "Iteration 2, loss = 2.51419412\n",
            "Validation score: -2.818759\n",
            "Iteration 3, loss = 0.31236163\n",
            "Validation score: -0.770644\n",
            "Iteration 4, loss = 0.20318359\n",
            "Validation score: -0.238368\n",
            "Iteration 5, loss = 0.16942964\n",
            "Validation score: -0.110502\n",
            "Iteration 6, loss = 0.15561742\n",
            "Validation score: -0.037347\n",
            "Iteration 7, loss = 0.14699684\n",
            "Validation score: 0.002007\n",
            "Iteration 8, loss = 0.14175489\n",
            "Validation score: 0.028691\n",
            "Iteration 9, loss = 0.13846544\n",
            "Validation score: 0.044872\n",
            "Iteration 10, loss = 0.13628641\n",
            "Validation score: 0.054325\n",
            "Iteration 11, loss = 0.13481284\n",
            "Validation score: 0.062022\n",
            "Iteration 12, loss = 0.13377495\n",
            "Validation score: 0.064858\n",
            "Iteration 13, loss = 0.13289069\n",
            "Validation score: 0.069993\n",
            "Iteration 14, loss = 0.13217643\n",
            "Validation score: 0.072338\n",
            "Iteration 15, loss = 0.13150780\n",
            "Validation score: 0.075713\n",
            "Iteration 16, loss = 0.13110095\n",
            "Validation score: 0.072024\n",
            "Iteration 17, loss = 0.13036073\n",
            "Validation score: 0.078946\n",
            "Iteration 18, loss = 0.12973154\n",
            "Validation score: 0.080650\n",
            "Iteration 19, loss = 0.12939476\n",
            "Validation score: 0.083373\n",
            "Iteration 20, loss = 0.12876030\n",
            "Validation score: 0.083577\n",
            "Iteration 21, loss = 0.12835470\n",
            "Validation score: 0.085834\n",
            "Iteration 22, loss = 0.12791191\n",
            "Validation score: 0.085725\n",
            "Iteration 23, loss = 0.12748839\n",
            "Validation score: 0.089041\n",
            "Iteration 24, loss = 0.12732721\n",
            "Validation score: 0.089190\n",
            "Iteration 25, loss = 0.12699741\n",
            "Validation score: 0.088592\n",
            "Iteration 26, loss = 0.12632410\n",
            "Validation score: 0.088725\n",
            "Iteration 27, loss = 0.12579539\n",
            "Validation score: 0.091498\n",
            "Iteration 28, loss = 0.12575275\n",
            "Validation score: 0.081657\n",
            "Iteration 29, loss = 0.12560383\n",
            "Validation score: 0.086560\n",
            "Iteration 30, loss = 0.12507623\n",
            "Validation score: 0.089550\n",
            "Iteration 31, loss = 0.12463931\n",
            "Validation score: 0.090388\n",
            "Iteration 32, loss = 0.12421697\n",
            "Validation score: 0.085042\n",
            "Iteration 33, loss = 0.12389339\n",
            "Validation score: 0.095233\n",
            "Iteration 34, loss = 0.12361914\n",
            "Validation score: 0.091595\n",
            "Iteration 35, loss = 0.12304920\n",
            "Validation score: 0.092381\n",
            "Iteration 36, loss = 0.12282679\n",
            "Validation score: 0.086982\n",
            "Iteration 37, loss = 0.12251776\n",
            "Validation score: 0.090932\n",
            "Iteration 38, loss = 0.12200093\n",
            "Validation score: 0.086856\n",
            "Iteration 39, loss = 0.12178759\n",
            "Validation score: 0.089138\n",
            "Iteration 40, loss = 0.12147378\n",
            "Validation score: 0.089573\n",
            "Iteration 41, loss = 0.12093213\n",
            "Validation score: 0.086685\n",
            "Iteration 42, loss = 0.12061765\n",
            "Validation score: 0.081887\n",
            "Iteration 43, loss = 0.12048977\n",
            "Validation score: 0.085563\n",
            "Iteration 44, loss = 0.11977230\n",
            "Validation score: 0.082787\n",
            "Validation score did not improve more than tol=0.000100 for 10 consecutive epochs. Stopping.\n"
          ],
          "name": "stdout"
        }
      ]
    },
    {
      "cell_type": "code",
      "metadata": {
        "id": "tEeAUY4hyJgq",
        "colab_type": "code",
        "colab": {
          "base_uri": "https://localhost:8080/",
          "height": 109
        },
        "outputId": "b37f52d4-c4c0-43a0-c487-8bd6f859e32e"
      },
      "source": [
        "summary_results(y_test, y_pred4)"
      ],
      "execution_count": 291,
      "outputs": [
        {
          "output_type": "stream",
          "text": [
            "MSE: 0.2651808215954424\n",
            "MAE: 0.3646538698852656\n",
            "R^2: 0.04920567557528499\n",
            "MSLE: 0.013095486399172488\n",
            "MAPE: 10.233026138345574\n"
          ],
          "name": "stdout"
        }
      ]
    },
    {
      "cell_type": "markdown",
      "metadata": {
        "id": "5OnZBhLqyXhR",
        "colab_type": "text"
      },
      "source": [
        "As métricas continuam a baixar assim como o viés e a variância."
      ]
    },
    {
      "cell_type": "code",
      "metadata": {
        "id": "uRmtPmjfRcMV",
        "colab_type": "code",
        "outputId": "f8d89e2b-6ffc-402c-876a-febef51d03f4",
        "colab": {
          "base_uri": "https://localhost:8080/",
          "height": 35
        }
      },
      "source": [
        "print(f'Viés: {train_error4-target_error} ; Variância: {test_error4-train_error4}')"
      ],
      "execution_count": 292,
      "outputs": [
        {
          "output_type": "stream",
          "text": [
            "Viés: 0.10300194858553077 ; Variância: 0.012178873009911606\n"
          ],
          "name": "stdout"
        }
      ]
    },
    {
      "cell_type": "markdown",
      "metadata": {
        "id": "UAv3Vcf3ydvO",
        "colab_type": "text"
      },
      "source": [
        "Mais uma camada para rede com ativação ReLU(já que mostra desempenho um pouco melhor). Esta nova camada possui 12 neurônios e número máximo de iterações será aumentado de 200 para 250."
      ]
    },
    {
      "cell_type": "code",
      "metadata": {
        "id": "s8bsc9sDs-6h",
        "colab_type": "code",
        "outputId": "5b0a1018-c235-4f39-c6e7-b45c80d5e252",
        "colab": {
          "base_uri": "https://localhost:8080/",
          "height": 1284
        }
      },
      "source": [
        "reg5 = MLPRegressor(hidden_layer_sizes=(50,25,12,), activation='relu', solver='adam',\n",
        "                   max_iter=250, random_state=13, early_stopping=True,\n",
        "                   validation_fraction=0.25, verbose=True)\n",
        "reg5.fit(X_train, y_train)\n",
        "\n",
        "y_pred5 = reg5.predict(X_test)\n",
        "y_train_pred5 = reg5.predict(X_train)\n",
        "\n",
        "train_error5 = mean_squared_error(y_train, y_train_pred5)\n",
        "test_error5 = mean_squared_error(y_test, y_pred5)\n",
        "\n",
        "#test_error5, r2_score(y_pred5, y_test)"
      ],
      "execution_count": 293,
      "outputs": [
        {
          "output_type": "stream",
          "text": [
            "Iteration 1, loss = 7.31443783\n",
            "Validation score: -39.510509\n",
            "Iteration 2, loss = 3.29450615\n",
            "Validation score: -1.928914\n",
            "Iteration 3, loss = 0.32123199\n",
            "Validation score: -0.317949\n",
            "Iteration 4, loss = 0.18996667\n",
            "Validation score: -0.155390\n",
            "Iteration 5, loss = 0.16144629\n",
            "Validation score: -0.078864\n",
            "Iteration 6, loss = 0.14919940\n",
            "Validation score: -0.036994\n",
            "Iteration 7, loss = 0.14324938\n",
            "Validation score: -0.005304\n",
            "Iteration 8, loss = 0.13941598\n",
            "Validation score: 0.010302\n",
            "Iteration 9, loss = 0.13687524\n",
            "Validation score: 0.023558\n",
            "Iteration 10, loss = 0.13516592\n",
            "Validation score: 0.029644\n",
            "Iteration 11, loss = 0.13422111\n",
            "Validation score: 0.030778\n",
            "Iteration 12, loss = 0.13352007\n",
            "Validation score: 0.038167\n",
            "Iteration 13, loss = 0.13248660\n",
            "Validation score: 0.039785\n",
            "Iteration 14, loss = 0.13214885\n",
            "Validation score: 0.040444\n",
            "Iteration 15, loss = 0.13132388\n",
            "Validation score: 0.041238\n",
            "Iteration 16, loss = 0.13098631\n",
            "Validation score: 0.045980\n",
            "Iteration 17, loss = 0.13053950\n",
            "Validation score: 0.045850\n",
            "Iteration 18, loss = 0.12996751\n",
            "Validation score: 0.044820\n",
            "Iteration 19, loss = 0.12966049\n",
            "Validation score: 0.045379\n",
            "Iteration 20, loss = 0.12906714\n",
            "Validation score: 0.047484\n",
            "Iteration 21, loss = 0.12880992\n",
            "Validation score: 0.044582\n",
            "Iteration 22, loss = 0.12870201\n",
            "Validation score: 0.048903\n",
            "Iteration 23, loss = 0.12813473\n",
            "Validation score: 0.050630\n",
            "Iteration 24, loss = 0.12752022\n",
            "Validation score: 0.049038\n",
            "Iteration 25, loss = 0.12738334\n",
            "Validation score: 0.048575\n",
            "Iteration 26, loss = 0.12747324\n",
            "Validation score: 0.046761\n",
            "Iteration 27, loss = 0.12703826\n",
            "Validation score: 0.049302\n",
            "Iteration 28, loss = 0.12612671\n",
            "Validation score: 0.049691\n",
            "Iteration 29, loss = 0.12578988\n",
            "Validation score: 0.044907\n",
            "Iteration 30, loss = 0.12591806\n",
            "Validation score: 0.044713\n",
            "Iteration 31, loss = 0.12526926\n",
            "Validation score: 0.049226\n",
            "Iteration 32, loss = 0.12473705\n",
            "Validation score: 0.048177\n",
            "Iteration 33, loss = 0.12442646\n",
            "Validation score: 0.048639\n",
            "Iteration 34, loss = 0.12415509\n",
            "Validation score: 0.050124\n",
            "Validation score did not improve more than tol=0.000100 for 10 consecutive epochs. Stopping.\n"
          ],
          "name": "stdout"
        }
      ]
    },
    {
      "cell_type": "markdown",
      "metadata": {
        "id": "8XvgsjGvy55m",
        "colab_type": "text"
      },
      "source": [
        "A partir deste ponto, adicionar mais camadas não necessariamente trará melhorias."
      ]
    },
    {
      "cell_type": "code",
      "metadata": {
        "id": "yND_yvtiy2iz",
        "colab_type": "code",
        "colab": {
          "base_uri": "https://localhost:8080/",
          "height": 109
        },
        "outputId": "3bec8ad7-5b3b-447a-ad0d-497c5dbe4d90"
      },
      "source": [
        "summary_results(y_test, y_pred1)"
      ],
      "execution_count": 294,
      "outputs": [
        {
          "output_type": "stream",
          "text": [
            "MSE: 0.27252260445490123\n",
            "MAE: 0.36913262987929124\n",
            "R^2: 0.022882031836894634\n",
            "MSLE: 0.013416679018840501\n",
            "MAPE: 10.378143566219505\n"
          ],
          "name": "stdout"
        }
      ]
    },
    {
      "cell_type": "code",
      "metadata": {
        "id": "iAutJkUrRiJr",
        "colab_type": "code",
        "outputId": "612148d9-cf52-4193-a8d6-5a7200236d2d",
        "colab": {
          "base_uri": "https://localhost:8080/",
          "height": 35
        }
      },
      "source": [
        "print(f'Viés: {train_error5-target_error} ; Variância: {test_error5-train_error5}')"
      ],
      "execution_count": 295,
      "outputs": [
        {
          "output_type": "stream",
          "text": [
            "Viés: 0.10891051759973622 ; Variância: 0.008839086858571099\n"
          ],
          "name": "stdout"
        }
      ]
    },
    {
      "cell_type": "markdown",
      "metadata": {
        "id": "OFbdSs_EzN_q",
        "colab_type": "text"
      },
      "source": [
        "Por fim, para este algoritmo, será tentado um Ensemble de MLP's para avaliar se em conjunto trazem resultados melhores."
      ]
    },
    {
      "cell_type": "code",
      "metadata": {
        "id": "YggeF_69tm-R",
        "colab_type": "code",
        "colab": {}
      },
      "source": [
        "from sklearn.ensemble import VotingRegressor"
      ],
      "execution_count": 0,
      "outputs": []
    },
    {
      "cell_type": "code",
      "metadata": {
        "id": "bfH2IYrwtv0F",
        "colab_type": "code",
        "outputId": "6f6be335-2f63-48b7-8430-196bf866193a",
        "colab": {
          "base_uri": "https://localhost:8080/",
          "height": 11753
        }
      },
      "source": [
        "ens_reg1 = VotingRegressor([('mlp1', reg1), ('mlp2', reg2), ('mlp3', reg3), \n",
        "                            ('mlp4', reg4), ('mlp5', reg5)])\n",
        "ens_reg1.fit(X_train, y_train)\n",
        "\n",
        "y_ens_train_pred1 = ens_reg1.predict(X_train)\n",
        "y_ens_pred1 = ens_reg1.predict(X_test)\n",
        "\n",
        "train_ens_error1 = mean_squared_error(y_train, y_ens_train_pred1)\n",
        "test_ens_error1 = mean_squared_error(y_test, y_ens_pred1)"
      ],
      "execution_count": 297,
      "outputs": [
        {
          "output_type": "stream",
          "text": [
            "Iteration 1, loss = 4.85499952\n",
            "Validation score: -17.510412\n",
            "Iteration 2, loss = 1.31189929\n",
            "Validation score: -2.427315\n",
            "Iteration 3, loss = 0.26545502\n",
            "Validation score: -0.230000\n",
            "Iteration 4, loss = 0.17750736\n",
            "Validation score: -0.193456\n",
            "Iteration 5, loss = 0.17065563\n",
            "Validation score: -0.134441\n",
            "Iteration 6, loss = 0.16413266\n",
            "Validation score: -0.096988\n",
            "Iteration 7, loss = 0.15895075\n",
            "Validation score: -0.065271\n",
            "Iteration 8, loss = 0.15501692\n",
            "Validation score: -0.040692\n",
            "Iteration 9, loss = 0.15168672\n",
            "Validation score: -0.021208\n",
            "Iteration 10, loss = 0.14909285\n",
            "Validation score: -0.006193\n",
            "Iteration 11, loss = 0.14706440\n",
            "Validation score: 0.005239\n",
            "Iteration 12, loss = 0.14546685\n",
            "Validation score: 0.014512\n",
            "Iteration 13, loss = 0.14427148\n",
            "Validation score: 0.021002\n",
            "Iteration 14, loss = 0.14331746\n",
            "Validation score: 0.026775\n",
            "Iteration 15, loss = 0.14245973\n",
            "Validation score: 0.030904\n",
            "Iteration 16, loss = 0.14184057\n",
            "Validation score: 0.033030\n",
            "Iteration 17, loss = 0.14131563\n",
            "Validation score: 0.036768\n",
            "Iteration 18, loss = 0.14089519\n",
            "Validation score: 0.039212\n",
            "Iteration 19, loss = 0.14054341\n",
            "Validation score: 0.041059\n",
            "Iteration 20, loss = 0.14019837\n",
            "Validation score: 0.043192\n",
            "Iteration 21, loss = 0.13989314\n",
            "Validation score: 0.044149\n",
            "Iteration 22, loss = 0.13967775\n",
            "Validation score: 0.046961\n",
            "Iteration 23, loss = 0.13951591\n",
            "Validation score: 0.046734\n",
            "Iteration 24, loss = 0.13927709\n",
            "Validation score: 0.050092\n",
            "Iteration 25, loss = 0.13902556\n",
            "Validation score: 0.050703\n",
            "Iteration 26, loss = 0.13885121\n",
            "Validation score: 0.052999\n",
            "Iteration 27, loss = 0.13869225\n",
            "Validation score: 0.052791\n",
            "Iteration 28, loss = 0.13863052\n",
            "Validation score: 0.054394\n",
            "Iteration 29, loss = 0.13845475\n",
            "Validation score: 0.055804\n",
            "Iteration 30, loss = 0.13846405\n",
            "Validation score: 0.055972\n",
            "Iteration 31, loss = 0.13825797\n",
            "Validation score: 0.056757\n",
            "Iteration 32, loss = 0.13803018\n",
            "Validation score: 0.057909\n",
            "Iteration 33, loss = 0.13775480\n",
            "Validation score: 0.058486\n",
            "Iteration 34, loss = 0.13766949\n",
            "Validation score: 0.059723\n",
            "Iteration 35, loss = 0.13774557\n",
            "Validation score: 0.060208\n",
            "Iteration 36, loss = 0.13746326\n",
            "Validation score: 0.062033\n",
            "Iteration 37, loss = 0.13738260\n",
            "Validation score: 0.062572\n",
            "Iteration 38, loss = 0.13725284\n",
            "Validation score: 0.064209\n",
            "Iteration 39, loss = 0.13724850\n",
            "Validation score: 0.063995\n",
            "Iteration 40, loss = 0.13712290\n",
            "Validation score: 0.066167\n",
            "Iteration 41, loss = 0.13689791\n",
            "Validation score: 0.067275\n",
            "Iteration 42, loss = 0.13704454\n",
            "Validation score: 0.067460\n",
            "Iteration 43, loss = 0.13663055\n",
            "Validation score: 0.067340\n",
            "Iteration 44, loss = 0.13672999\n",
            "Validation score: 0.066652\n",
            "Iteration 45, loss = 0.13657465\n",
            "Validation score: 0.065981\n",
            "Iteration 46, loss = 0.13645443\n",
            "Validation score: 0.069623\n",
            "Iteration 47, loss = 0.13638674\n",
            "Validation score: 0.068466\n",
            "Iteration 48, loss = 0.13631930\n",
            "Validation score: 0.070671\n",
            "Iteration 49, loss = 0.13635360\n",
            "Validation score: 0.069678\n",
            "Iteration 50, loss = 0.13613972\n",
            "Validation score: 0.070250\n",
            "Iteration 51, loss = 0.13628196\n",
            "Validation score: 0.068032\n",
            "Iteration 52, loss = 0.13606747\n",
            "Validation score: 0.071339\n",
            "Iteration 53, loss = 0.13594449\n",
            "Validation score: 0.070525\n",
            "Iteration 54, loss = 0.13592607\n",
            "Validation score: 0.070022\n",
            "Iteration 55, loss = 0.13594573\n",
            "Validation score: 0.071729\n",
            "Iteration 56, loss = 0.13570952\n",
            "Validation score: 0.069773\n",
            "Iteration 57, loss = 0.13588781\n",
            "Validation score: 0.071555\n",
            "Iteration 58, loss = 0.13590783\n",
            "Validation score: 0.064920\n",
            "Iteration 59, loss = 0.13595063\n",
            "Validation score: 0.071589\n",
            "Iteration 60, loss = 0.13561020\n",
            "Validation score: 0.072890\n",
            "Iteration 61, loss = 0.13541107\n",
            "Validation score: 0.071724\n",
            "Iteration 62, loss = 0.13548069\n",
            "Validation score: 0.071448\n",
            "Iteration 63, loss = 0.13552853\n",
            "Validation score: 0.074608\n",
            "Iteration 64, loss = 0.13573174\n",
            "Validation score: 0.071715\n",
            "Iteration 65, loss = 0.13555207\n",
            "Validation score: 0.074816\n",
            "Iteration 66, loss = 0.13522271\n",
            "Validation score: 0.073147\n",
            "Iteration 67, loss = 0.13534721\n",
            "Validation score: 0.074013\n",
            "Iteration 68, loss = 0.13532062\n",
            "Validation score: 0.074026\n",
            "Iteration 69, loss = 0.13560498\n",
            "Validation score: 0.068034\n",
            "Iteration 70, loss = 0.13513041\n",
            "Validation score: 0.075610\n",
            "Iteration 71, loss = 0.13498575\n",
            "Validation score: 0.074405\n",
            "Iteration 72, loss = 0.13494186\n",
            "Validation score: 0.073874\n",
            "Iteration 73, loss = 0.13525319\n",
            "Validation score: 0.075988\n",
            "Iteration 74, loss = 0.13490639\n",
            "Validation score: 0.075317\n",
            "Iteration 75, loss = 0.13469424\n",
            "Validation score: 0.076722\n",
            "Iteration 76, loss = 0.13468754\n",
            "Validation score: 0.075632\n",
            "Iteration 77, loss = 0.13474999\n",
            "Validation score: 0.075763\n",
            "Iteration 78, loss = 0.13456220\n",
            "Validation score: 0.075944\n",
            "Iteration 79, loss = 0.13471621\n",
            "Validation score: 0.075075\n",
            "Iteration 80, loss = 0.13465348\n",
            "Validation score: 0.073958\n",
            "Iteration 81, loss = 0.13465298\n",
            "Validation score: 0.076187\n",
            "Iteration 82, loss = 0.13452208\n",
            "Validation score: 0.073936\n",
            "Iteration 83, loss = 0.13436985\n",
            "Validation score: 0.075835\n",
            "Iteration 84, loss = 0.13459929\n",
            "Validation score: 0.073911\n",
            "Iteration 85, loss = 0.13433793\n",
            "Validation score: 0.074099\n",
            "Iteration 86, loss = 0.13433947\n",
            "Validation score: 0.070212\n",
            "Validation score did not improve more than tol=0.000100 for 10 consecutive epochs. Stopping.\n",
            "Iteration 1, loss = 5.46741801\n",
            "Validation score: -26.747775\n",
            "Iteration 2, loss = 2.43235027\n",
            "Validation score: -8.065232\n",
            "Iteration 3, loss = 0.61629853\n",
            "Validation score: -0.689808\n",
            "Iteration 4, loss = 0.20582961\n",
            "Validation score: -0.391413\n",
            "Iteration 5, loss = 0.18914288\n",
            "Validation score: -0.229709\n",
            "Iteration 6, loss = 0.17375336\n",
            "Validation score: -0.151991\n",
            "Iteration 7, loss = 0.16382655\n",
            "Validation score: -0.094289\n",
            "Iteration 8, loss = 0.15704707\n",
            "Validation score: -0.052510\n",
            "Iteration 9, loss = 0.15171508\n",
            "Validation score: -0.022711\n",
            "Iteration 10, loss = 0.14800847\n",
            "Validation score: -0.002821\n",
            "Iteration 11, loss = 0.14543425\n",
            "Validation score: 0.010486\n",
            "Iteration 12, loss = 0.14358694\n",
            "Validation score: 0.020299\n",
            "Iteration 13, loss = 0.14242619\n",
            "Validation score: 0.026234\n",
            "Iteration 14, loss = 0.14138952\n",
            "Validation score: 0.031868\n",
            "Iteration 15, loss = 0.14057423\n",
            "Validation score: 0.037257\n",
            "Iteration 16, loss = 0.13990766\n",
            "Validation score: 0.039217\n",
            "Iteration 17, loss = 0.13938041\n",
            "Validation score: 0.043348\n",
            "Iteration 18, loss = 0.13890267\n",
            "Validation score: 0.045264\n",
            "Iteration 19, loss = 0.13851063\n",
            "Validation score: 0.046685\n",
            "Iteration 20, loss = 0.13818773\n",
            "Validation score: 0.050952\n",
            "Iteration 21, loss = 0.13769289\n",
            "Validation score: 0.050837\n",
            "Iteration 22, loss = 0.13743458\n",
            "Validation score: 0.054676\n",
            "Iteration 23, loss = 0.13719112\n",
            "Validation score: 0.052390\n",
            "Iteration 24, loss = 0.13689699\n",
            "Validation score: 0.058020\n",
            "Iteration 25, loss = 0.13657938\n",
            "Validation score: 0.057831\n",
            "Iteration 26, loss = 0.13634783\n",
            "Validation score: 0.061200\n",
            "Iteration 27, loss = 0.13618094\n",
            "Validation score: 0.059890\n",
            "Iteration 28, loss = 0.13622961\n",
            "Validation score: 0.060787\n",
            "Iteration 29, loss = 0.13593276\n",
            "Validation score: 0.061715\n",
            "Iteration 30, loss = 0.13594100\n",
            "Validation score: 0.060966\n",
            "Iteration 31, loss = 0.13559519\n",
            "Validation score: 0.060236\n",
            "Iteration 32, loss = 0.13545753\n",
            "Validation score: 0.063159\n",
            "Iteration 33, loss = 0.13506102\n",
            "Validation score: 0.064209\n",
            "Iteration 34, loss = 0.13497266\n",
            "Validation score: 0.064811\n",
            "Iteration 35, loss = 0.13511947\n",
            "Validation score: 0.064482\n",
            "Iteration 36, loss = 0.13466865\n",
            "Validation score: 0.065771\n",
            "Iteration 37, loss = 0.13474143\n",
            "Validation score: 0.066479\n",
            "Iteration 38, loss = 0.13448007\n",
            "Validation score: 0.067611\n",
            "Iteration 39, loss = 0.13450414\n",
            "Validation score: 0.067007\n",
            "Iteration 40, loss = 0.13441739\n",
            "Validation score: 0.068424\n",
            "Iteration 41, loss = 0.13396314\n",
            "Validation score: 0.069191\n",
            "Iteration 42, loss = 0.13417332\n",
            "Validation score: 0.068652\n",
            "Iteration 43, loss = 0.13370564\n",
            "Validation score: 0.069104\n",
            "Iteration 44, loss = 0.13372790\n",
            "Validation score: 0.067188\n",
            "Iteration 45, loss = 0.13355448\n",
            "Validation score: 0.066490\n",
            "Iteration 46, loss = 0.13339376\n",
            "Validation score: 0.069444\n",
            "Iteration 47, loss = 0.13327042\n",
            "Validation score: 0.067869\n",
            "Iteration 48, loss = 0.13320484\n",
            "Validation score: 0.069623\n",
            "Iteration 49, loss = 0.13320032\n",
            "Validation score: 0.067810\n",
            "Iteration 50, loss = 0.13285693\n",
            "Validation score: 0.067992\n",
            "Iteration 51, loss = 0.13300654\n",
            "Validation score: 0.065344\n",
            "Iteration 52, loss = 0.13267891\n",
            "Validation score: 0.067935\n",
            "Iteration 53, loss = 0.13248706\n",
            "Validation score: 0.066121\n",
            "Iteration 54, loss = 0.13246325\n",
            "Validation score: 0.066874\n",
            "Iteration 55, loss = 0.13241950\n",
            "Validation score: 0.067772\n",
            "Iteration 56, loss = 0.13206850\n",
            "Validation score: 0.063676\n",
            "Iteration 57, loss = 0.13214515\n",
            "Validation score: 0.066726\n",
            "Iteration 58, loss = 0.13200077\n",
            "Validation score: 0.058520\n",
            "Iteration 59, loss = 0.13196362\n",
            "Validation score: 0.063770\n",
            "Validation score did not improve more than tol=0.000100 for 10 consecutive epochs. Stopping.\n",
            "Iteration 1, loss = 5.40918345\n",
            "Validation score: -10.688977\n",
            "Iteration 2, loss = 0.68354423\n",
            "Validation score: -0.061315\n",
            "Iteration 3, loss = 0.16440996\n",
            "Validation score: -0.125763\n",
            "Iteration 4, loss = 0.15570976\n",
            "Validation score: 0.009806\n",
            "Iteration 5, loss = 0.14787773\n",
            "Validation score: 0.021446\n",
            "Iteration 6, loss = 0.14539798\n",
            "Validation score: 0.029565\n",
            "Iteration 7, loss = 0.14370224\n",
            "Validation score: 0.036763\n",
            "Iteration 8, loss = 0.14205229\n",
            "Validation score: 0.045701\n",
            "Iteration 9, loss = 0.14062653\n",
            "Validation score: 0.050320\n",
            "Iteration 10, loss = 0.13931783\n",
            "Validation score: 0.055917\n",
            "Iteration 11, loss = 0.13827525\n",
            "Validation score: 0.060237\n",
            "Iteration 12, loss = 0.13731786\n",
            "Validation score: 0.063594\n",
            "Iteration 13, loss = 0.13650150\n",
            "Validation score: 0.066890\n",
            "Iteration 14, loss = 0.13583143\n",
            "Validation score: 0.069591\n",
            "Iteration 15, loss = 0.13516974\n",
            "Validation score: 0.071426\n",
            "Iteration 16, loss = 0.13474584\n",
            "Validation score: 0.072402\n",
            "Iteration 17, loss = 0.13416928\n",
            "Validation score: 0.075168\n",
            "Iteration 18, loss = 0.13376641\n",
            "Validation score: 0.076383\n",
            "Iteration 19, loss = 0.13342901\n",
            "Validation score: 0.078124\n",
            "Iteration 20, loss = 0.13309485\n",
            "Validation score: 0.078804\n",
            "Iteration 21, loss = 0.13283216\n",
            "Validation score: 0.079372\n",
            "Iteration 22, loss = 0.13260672\n",
            "Validation score: 0.080135\n",
            "Iteration 23, loss = 0.13236819\n",
            "Validation score: 0.081405\n",
            "Iteration 24, loss = 0.13220826\n",
            "Validation score: 0.081212\n",
            "Iteration 25, loss = 0.13202103\n",
            "Validation score: 0.082442\n",
            "Iteration 26, loss = 0.13185001\n",
            "Validation score: 0.082908\n",
            "Iteration 27, loss = 0.13166811\n",
            "Validation score: 0.085474\n",
            "Iteration 28, loss = 0.13147641\n",
            "Validation score: 0.083868\n",
            "Iteration 29, loss = 0.13154820\n",
            "Validation score: 0.086024\n",
            "Iteration 30, loss = 0.13114140\n",
            "Validation score: 0.084970\n",
            "Iteration 31, loss = 0.13111186\n",
            "Validation score: 0.086707\n",
            "Iteration 32, loss = 0.13101156\n",
            "Validation score: 0.086812\n",
            "Iteration 33, loss = 0.13089119\n",
            "Validation score: 0.089449\n",
            "Iteration 34, loss = 0.13081521\n",
            "Validation score: 0.087630\n",
            "Iteration 35, loss = 0.13054515\n",
            "Validation score: 0.089645\n",
            "Iteration 36, loss = 0.13054739\n",
            "Validation score: 0.084380\n",
            "Iteration 37, loss = 0.13042686\n",
            "Validation score: 0.089969\n",
            "Iteration 38, loss = 0.13029778\n",
            "Validation score: 0.090370\n",
            "Iteration 39, loss = 0.13011195\n",
            "Validation score: 0.091178\n",
            "Iteration 40, loss = 0.13020921\n",
            "Validation score: 0.091477\n",
            "Iteration 41, loss = 0.12996471\n",
            "Validation score: 0.088359\n",
            "Iteration 42, loss = 0.12998753\n",
            "Validation score: 0.091486\n",
            "Iteration 43, loss = 0.12971253\n",
            "Validation score: 0.092770\n",
            "Iteration 44, loss = 0.12955953\n",
            "Validation score: 0.092697\n",
            "Iteration 45, loss = 0.12954272\n",
            "Validation score: 0.093629\n",
            "Iteration 46, loss = 0.12954134\n",
            "Validation score: 0.095272\n",
            "Iteration 47, loss = 0.12935168\n",
            "Validation score: 0.091162\n",
            "Iteration 48, loss = 0.12933351\n",
            "Validation score: 0.093128\n",
            "Iteration 49, loss = 0.12915097\n",
            "Validation score: 0.095432\n",
            "Iteration 50, loss = 0.12892391\n",
            "Validation score: 0.096277\n",
            "Iteration 51, loss = 0.12883464\n",
            "Validation score: 0.095231\n",
            "Iteration 52, loss = 0.12892026\n",
            "Validation score: 0.093444\n",
            "Iteration 53, loss = 0.12892489\n",
            "Validation score: 0.097323\n",
            "Iteration 54, loss = 0.12886713\n",
            "Validation score: 0.095129\n",
            "Iteration 55, loss = 0.12837341\n",
            "Validation score: 0.089995\n",
            "Iteration 56, loss = 0.12872459\n",
            "Validation score: 0.098000\n",
            "Iteration 57, loss = 0.12829480\n",
            "Validation score: 0.098880\n",
            "Iteration 58, loss = 0.12817155\n",
            "Validation score: 0.096701\n",
            "Iteration 59, loss = 0.12821199\n",
            "Validation score: 0.098529\n",
            "Iteration 60, loss = 0.12798922\n",
            "Validation score: 0.101193\n",
            "Iteration 61, loss = 0.12808490\n",
            "Validation score: 0.099901\n",
            "Iteration 62, loss = 0.12779323\n",
            "Validation score: 0.100619\n",
            "Iteration 63, loss = 0.12768373\n",
            "Validation score: 0.097697\n",
            "Iteration 64, loss = 0.12757241\n",
            "Validation score: 0.099845\n",
            "Iteration 65, loss = 0.12736049\n",
            "Validation score: 0.098631\n",
            "Iteration 66, loss = 0.12729163\n",
            "Validation score: 0.099823\n",
            "Iteration 67, loss = 0.12707818\n",
            "Validation score: 0.102398\n",
            "Iteration 68, loss = 0.12757080\n",
            "Validation score: 0.101545\n",
            "Iteration 69, loss = 0.12685005\n",
            "Validation score: 0.099788\n",
            "Iteration 70, loss = 0.12681133\n",
            "Validation score: 0.098840\n",
            "Iteration 71, loss = 0.12666229\n",
            "Validation score: 0.100483\n",
            "Iteration 72, loss = 0.12678271\n",
            "Validation score: 0.102159\n",
            "Iteration 73, loss = 0.12700196\n",
            "Validation score: 0.102245\n",
            "Iteration 74, loss = 0.12631128\n",
            "Validation score: 0.103505\n",
            "Iteration 75, loss = 0.12669253\n",
            "Validation score: 0.103214\n",
            "Iteration 76, loss = 0.12621610\n",
            "Validation score: 0.104681\n",
            "Iteration 77, loss = 0.12602591\n",
            "Validation score: 0.104089\n",
            "Iteration 78, loss = 0.12614394\n",
            "Validation score: 0.105256\n",
            "Iteration 79, loss = 0.12574414\n",
            "Validation score: 0.107027\n",
            "Iteration 80, loss = 0.12569206\n",
            "Validation score: 0.104694\n",
            "Iteration 81, loss = 0.12555610\n",
            "Validation score: 0.105440\n",
            "Iteration 82, loss = 0.12524900\n",
            "Validation score: 0.100765\n",
            "Iteration 83, loss = 0.12584636\n",
            "Validation score: 0.107277\n",
            "Iteration 84, loss = 0.12534851\n",
            "Validation score: 0.106901\n",
            "Iteration 85, loss = 0.12552181\n",
            "Validation score: 0.105487\n",
            "Iteration 86, loss = 0.12476516\n",
            "Validation score: 0.105742\n",
            "Iteration 87, loss = 0.12472851\n",
            "Validation score: 0.106614\n",
            "Iteration 88, loss = 0.12443703\n",
            "Validation score: 0.100816\n",
            "Iteration 89, loss = 0.12448490\n",
            "Validation score: 0.104458\n",
            "Iteration 90, loss = 0.12438103\n",
            "Validation score: 0.106064\n",
            "Iteration 91, loss = 0.12431488\n",
            "Validation score: 0.104143\n",
            "Iteration 92, loss = 0.12416316\n",
            "Validation score: 0.103129\n",
            "Iteration 93, loss = 0.12401464\n",
            "Validation score: 0.106008\n",
            "Iteration 94, loss = 0.12420397\n",
            "Validation score: 0.103555\n",
            "Validation score did not improve more than tol=0.000100 for 10 consecutive epochs. Stopping.\n",
            "Iteration 1, loss = 6.75185471\n",
            "Validation score: -28.789656\n",
            "Iteration 2, loss = 2.51419412\n",
            "Validation score: -2.818759\n",
            "Iteration 3, loss = 0.31236163\n",
            "Validation score: -0.770644\n",
            "Iteration 4, loss = 0.20318359\n",
            "Validation score: -0.238368\n",
            "Iteration 5, loss = 0.16942964\n",
            "Validation score: -0.110502\n",
            "Iteration 6, loss = 0.15561742\n",
            "Validation score: -0.037347\n",
            "Iteration 7, loss = 0.14699684\n",
            "Validation score: 0.002007\n",
            "Iteration 8, loss = 0.14175489\n",
            "Validation score: 0.028691\n",
            "Iteration 9, loss = 0.13846544\n",
            "Validation score: 0.044872\n",
            "Iteration 10, loss = 0.13628641\n",
            "Validation score: 0.054325\n",
            "Iteration 11, loss = 0.13481284\n",
            "Validation score: 0.062022\n",
            "Iteration 12, loss = 0.13377495\n",
            "Validation score: 0.064858\n",
            "Iteration 13, loss = 0.13289069\n",
            "Validation score: 0.069993\n",
            "Iteration 14, loss = 0.13217643\n",
            "Validation score: 0.072338\n",
            "Iteration 15, loss = 0.13150780\n",
            "Validation score: 0.075713\n",
            "Iteration 16, loss = 0.13110095\n",
            "Validation score: 0.072024\n",
            "Iteration 17, loss = 0.13036073\n",
            "Validation score: 0.078946\n",
            "Iteration 18, loss = 0.12973154\n",
            "Validation score: 0.080650\n",
            "Iteration 19, loss = 0.12939476\n",
            "Validation score: 0.083373\n",
            "Iteration 20, loss = 0.12876030\n",
            "Validation score: 0.083577\n",
            "Iteration 21, loss = 0.12835470\n",
            "Validation score: 0.085834\n",
            "Iteration 22, loss = 0.12791191\n",
            "Validation score: 0.085725\n",
            "Iteration 23, loss = 0.12748839\n",
            "Validation score: 0.089041\n",
            "Iteration 24, loss = 0.12732721\n",
            "Validation score: 0.089190\n",
            "Iteration 25, loss = 0.12699741\n",
            "Validation score: 0.088592\n",
            "Iteration 26, loss = 0.12632410\n",
            "Validation score: 0.088725\n",
            "Iteration 27, loss = 0.12579539\n",
            "Validation score: 0.091498\n",
            "Iteration 28, loss = 0.12575275\n",
            "Validation score: 0.081657\n",
            "Iteration 29, loss = 0.12560383\n",
            "Validation score: 0.086560\n",
            "Iteration 30, loss = 0.12507623\n",
            "Validation score: 0.089550\n",
            "Iteration 31, loss = 0.12463931\n",
            "Validation score: 0.090388\n",
            "Iteration 32, loss = 0.12421697\n",
            "Validation score: 0.085042\n",
            "Iteration 33, loss = 0.12389339\n",
            "Validation score: 0.095233\n",
            "Iteration 34, loss = 0.12361914\n",
            "Validation score: 0.091595\n",
            "Iteration 35, loss = 0.12304920\n",
            "Validation score: 0.092381\n",
            "Iteration 36, loss = 0.12282679\n",
            "Validation score: 0.086982\n",
            "Iteration 37, loss = 0.12251776\n",
            "Validation score: 0.090932\n",
            "Iteration 38, loss = 0.12200093\n",
            "Validation score: 0.086856\n",
            "Iteration 39, loss = 0.12178759\n",
            "Validation score: 0.089138\n",
            "Iteration 40, loss = 0.12147378\n",
            "Validation score: 0.089573\n",
            "Iteration 41, loss = 0.12093213\n",
            "Validation score: 0.086685\n",
            "Iteration 42, loss = 0.12061765\n",
            "Validation score: 0.081887\n",
            "Iteration 43, loss = 0.12048977\n",
            "Validation score: 0.085563\n",
            "Iteration 44, loss = 0.11977230\n",
            "Validation score: 0.082787\n",
            "Validation score did not improve more than tol=0.000100 for 10 consecutive epochs. Stopping.\n",
            "Iteration 1, loss = 7.31443783\n",
            "Validation score: -39.510509\n",
            "Iteration 2, loss = 3.29450615\n",
            "Validation score: -1.928914\n",
            "Iteration 3, loss = 0.32123199\n",
            "Validation score: -0.317949\n",
            "Iteration 4, loss = 0.18996667\n",
            "Validation score: -0.155390\n",
            "Iteration 5, loss = 0.16144629\n",
            "Validation score: -0.078864\n",
            "Iteration 6, loss = 0.14919940\n",
            "Validation score: -0.036994\n",
            "Iteration 7, loss = 0.14324938\n",
            "Validation score: -0.005304\n",
            "Iteration 8, loss = 0.13941598\n",
            "Validation score: 0.010302\n",
            "Iteration 9, loss = 0.13687524\n",
            "Validation score: 0.023558\n",
            "Iteration 10, loss = 0.13516592\n",
            "Validation score: 0.029644\n",
            "Iteration 11, loss = 0.13422111\n",
            "Validation score: 0.030778\n",
            "Iteration 12, loss = 0.13352007\n",
            "Validation score: 0.038167\n",
            "Iteration 13, loss = 0.13248660\n",
            "Validation score: 0.039785\n",
            "Iteration 14, loss = 0.13214885\n",
            "Validation score: 0.040444\n",
            "Iteration 15, loss = 0.13132388\n",
            "Validation score: 0.041238\n",
            "Iteration 16, loss = 0.13098631\n",
            "Validation score: 0.045980\n",
            "Iteration 17, loss = 0.13053950\n",
            "Validation score: 0.045850\n",
            "Iteration 18, loss = 0.12996751\n",
            "Validation score: 0.044820\n",
            "Iteration 19, loss = 0.12966049\n",
            "Validation score: 0.045379\n",
            "Iteration 20, loss = 0.12906714\n",
            "Validation score: 0.047484\n",
            "Iteration 21, loss = 0.12880992\n",
            "Validation score: 0.044582\n",
            "Iteration 22, loss = 0.12870201\n",
            "Validation score: 0.048903\n",
            "Iteration 23, loss = 0.12813473\n",
            "Validation score: 0.050630\n",
            "Iteration 24, loss = 0.12752022\n",
            "Validation score: 0.049038\n",
            "Iteration 25, loss = 0.12738334\n",
            "Validation score: 0.048575\n",
            "Iteration 26, loss = 0.12747324\n",
            "Validation score: 0.046761\n",
            "Iteration 27, loss = 0.12703826\n",
            "Validation score: 0.049302\n",
            "Iteration 28, loss = 0.12612671\n",
            "Validation score: 0.049691\n",
            "Iteration 29, loss = 0.12578988\n",
            "Validation score: 0.044907\n",
            "Iteration 30, loss = 0.12591806\n",
            "Validation score: 0.044713\n",
            "Iteration 31, loss = 0.12526926\n",
            "Validation score: 0.049226\n",
            "Iteration 32, loss = 0.12473705\n",
            "Validation score: 0.048177\n",
            "Iteration 33, loss = 0.12442646\n",
            "Validation score: 0.048639\n",
            "Iteration 34, loss = 0.12415509\n",
            "Validation score: 0.050124\n",
            "Validation score did not improve more than tol=0.000100 for 10 consecutive epochs. Stopping.\n"
          ],
          "name": "stdout"
        }
      ]
    },
    {
      "cell_type": "markdown",
      "metadata": {
        "id": "aDsEL72Pz0Mr",
        "colab_type": "text"
      },
      "source": [
        "Apesar dos resultados não serem necessariamente ruins estão abaixo do esperado para um Ensemble(a rede 4 isoladamente é melhor que o Ensemble). Existem outros parâmetros a serem investigados e alternativas na construção dos Ensembles como regularização, inicialização dos pesos, etc. mas será optado por dar segmento a investigação dos algoritmos."
      ]
    },
    {
      "cell_type": "code",
      "metadata": {
        "id": "OY2nUF6WzgKE",
        "colab_type": "code",
        "colab": {
          "base_uri": "https://localhost:8080/",
          "height": 109
        },
        "outputId": "805bbe6a-7d3e-4ba8-9b4b-3146989bec67"
      },
      "source": [
        "summary_results(y_test, y_ens_pred1)"
      ],
      "execution_count": 298,
      "outputs": [
        {
          "output_type": "stream",
          "text": [
            "MSE: 0.26633921521464776\n",
            "MAE: 0.3650182023662229\n",
            "R^2: 0.045052305539081794\n",
            "MSLE: 0.013161581302788777\n",
            "MAPE: 10.262294678802624\n"
          ],
          "name": "stdout"
        }
      ]
    },
    {
      "cell_type": "code",
      "metadata": {
        "id": "0fvt4zwLQGy8",
        "colab_type": "code",
        "outputId": "901f5443-447b-4e34-8d96-590249e50060",
        "colab": {
          "base_uri": "https://localhost:8080/",
          "height": 35
        }
      },
      "source": [
        "print(f'Viés: {train_ens_error1-target_error} ; Variância: {test_ens_error1-train_ens_error1}')"
      ],
      "execution_count": 299,
      "outputs": [
        {
          "output_type": "stream",
          "text": [
            "Viés: 0.10562700530854338 ; Variância: 0.010712209906104386\n"
          ],
          "name": "stdout"
        }
      ]
    },
    {
      "cell_type": "markdown",
      "metadata": {
        "id": "7u8uFOr8FOZR",
        "colab_type": "text"
      },
      "source": [
        "###K Nearest Neighbours"
      ]
    },
    {
      "cell_type": "markdown",
      "metadata": {
        "id": "YtkXqQ5c03BC",
        "colab_type": "text"
      },
      "source": [
        "Este é um dos algoritmos mais simples. Ele prediz o valor baseado nos K(hiperparâmetro) pontos no dataset mais próximos calculados por uma medida de distância."
      ]
    },
    {
      "cell_type": "code",
      "metadata": {
        "id": "NzkyvnnJlgrH",
        "colab_type": "code",
        "colab": {}
      },
      "source": [
        "from sklearn.neighbors import KNeighborsRegressor"
      ],
      "execution_count": 0,
      "outputs": []
    },
    {
      "cell_type": "code",
      "metadata": {
        "id": "Bn8Ji5JDqyjx",
        "colab_type": "code",
        "outputId": "5376540c-bbff-4f97-cdb2-940d3fe7d99f",
        "colab": {
          "base_uri": "https://localhost:8080/",
          "height": 72
        }
      },
      "source": [
        "reg1 = KNeighborsRegressor(n_neighbors=5)\n",
        "reg1.fit(X_train, y_train)"
      ],
      "execution_count": 327,
      "outputs": [
        {
          "output_type": "execute_result",
          "data": {
            "text/plain": [
              "KNeighborsRegressor(algorithm='auto', leaf_size=30, metric='minkowski',\n",
              "                    metric_params=None, n_jobs=None, n_neighbors=5, p=2,\n",
              "                    weights='uniform')"
            ]
          },
          "metadata": {
            "tags": []
          },
          "execution_count": 327
        }
      ]
    },
    {
      "cell_type": "markdown",
      "metadata": {
        "id": "WyvWff0m1Vt5",
        "colab_type": "text"
      },
      "source": [
        "Sendo um algoritmo simples e não tendo muito 'aprendizado' é compreensível que apresente métricas de erro elevadas."
      ]
    },
    {
      "cell_type": "code",
      "metadata": {
        "id": "dl8oEPHcwJp7",
        "colab_type": "code",
        "outputId": "d0700e4a-86d3-4bd8-b8db-8376887eed80",
        "colab": {
          "base_uri": "https://localhost:8080/",
          "height": 109
        }
      },
      "source": [
        "y_pred1 = reg1.predict(X_test)\n",
        "y_train_pred1 = reg1.predict(X_train)\n",
        "\n",
        "train_error = mean_squared_error(y_train, y_train_pred1)\n",
        "test_error1 = mean_squared_error(y_test, y_pred1)\n",
        "\n",
        "summary_results(y_test, y_pred1)"
      ],
      "execution_count": 328,
      "outputs": [
        {
          "output_type": "stream",
          "text": [
            "MSE: 0.2899209756097561\n",
            "MAE: 0.3798861788617886\n",
            "R^2: -0.039499072681694836\n",
            "MSLE: 0.014146240214403232\n",
            "MAPE: 10.674224245136338\n"
          ],
          "name": "stdout"
        }
      ]
    },
    {
      "cell_type": "code",
      "metadata": {
        "id": "GmS2GDnaSKHf",
        "colab_type": "code",
        "outputId": "d08c6c92-3b3e-498e-c959-fe150cdc4696",
        "colab": {
          "base_uri": "https://localhost:8080/",
          "height": 35
        }
      },
      "source": [
        "print(f'Viés: {train_error1-target_error} ; Variância: {test_error1-train_error1}')"
      ],
      "execution_count": 329,
      "outputs": [
        {
          "output_type": "stream",
          "text": [
            "Viés: 0.1127565354164419 ; Variância: 0.02716444019331421\n"
          ],
          "name": "stdout"
        }
      ]
    },
    {
      "cell_type": "markdown",
      "metadata": {
        "id": "dSvO74MC1kLI",
        "colab_type": "text"
      },
      "source": [
        "Ainda nessas condições será feita uma busca de hiperparâmetros usando Grid Search afim de encontra o melhor K e distânica que minimize os erro no dataset."
      ]
    },
    {
      "cell_type": "code",
      "metadata": {
        "id": "A6cEZ6ScxMlS",
        "colab_type": "code",
        "colab": {}
      },
      "source": [
        "param_grid = {\n",
        "    'n_neighbors': list(range(3, 35, 2)),\n",
        "    'metric': ['euclidean', 'manhattan', 'chebyshev']\n",
        "}"
      ],
      "execution_count": 0,
      "outputs": []
    },
    {
      "cell_type": "code",
      "metadata": {
        "id": "8deNtp91yO5I",
        "colab_type": "code",
        "colab": {}
      },
      "source": [
        "from sklearn.model_selection import GridSearchCV"
      ],
      "execution_count": 0,
      "outputs": []
    },
    {
      "cell_type": "markdown",
      "metadata": {
        "id": "bhOXVn-C4BLO",
        "colab_type": "text"
      },
      "source": [
        "Observando as métricas, elas são comparáveis as MLP's mesmo com um algoritmo simples. O melhor K escolhido foi o igual ao 33 e talvez aumentá-lo pode gerar melhoria em algumas métricas mas um valor muito alto gerar um grande viés e levar o modelo a underfitting. "
      ]
    },
    {
      "cell_type": "code",
      "metadata": {
        "id": "re07KaEkx9i1",
        "colab_type": "code",
        "outputId": "db6d356a-ef2f-4b4f-cd28-f5227792163a",
        "colab": {
          "base_uri": "https://localhost:8080/",
          "height": 109
        }
      },
      "source": [
        "reg2 = KNeighborsRegressor()\n",
        "grid_search = GridSearchCV(estimator=reg2, param_grid=param_grid, cv=5,\n",
        "                          n_jobs=-1, verbose=0)\n",
        "grid_search.fit(X_train, y_train)\n",
        "best_estimator = grid_search.best_estimator_\n",
        "\n",
        "y_pred2 = best_estimator.predict(X_test)\n",
        "y_train_pred2 = best_estimator.predict(X_train)\n",
        "\n",
        "train_error2 = mean_squared_error(y_train, y_train_pred2)\n",
        "test_error2 = mean_squared_error(y_test, y_pred2)\n",
        "\n",
        "summary_results(y_test, y_pred2)"
      ],
      "execution_count": 307,
      "outputs": [
        {
          "output_type": "stream",
          "text": [
            "MSE: 0.2651708212949898\n",
            "MAE: 0.3643483616654349\n",
            "R^2: 0.04924153121844821\n",
            "MSLE: 0.013242420225513842\n",
            "MAPE: 10.335792928387995\n"
          ],
          "name": "stdout"
        }
      ]
    },
    {
      "cell_type": "code",
      "metadata": {
        "id": "JEEyc5-k1Lfw",
        "colab_type": "code",
        "outputId": "690889ae-3e91-43bf-8513-a06462fe61ae",
        "colab": {
          "base_uri": "https://localhost:8080/",
          "height": 164
        }
      },
      "source": [
        "best_estimator.get_params()"
      ],
      "execution_count": 308,
      "outputs": [
        {
          "output_type": "execute_result",
          "data": {
            "text/plain": [
              "{'algorithm': 'auto',\n",
              " 'leaf_size': 30,\n",
              " 'metric': 'manhattan',\n",
              " 'metric_params': None,\n",
              " 'n_jobs': None,\n",
              " 'n_neighbors': 33,\n",
              " 'p': 2,\n",
              " 'weights': 'uniform'}"
            ]
          },
          "metadata": {
            "tags": []
          },
          "execution_count": 308
        }
      ]
    },
    {
      "cell_type": "code",
      "metadata": {
        "id": "rH7W1-2ZS4tM",
        "colab_type": "code",
        "outputId": "ae235e84-238b-4001-9f9b-1c1db1ca89b9",
        "colab": {
          "base_uri": "https://localhost:8080/",
          "height": 35
        }
      },
      "source": [
        "print(f'Viés: {train_error2-target_error} ; Variância: {test_error2-train_error2}')"
      ],
      "execution_count": 330,
      "outputs": [
        {
          "output_type": "stream",
          "text": [
            "Viés: 0.10658926565799023 ; Variância: 0.008581555636999583\n"
          ],
          "name": "stdout"
        }
      ]
    },
    {
      "cell_type": "markdown",
      "metadata": {
        "id": "OpVYxUpGFXYr",
        "colab_type": "text"
      },
      "source": [
        "###Tpot"
      ]
    },
    {
      "cell_type": "markdown",
      "metadata": {
        "id": "CRPqOLhm614P",
        "colab_type": "text"
      },
      "source": [
        "O Tpot é uma biblioteca de AutoML que utiliza programação genética para otimização."
      ]
    },
    {
      "cell_type": "code",
      "metadata": {
        "id": "UePPLphwrtcL",
        "colab_type": "code",
        "outputId": "87b95f0f-769d-4cd5-989f-aad593c610d6",
        "colab": {
          "base_uri": "https://localhost:8080/",
          "height": 625
        }
      },
      "source": [
        "  !pip install tpot"
      ],
      "execution_count": 331,
      "outputs": [
        {
          "output_type": "stream",
          "text": [
            "Collecting tpot\n",
            "\u001b[?25l  Downloading https://files.pythonhosted.org/packages/15/c8/46f5c7231f8e3088052cda78ed36198f9ded9f5a5edfc99290f31aa6b57e/TPOT-0.10.1-py3-none-any.whl (74kB)\n",
            "\u001b[K     |████████████████████████████████| 81kB 3.2MB/s \n",
            "\u001b[?25hRequirement already satisfied: numpy>=1.12.1 in /usr/local/lib/python3.6/dist-packages (from tpot) (1.16.4)\n",
            "Requirement already satisfied: scikit-learn>=0.18.1 in /usr/local/lib/python3.6/dist-packages (from tpot) (0.21.2)\n",
            "Collecting stopit>=1.1.1 (from tpot)\n",
            "  Downloading https://files.pythonhosted.org/packages/35/58/e8bb0b0fb05baf07bbac1450c447d753da65f9701f551dca79823ce15d50/stopit-1.1.2.tar.gz\n",
            "Requirement already satisfied: tqdm>=4.26.0 in /usr/local/lib/python3.6/dist-packages (from tpot) (4.28.1)\n",
            "Requirement already satisfied: pandas>=0.20.2 in /usr/local/lib/python3.6/dist-packages (from tpot) (0.24.2)\n",
            "Requirement already satisfied: scipy>=0.19.0 in /usr/local/lib/python3.6/dist-packages (from tpot) (1.3.0)\n",
            "Collecting update-checker>=0.16 (from tpot)\n",
            "  Downloading https://files.pythonhosted.org/packages/17/c9/ab11855af164d03be0ff4fddd4c46a5bd44799a9ecc1770e01a669c21168/update_checker-0.16-py2.py3-none-any.whl\n",
            "Collecting deap>=1.0 (from tpot)\n",
            "\u001b[?25l  Downloading https://files.pythonhosted.org/packages/af/29/e7f2ecbe02997b16a768baed076f5fc4781d7057cd5d9adf7c94027845ba/deap-1.2.2.tar.gz (936kB)\n",
            "\u001b[K     |████████████████████████████████| 942kB 8.7MB/s \n",
            "\u001b[?25hRequirement already satisfied: joblib>=0.11 in /usr/local/lib/python3.6/dist-packages (from scikit-learn>=0.18.1->tpot) (0.13.2)\n",
            "Requirement already satisfied: pytz>=2011k in /usr/local/lib/python3.6/dist-packages (from pandas>=0.20.2->tpot) (2018.9)\n",
            "Requirement already satisfied: python-dateutil>=2.5.0 in /usr/local/lib/python3.6/dist-packages (from pandas>=0.20.2->tpot) (2.5.3)\n",
            "Requirement already satisfied: requests>=2.3.0 in /usr/local/lib/python3.6/dist-packages (from update-checker>=0.16->tpot) (2.21.0)\n",
            "Requirement already satisfied: six>=1.5 in /usr/local/lib/python3.6/dist-packages (from python-dateutil>=2.5.0->pandas>=0.20.2->tpot) (1.12.0)\n",
            "Requirement already satisfied: certifi>=2017.4.17 in /usr/local/lib/python3.6/dist-packages (from requests>=2.3.0->update-checker>=0.16->tpot) (2019.3.9)\n",
            "Requirement already satisfied: idna<2.9,>=2.5 in /usr/local/lib/python3.6/dist-packages (from requests>=2.3.0->update-checker>=0.16->tpot) (2.8)\n",
            "Requirement already satisfied: chardet<3.1.0,>=3.0.2 in /usr/local/lib/python3.6/dist-packages (from requests>=2.3.0->update-checker>=0.16->tpot) (3.0.4)\n",
            "Requirement already satisfied: urllib3<1.25,>=1.21.1 in /usr/local/lib/python3.6/dist-packages (from requests>=2.3.0->update-checker>=0.16->tpot) (1.24.3)\n",
            "Building wheels for collected packages: stopit, deap\n",
            "  Building wheel for stopit (setup.py) ... \u001b[?25l\u001b[?25hdone\n",
            "  Stored in directory: /root/.cache/pip/wheels/3c/85/2b/2580190404636bfc63e8de3dff629c03bb795021e1983a6cc7\n",
            "  Building wheel for deap (setup.py) ... \u001b[?25l\u001b[?25hdone\n",
            "  Stored in directory: /root/.cache/pip/wheels/22/ea/bf/dc7c8a2262025a0ab5da9ef02282c198be88902791ca0c6658\n",
            "Successfully built stopit deap\n",
            "Installing collected packages: stopit, update-checker, deap, tpot\n",
            "Successfully installed deap-1.2.2 stopit-1.1.2 tpot-0.10.1 update-checker-0.16\n"
          ],
          "name": "stdout"
        }
      ]
    },
    {
      "cell_type": "code",
      "metadata": {
        "id": "H2RkAxwQuWEh",
        "colab_type": "code",
        "outputId": "d7585520-6b6d-402f-ffae-6701ac177896",
        "colab": {
          "base_uri": "https://localhost:8080/",
          "height": 74
        }
      },
      "source": [
        "from tpot import TPOTRegressor"
      ],
      "execution_count": 332,
      "outputs": [
        {
          "output_type": "stream",
          "text": [
            "/usr/local/lib/python3.6/dist-packages/sklearn/externals/joblib/__init__.py:15: DeprecationWarning: sklearn.externals.joblib is deprecated in 0.21 and will be removed in 0.23. Please import this functionality directly from joblib, which can be installed with: pip install joblib. If this warning is raised when loading pickled models, you may need to re-serialize those models with scikit-learn 0.21+.\n",
            "  warnings.warn(msg, category=DeprecationWarning)\n"
          ],
          "name": "stderr"
        }
      ]
    },
    {
      "cell_type": "code",
      "metadata": {
        "id": "FD7W289ykS-z",
        "colab_type": "code",
        "outputId": "17643c5c-916a-4237-e852-f3e85878aa64",
        "colab": {
          "base_uri": "https://localhost:8080/",
          "height": 164
        }
      },
      "source": [
        "#Será usada early_stop = 5 para poupar tempo mas é natural que valores maiores gerem melhores resultados\n",
        "tpot_reg = TPOTRegressor(generations=30, population_size=30, early_stop=5)\n",
        "tpot_reg.fit(X_train, y_train)"
      ],
      "execution_count": 333,
      "outputs": [
        {
          "output_type": "execute_result",
          "data": {
            "text/plain": [
              "TPOTRegressor(config_dict=None, crossover_rate=0.1, cv=5,\n",
              "              disable_update_check=False, early_stop=5, generations=30,\n",
              "              max_eval_time_mins=5, max_time_mins=None, memory=None,\n",
              "              mutation_rate=0.9, n_jobs=1, offspring_size=None,\n",
              "              periodic_checkpoint_folder=None, population_size=30,\n",
              "              random_state=None, scoring=None, subsample=1.0,\n",
              "              template='RandomTree', use_dask=False, verbosity=0,\n",
              "              warm_start=False)"
            ]
          },
          "metadata": {
            "tags": []
          },
          "execution_count": 333
        }
      ]
    },
    {
      "cell_type": "markdown",
      "metadata": {
        "id": "wakwy9G2OQt4",
        "colab_type": "text"
      },
      "source": [
        "Como pode ser analisado, o Tpot após executado consegue achar bons valores que são refletidos nas métricas com baixo viés e baixa variância."
      ]
    },
    {
      "cell_type": "code",
      "metadata": {
        "id": "5V7V3hYLxaUW",
        "colab_type": "code",
        "outputId": "1350fc3f-7bfc-4060-a720-8f7b0780203c",
        "colab": {
          "base_uri": "https://localhost:8080/",
          "height": 109
        }
      },
      "source": [
        "tpot_y_train_pred = tpot_reg.predict(X_train)\n",
        "tpot_y_pred = tpot_reg.predict(X_test)\n",
        "\n",
        "tpot_train_error = mean_squared_error(y_train, tpot_y_train_pred)\n",
        "tpot_test_error = mean_squared_error(y_test, tpot_y_pred)\n",
        "\n",
        "summary_results(y_test, tpot_y_pred)"
      ],
      "execution_count": 337,
      "outputs": [
        {
          "output_type": "stream",
          "text": [
            "MSE: 0.2507429232151745\n",
            "MAE: 0.3453211772223917\n",
            "R^2: 0.10097213347366962\n",
            "MSLE: 0.012732561466064062\n",
            "MAPE: 9.895086684587566\n"
          ],
          "name": "stdout"
        }
      ]
    },
    {
      "cell_type": "code",
      "metadata": {
        "id": "NFw81xjhNjT4",
        "colab_type": "code",
        "colab": {
          "base_uri": "https://localhost:8080/",
          "height": 35
        },
        "outputId": "d496871c-43d3-4581-f4df-2ca055227717"
      },
      "source": [
        "print(f'Viés: {tpot_train_error-target_error} ; Variância: {tpot_test_error-tpot_train_error}')"
      ],
      "execution_count": 338,
      "outputs": [
        {
          "output_type": "stream",
          "text": [
            "Viés: 0.025859781279937794 ; Variância: 0.07488314193523671\n"
          ],
          "name": "stdout"
        }
      ]
    },
    {
      "cell_type": "markdown",
      "metadata": {
        "id": "s_mJkQ52FdYt",
        "colab_type": "text"
      },
      "source": [
        "###Auto-sklearn"
      ]
    },
    {
      "cell_type": "markdown",
      "metadata": {
        "id": "TM-_qg86Oz7S",
        "colab_type": "text"
      },
      "source": [
        "O auto-sklearn é uma biblioteca de AutoML que utiliza otimização bayesiana, meta-aprendizado e construção de ensembles."
      ]
    },
    {
      "cell_type": "code",
      "metadata": {
        "id": "mK9Hm5SIu18S",
        "colab_type": "code",
        "outputId": "5304ecd7-da49-437a-c59c-b8573c53207d",
        "colab": {
          "base_uri": "https://localhost:8080/",
          "height": 2168
        }
      },
      "source": [
        "#Instalando as dependências:\n",
        "!sudo install sklearn\n",
        "!sudo apt-get install build-essential swig\n",
        "!curl https://raw.githubusercontent.com/automl/auto-sklearn/master/requirements.txt | xargs -n 1 -L 1 pip install\n",
        "!pip install auto-sklearn"
      ],
      "execution_count": 343,
      "outputs": [
        {
          "output_type": "stream",
          "text": [
            "install: missing destination file operand after 'sklearn'\n",
            "Try 'install --help' for more information.\n",
            "Reading package lists... Done\n",
            "Building dependency tree       \n",
            "Reading state information... Done\n",
            "build-essential is already the newest version (12.4ubuntu1).\n",
            "swig is already the newest version (3.0.12-1).\n",
            "The following package was automatically installed and is no longer required:\n",
            "  libnvidia-common-410\n",
            "Use 'sudo apt autoremove' to remove it.\n",
            "0 upgraded, 0 newly installed, 0 to remove and 8 not upgraded.\n",
            "  % Total    % Received % Xferd  Average Speed   Time    Time     Time  Current\n",
            "                                 Dload  Upload   Total   Spent    Left  Speed\n",
            "100   206  100   206    0     0   1056      0 --:--:-- --:--:-- --:--:--  1056\n",
            "Requirement already satisfied: setuptools in /usr/local/lib/python3.6/dist-packages (41.0.1)\n",
            "Requirement already satisfied: nose in /usr/local/lib/python3.6/dist-packages (1.3.7)\n",
            "Requirement already satisfied: Cython in /usr/local/lib/python3.6/dist-packages (0.29.10)\n",
            "Requirement already satisfied: numpy>=1.9.0 in /usr/local/lib/python3.6/dist-packages (1.16.4)\n",
            "Requirement already satisfied: scipy>=0.14.1 in /usr/local/lib/python3.6/dist-packages (1.3.0)\n",
            "Requirement already satisfied: numpy>=1.13.3 in /usr/local/lib/python3.6/dist-packages (from scipy>=0.14.1) (1.16.4)\n",
            "Requirement already satisfied: scikit-learn<0.20,>=0.19 in /usr/local/lib/python3.6/dist-packages (0.19.2)\n",
            "Requirement already satisfied: xgboost>=0.80 in /usr/local/lib/python3.6/dist-packages (0.90)\n",
            "Requirement already satisfied: numpy in /usr/local/lib/python3.6/dist-packages (from xgboost>=0.80) (1.16.4)\n",
            "Requirement already satisfied: scipy in /usr/local/lib/python3.6/dist-packages (from xgboost>=0.80) (1.3.0)\n",
            "Requirement already satisfied: lockfile in /usr/local/lib/python3.6/dist-packages (0.12.2)\n",
            "Requirement already satisfied: joblib in /usr/local/lib/python3.6/dist-packages (0.13.2)\n",
            "Requirement already satisfied: psutil in /usr/local/lib/python3.6/dist-packages (5.4.8)\n",
            "Requirement already satisfied: pyyaml in /usr/local/lib/python3.6/dist-packages (3.13)\n",
            "Requirement already satisfied: liac-arff in /usr/local/lib/python3.6/dist-packages (2.4.0)\n",
            "Requirement already satisfied: pandas in /usr/local/lib/python3.6/dist-packages (0.24.2)\n",
            "Requirement already satisfied: pytz>=2011k in /usr/local/lib/python3.6/dist-packages (from pandas) (2018.9)\n",
            "Requirement already satisfied: numpy>=1.12.0 in /usr/local/lib/python3.6/dist-packages (from pandas) (1.16.4)\n",
            "Requirement already satisfied: python-dateutil>=2.5.0 in /usr/local/lib/python3.6/dist-packages (from pandas) (2.5.3)\n",
            "Requirement already satisfied: six>=1.5 in /usr/local/lib/python3.6/dist-packages (from python-dateutil>=2.5.0->pandas) (1.12.0)\n",
            "Requirement already satisfied: ConfigSpace<0.5,>=0.4.0 in /usr/local/lib/python3.6/dist-packages (0.4.10)\n",
            "Requirement already satisfied: numpy in /usr/local/lib/python3.6/dist-packages (from ConfigSpace<0.5,>=0.4.0) (1.16.4)\n",
            "Requirement already satisfied: pyparsing in /usr/local/lib/python3.6/dist-packages (from ConfigSpace<0.5,>=0.4.0) (2.4.0)\n",
            "Requirement already satisfied: Cython in /usr/local/lib/python3.6/dist-packages (from ConfigSpace<0.5,>=0.4.0) (0.29.10)\n",
            "Requirement already satisfied: typing in /usr/local/lib/python3.6/dist-packages (from ConfigSpace<0.5,>=0.4.0) (3.6.6)\n",
            "Requirement already satisfied: pynisher>=0.4.2 in /usr/local/lib/python3.6/dist-packages (0.5.0)\n",
            "Requirement already satisfied: setuptools in /usr/local/lib/python3.6/dist-packages (from pynisher>=0.4.2) (41.0.1)\n",
            "Requirement already satisfied: psutil in /usr/local/lib/python3.6/dist-packages (from pynisher>=0.4.2) (5.4.8)\n",
            "Requirement already satisfied: docutils>=0.3 in /usr/local/lib/python3.6/dist-packages (from pynisher>=0.4.2) (0.14)\n",
            "Requirement already satisfied: pyrfr<0.8,>=0.7 in /usr/local/lib/python3.6/dist-packages (0.7.4)\n",
            "Requirement already satisfied: smac==0.8 in /usr/local/lib/python3.6/dist-packages (0.8.0)\n",
            "Requirement already satisfied: setuptools in /usr/local/lib/python3.6/dist-packages (from smac==0.8) (41.0.1)\n",
            "Requirement already satisfied: psutil in /usr/local/lib/python3.6/dist-packages (from smac==0.8) (5.4.8)\n",
            "Requirement already satisfied: six in /usr/local/lib/python3.6/dist-packages (from smac==0.8) (1.12.0)\n",
            "Requirement already satisfied: sphinx-rtd-theme in /usr/local/lib/python3.6/dist-packages (from smac==0.8) (0.4.3)\n",
            "Requirement already satisfied: scikit-learn>=0.18.0 in /usr/local/lib/python3.6/dist-packages (from smac==0.8) (0.19.2)\n",
            "Requirement already satisfied: ConfigSpace<0.5,>=0.4.3 in /usr/local/lib/python3.6/dist-packages (from smac==0.8) (0.4.10)\n",
            "Requirement already satisfied: typing in /usr/local/lib/python3.6/dist-packages (from smac==0.8) (3.6.6)\n",
            "Requirement already satisfied: sphinx in /usr/local/lib/python3.6/dist-packages (from smac==0.8) (1.8.5)\n",
            "Requirement already satisfied: pyrfr>=0.5.0 in /usr/local/lib/python3.6/dist-packages (from smac==0.8) (0.7.4)\n",
            "Requirement already satisfied: numpy>=1.7.1 in /usr/local/lib/python3.6/dist-packages (from smac==0.8) (1.16.4)\n",
            "Requirement already satisfied: joblib in /usr/local/lib/python3.6/dist-packages (from smac==0.8) (0.13.2)\n",
            "Requirement already satisfied: pynisher>=0.4.1 in /usr/local/lib/python3.6/dist-packages (from smac==0.8) (0.5.0)\n",
            "Requirement already satisfied: scipy>=0.18.1 in /usr/local/lib/python3.6/dist-packages (from smac==0.8) (1.3.0)\n",
            "Requirement already satisfied: cython in /usr/local/lib/python3.6/dist-packages (from smac==0.8) (0.29.10)\n",
            "Requirement already satisfied: pyparsing in /usr/local/lib/python3.6/dist-packages (from ConfigSpace<0.5,>=0.4.3->smac==0.8) (2.4.0)\n",
            "Requirement already satisfied: alabaster<0.8,>=0.7 in /usr/local/lib/python3.6/dist-packages (from sphinx->smac==0.8) (0.7.12)\n",
            "Requirement already satisfied: sphinxcontrib-websupport in /usr/local/lib/python3.6/dist-packages (from sphinx->smac==0.8) (1.1.2)\n",
            "Requirement already satisfied: docutils>=0.11 in /usr/local/lib/python3.6/dist-packages (from sphinx->smac==0.8) (0.14)\n",
            "Requirement already satisfied: snowballstemmer>=1.1 in /usr/local/lib/python3.6/dist-packages (from sphinx->smac==0.8) (1.2.1)\n",
            "Requirement already satisfied: requests>=2.0.0 in /usr/local/lib/python3.6/dist-packages (from sphinx->smac==0.8) (2.21.0)\n",
            "Requirement already satisfied: Jinja2>=2.3 in /usr/local/lib/python3.6/dist-packages (from sphinx->smac==0.8) (2.10.1)\n",
            "Requirement already satisfied: babel!=2.0,>=1.3 in /usr/local/lib/python3.6/dist-packages (from sphinx->smac==0.8) (2.7.0)\n",
            "Requirement already satisfied: imagesize in /usr/local/lib/python3.6/dist-packages (from sphinx->smac==0.8) (1.1.0)\n",
            "Requirement already satisfied: packaging in /usr/local/lib/python3.6/dist-packages (from sphinx->smac==0.8) (19.0)\n",
            "Requirement already satisfied: Pygments>=2.0 in /usr/local/lib/python3.6/dist-packages (from sphinx->smac==0.8) (2.1.3)\n",
            "Requirement already satisfied: idna<2.9,>=2.5 in /usr/local/lib/python3.6/dist-packages (from requests>=2.0.0->sphinx->smac==0.8) (2.8)\n",
            "Requirement already satisfied: certifi>=2017.4.17 in /usr/local/lib/python3.6/dist-packages (from requests>=2.0.0->sphinx->smac==0.8) (2019.3.9)\n",
            "Requirement already satisfied: chardet<3.1.0,>=3.0.2 in /usr/local/lib/python3.6/dist-packages (from requests>=2.0.0->sphinx->smac==0.8) (3.0.4)\n",
            "Requirement already satisfied: urllib3<1.25,>=1.21.1 in /usr/local/lib/python3.6/dist-packages (from requests>=2.0.0->sphinx->smac==0.8) (1.24.3)\n",
            "Requirement already satisfied: MarkupSafe>=0.23 in /usr/local/lib/python3.6/dist-packages (from Jinja2>=2.3->sphinx->smac==0.8) (1.1.1)\n",
            "Requirement already satisfied: pytz>=2015.7 in /usr/local/lib/python3.6/dist-packages (from babel!=2.0,>=1.3->sphinx->smac==0.8) (2018.9)\n",
            "Requirement already satisfied: auto-sklearn in /usr/local/lib/python3.6/dist-packages (0.5.2)\n",
            "Requirement already satisfied: psutil in /usr/local/lib/python3.6/dist-packages (from auto-sklearn) (5.4.8)\n",
            "Requirement already satisfied: pynisher>=0.4.2 in /usr/local/lib/python3.6/dist-packages (from auto-sklearn) (0.5.0)\n",
            "Requirement already satisfied: pyyaml in /usr/local/lib/python3.6/dist-packages (from auto-sklearn) (3.13)\n",
            "Requirement already satisfied: scikit-learn<0.20,>=0.19 in /usr/local/lib/python3.6/dist-packages (from auto-sklearn) (0.19.2)\n",
            "Requirement already satisfied: smac==0.8 in /usr/local/lib/python3.6/dist-packages (from auto-sklearn) (0.8.0)\n",
            "Requirement already satisfied: liac-arff in /usr/local/lib/python3.6/dist-packages (from auto-sklearn) (2.4.0)\n",
            "Requirement already satisfied: lockfile in /usr/local/lib/python3.6/dist-packages (from auto-sklearn) (0.12.2)\n",
            "Requirement already satisfied: numpy>=1.9.0 in /usr/local/lib/python3.6/dist-packages (from auto-sklearn) (1.16.4)\n",
            "Requirement already satisfied: Cython in /usr/local/lib/python3.6/dist-packages (from auto-sklearn) (0.29.10)\n",
            "Requirement already satisfied: xgboost>=0.80 in /usr/local/lib/python3.6/dist-packages (from auto-sklearn) (0.90)\n",
            "Requirement already satisfied: joblib in /usr/local/lib/python3.6/dist-packages (from auto-sklearn) (0.13.2)\n",
            "Requirement already satisfied: pandas in /usr/local/lib/python3.6/dist-packages (from auto-sklearn) (0.24.2)\n",
            "Requirement already satisfied: pyrfr<0.8,>=0.7 in /usr/local/lib/python3.6/dist-packages (from auto-sklearn) (0.7.4)\n",
            "Requirement already satisfied: ConfigSpace<0.5,>=0.4.0 in /usr/local/lib/python3.6/dist-packages (from auto-sklearn) (0.4.10)\n",
            "Requirement already satisfied: setuptools in /usr/local/lib/python3.6/dist-packages (from auto-sklearn) (41.0.1)\n",
            "Requirement already satisfied: scipy>=0.14.1 in /usr/local/lib/python3.6/dist-packages (from auto-sklearn) (1.3.0)\n",
            "Requirement already satisfied: nose in /usr/local/lib/python3.6/dist-packages (from auto-sklearn) (1.3.7)\n",
            "Requirement already satisfied: docutils>=0.3 in /usr/local/lib/python3.6/dist-packages (from pynisher>=0.4.2->auto-sklearn) (0.14)\n",
            "Requirement already satisfied: sphinx-rtd-theme in /usr/local/lib/python3.6/dist-packages (from smac==0.8->auto-sklearn) (0.4.3)\n",
            "Requirement already satisfied: sphinx in /usr/local/lib/python3.6/dist-packages (from smac==0.8->auto-sklearn) (1.8.5)\n",
            "Requirement already satisfied: six in /usr/local/lib/python3.6/dist-packages (from smac==0.8->auto-sklearn) (1.12.0)\n",
            "Requirement already satisfied: typing in /usr/local/lib/python3.6/dist-packages (from smac==0.8->auto-sklearn) (3.6.6)\n",
            "Requirement already satisfied: pytz>=2011k in /usr/local/lib/python3.6/dist-packages (from pandas->auto-sklearn) (2018.9)\n",
            "Requirement already satisfied: python-dateutil>=2.5.0 in /usr/local/lib/python3.6/dist-packages (from pandas->auto-sklearn) (2.5.3)\n",
            "Requirement already satisfied: pyparsing in /usr/local/lib/python3.6/dist-packages (from ConfigSpace<0.5,>=0.4.0->auto-sklearn) (2.4.0)\n",
            "Requirement already satisfied: babel!=2.0,>=1.3 in /usr/local/lib/python3.6/dist-packages (from sphinx->smac==0.8->auto-sklearn) (2.7.0)\n",
            "Requirement already satisfied: requests>=2.0.0 in /usr/local/lib/python3.6/dist-packages (from sphinx->smac==0.8->auto-sklearn) (2.21.0)\n",
            "Requirement already satisfied: imagesize in /usr/local/lib/python3.6/dist-packages (from sphinx->smac==0.8->auto-sklearn) (1.1.0)\n",
            "Requirement already satisfied: alabaster<0.8,>=0.7 in /usr/local/lib/python3.6/dist-packages (from sphinx->smac==0.8->auto-sklearn) (0.7.12)\n",
            "Requirement already satisfied: Jinja2>=2.3 in /usr/local/lib/python3.6/dist-packages (from sphinx->smac==0.8->auto-sklearn) (2.10.1)\n",
            "Requirement already satisfied: packaging in /usr/local/lib/python3.6/dist-packages (from sphinx->smac==0.8->auto-sklearn) (19.0)\n",
            "Requirement already satisfied: sphinxcontrib-websupport in /usr/local/lib/python3.6/dist-packages (from sphinx->smac==0.8->auto-sklearn) (1.1.2)\n",
            "Requirement already satisfied: Pygments>=2.0 in /usr/local/lib/python3.6/dist-packages (from sphinx->smac==0.8->auto-sklearn) (2.1.3)\n",
            "Requirement already satisfied: snowballstemmer>=1.1 in /usr/local/lib/python3.6/dist-packages (from sphinx->smac==0.8->auto-sklearn) (1.2.1)\n",
            "Requirement already satisfied: urllib3<1.25,>=1.21.1 in /usr/local/lib/python3.6/dist-packages (from requests>=2.0.0->sphinx->smac==0.8->auto-sklearn) (1.24.3)\n",
            "Requirement already satisfied: certifi>=2017.4.17 in /usr/local/lib/python3.6/dist-packages (from requests>=2.0.0->sphinx->smac==0.8->auto-sklearn) (2019.3.9)\n",
            "Requirement already satisfied: chardet<3.1.0,>=3.0.2 in /usr/local/lib/python3.6/dist-packages (from requests>=2.0.0->sphinx->smac==0.8->auto-sklearn) (3.0.4)\n",
            "Requirement already satisfied: idna<2.9,>=2.5 in /usr/local/lib/python3.6/dist-packages (from requests>=2.0.0->sphinx->smac==0.8->auto-sklearn) (2.8)\n",
            "Requirement already satisfied: MarkupSafe>=0.23 in /usr/local/lib/python3.6/dist-packages (from Jinja2>=2.3->sphinx->smac==0.8->auto-sklearn) (1.1.1)\n"
          ],
          "name": "stdout"
        }
      ]
    },
    {
      "cell_type": "code",
      "metadata": {
        "id": "Zlocvz9PwacZ",
        "colab_type": "code",
        "colab": {}
      },
      "source": [
        "from autosklearn.regression import AutoSklearnRegressor"
      ],
      "execution_count": 0,
      "outputs": []
    },
    {
      "cell_type": "code",
      "metadata": {
        "colab_type": "code",
        "outputId": "3a1908c7-82fd-420b-be82-7537f6a860fc",
        "id": "gHL5Tvh1FGQd",
        "colab": {
          "base_uri": "https://localhost:8080/",
          "height": 2865
        }
      },
      "source": [
        "#Usando parâmetros default do sklearn\n",
        "autosklearn_reg = AutoSklearnRegressor(time_left_for_this_task=3600, per_run_time_limit=360)\n",
        "autosklearn_reg.fit(X_train, y_train)"
      ],
      "execution_count": 345,
      "outputs": [
        {
          "output_type": "stream",
          "text": [
            "/usr/local/lib/python3.6/dist-packages/autosklearn/evaluation/train_evaluator.py:197: RuntimeWarning: Mean of empty slice\n",
            "  Y_train_pred = np.nanmean(Y_train_pred_full, axis=0)\n"
          ],
          "name": "stderr"
        },
        {
          "output_type": "stream",
          "text": [
            "[WARNING] [2019-06-14 18:31:13,468:AutoMLSMBO(1)::0907630fe09ad392b24e572ce68308f0] Could not find meta-data directory /usr/local/lib/python3.6/dist-packages/autosklearn/metalearning/files/r2_regression_dense\n",
            "[WARNING] [2019-06-14 18:31:13,511:EnsembleBuilder(1):0907630fe09ad392b24e572ce68308f0] No models better than random - using Dummy Score!\n",
            "[WARNING] [2019-06-14 18:31:13,531:EnsembleBuilder(1):0907630fe09ad392b24e572ce68308f0] No models better than random - using Dummy Score!\n",
            "[WARNING] [2019-06-14 18:31:15,563:EnsembleBuilder(1):0907630fe09ad392b24e572ce68308f0] No models better than random - using Dummy Score!\n",
            "[WARNING] [2019-06-14 18:31:17,579:EnsembleBuilder(1):0907630fe09ad392b24e572ce68308f0] No models better than random - using Dummy Score!\n"
          ],
          "name": "stdout"
        },
        {
          "output_type": "stream",
          "text": [
            "/usr/local/lib/python3.6/dist-packages/autosklearn/evaluation/train_evaluator.py:197: RuntimeWarning: Mean of empty slice\n",
            "  Y_train_pred = np.nanmean(Y_train_pred_full, axis=0)\n",
            "/usr/local/lib/python3.6/dist-packages/autosklearn/evaluation/train_evaluator.py:197: RuntimeWarning: Mean of empty slice\n",
            "  Y_train_pred = np.nanmean(Y_train_pred_full, axis=0)\n",
            "/usr/local/lib/python3.6/dist-packages/autosklearn/evaluation/train_evaluator.py:197: RuntimeWarning: Mean of empty slice\n",
            "  Y_train_pred = np.nanmean(Y_train_pred_full, axis=0)\n",
            "/usr/local/lib/python3.6/dist-packages/autosklearn/evaluation/train_evaluator.py:197: RuntimeWarning: Mean of empty slice\n",
            "  Y_train_pred = np.nanmean(Y_train_pred_full, axis=0)\n",
            "/usr/local/lib/python3.6/dist-packages/autosklearn/evaluation/train_evaluator.py:197: RuntimeWarning: Mean of empty slice\n",
            "  Y_train_pred = np.nanmean(Y_train_pred_full, axis=0)\n",
            "/usr/local/lib/python3.6/dist-packages/autosklearn/evaluation/train_evaluator.py:197: RuntimeWarning: Mean of empty slice\n",
            "  Y_train_pred = np.nanmean(Y_train_pred_full, axis=0)\n",
            "/usr/local/lib/python3.6/dist-packages/autosklearn/evaluation/train_evaluator.py:197: RuntimeWarning: Mean of empty slice\n",
            "  Y_train_pred = np.nanmean(Y_train_pred_full, axis=0)\n",
            "/usr/local/lib/python3.6/dist-packages/autosklearn/evaluation/train_evaluator.py:197: RuntimeWarning: Mean of empty slice\n",
            "  Y_train_pred = np.nanmean(Y_train_pred_full, axis=0)\n",
            "/usr/local/lib/python3.6/dist-packages/autosklearn/evaluation/train_evaluator.py:197: RuntimeWarning: Mean of empty slice\n",
            "  Y_train_pred = np.nanmean(Y_train_pred_full, axis=0)\n",
            "/usr/local/lib/python3.6/dist-packages/autosklearn/evaluation/train_evaluator.py:197: RuntimeWarning: Mean of empty slice\n",
            "  Y_train_pred = np.nanmean(Y_train_pred_full, axis=0)\n",
            "/usr/local/lib/python3.6/dist-packages/autosklearn/evaluation/train_evaluator.py:197: RuntimeWarning: Mean of empty slice\n",
            "  Y_train_pred = np.nanmean(Y_train_pred_full, axis=0)\n",
            "/usr/local/lib/python3.6/dist-packages/autosklearn/evaluation/train_evaluator.py:197: RuntimeWarning: Mean of empty slice\n",
            "  Y_train_pred = np.nanmean(Y_train_pred_full, axis=0)\n",
            "/usr/local/lib/python3.6/dist-packages/autosklearn/evaluation/train_evaluator.py:197: RuntimeWarning: Mean of empty slice\n",
            "  Y_train_pred = np.nanmean(Y_train_pred_full, axis=0)\n",
            "/usr/local/lib/python3.6/dist-packages/autosklearn/evaluation/train_evaluator.py:197: RuntimeWarning: Mean of empty slice\n",
            "  Y_train_pred = np.nanmean(Y_train_pred_full, axis=0)\n",
            "/usr/local/lib/python3.6/dist-packages/autosklearn/evaluation/train_evaluator.py:197: RuntimeWarning: Mean of empty slice\n",
            "  Y_train_pred = np.nanmean(Y_train_pred_full, axis=0)\n",
            "/usr/local/lib/python3.6/dist-packages/autosklearn/evaluation/train_evaluator.py:197: RuntimeWarning: Mean of empty slice\n",
            "  Y_train_pred = np.nanmean(Y_train_pred_full, axis=0)\n",
            "/usr/local/lib/python3.6/dist-packages/autosklearn/evaluation/train_evaluator.py:197: RuntimeWarning: Mean of empty slice\n",
            "  Y_train_pred = np.nanmean(Y_train_pred_full, axis=0)\n",
            "/usr/local/lib/python3.6/dist-packages/autosklearn/evaluation/train_evaluator.py:197: RuntimeWarning: Mean of empty slice\n",
            "  Y_train_pred = np.nanmean(Y_train_pred_full, axis=0)\n",
            "/usr/local/lib/python3.6/dist-packages/autosklearn/evaluation/train_evaluator.py:197: RuntimeWarning: Mean of empty slice\n",
            "  Y_train_pred = np.nanmean(Y_train_pred_full, axis=0)\n",
            "/usr/local/lib/python3.6/dist-packages/autosklearn/evaluation/train_evaluator.py:197: RuntimeWarning: Mean of empty slice\n",
            "  Y_train_pred = np.nanmean(Y_train_pred_full, axis=0)\n",
            "/usr/local/lib/python3.6/dist-packages/autosklearn/evaluation/train_evaluator.py:197: RuntimeWarning: Mean of empty slice\n",
            "  Y_train_pred = np.nanmean(Y_train_pred_full, axis=0)\n",
            "/usr/local/lib/python3.6/dist-packages/autosklearn/evaluation/train_evaluator.py:197: RuntimeWarning: Mean of empty slice\n",
            "  Y_train_pred = np.nanmean(Y_train_pred_full, axis=0)\n",
            "/usr/local/lib/python3.6/dist-packages/autosklearn/evaluation/train_evaluator.py:197: RuntimeWarning: Mean of empty slice\n",
            "  Y_train_pred = np.nanmean(Y_train_pred_full, axis=0)\n",
            "/usr/local/lib/python3.6/dist-packages/autosklearn/evaluation/train_evaluator.py:197: RuntimeWarning: Mean of empty slice\n",
            "  Y_train_pred = np.nanmean(Y_train_pred_full, axis=0)\n",
            "/usr/local/lib/python3.6/dist-packages/autosklearn/evaluation/train_evaluator.py:197: RuntimeWarning: Mean of empty slice\n",
            "  Y_train_pred = np.nanmean(Y_train_pred_full, axis=0)\n",
            "/usr/local/lib/python3.6/dist-packages/autosklearn/evaluation/train_evaluator.py:197: RuntimeWarning: Mean of empty slice\n",
            "  Y_train_pred = np.nanmean(Y_train_pred_full, axis=0)\n",
            "/usr/local/lib/python3.6/dist-packages/autosklearn/evaluation/train_evaluator.py:197: RuntimeWarning: Mean of empty slice\n",
            "  Y_train_pred = np.nanmean(Y_train_pred_full, axis=0)\n",
            "/usr/local/lib/python3.6/dist-packages/autosklearn/evaluation/train_evaluator.py:197: RuntimeWarning: Mean of empty slice\n",
            "  Y_train_pred = np.nanmean(Y_train_pred_full, axis=0)\n",
            "/usr/local/lib/python3.6/dist-packages/autosklearn/evaluation/train_evaluator.py:197: RuntimeWarning: Mean of empty slice\n",
            "  Y_train_pred = np.nanmean(Y_train_pred_full, axis=0)\n",
            "/usr/local/lib/python3.6/dist-packages/autosklearn/evaluation/train_evaluator.py:197: RuntimeWarning: Mean of empty slice\n",
            "  Y_train_pred = np.nanmean(Y_train_pred_full, axis=0)\n",
            "/usr/local/lib/python3.6/dist-packages/autosklearn/evaluation/train_evaluator.py:197: RuntimeWarning: Mean of empty slice\n",
            "  Y_train_pred = np.nanmean(Y_train_pred_full, axis=0)\n",
            "/usr/local/lib/python3.6/dist-packages/autosklearn/evaluation/train_evaluator.py:197: RuntimeWarning: Mean of empty slice\n",
            "  Y_train_pred = np.nanmean(Y_train_pred_full, axis=0)\n",
            "/usr/local/lib/python3.6/dist-packages/autosklearn/evaluation/train_evaluator.py:197: RuntimeWarning: Mean of empty slice\n",
            "  Y_train_pred = np.nanmean(Y_train_pred_full, axis=0)\n",
            "/usr/local/lib/python3.6/dist-packages/autosklearn/evaluation/train_evaluator.py:197: RuntimeWarning: Mean of empty slice\n",
            "  Y_train_pred = np.nanmean(Y_train_pred_full, axis=0)\n",
            "/usr/local/lib/python3.6/dist-packages/autosklearn/evaluation/train_evaluator.py:197: RuntimeWarning: Mean of empty slice\n",
            "  Y_train_pred = np.nanmean(Y_train_pred_full, axis=0)\n",
            "/usr/local/lib/python3.6/dist-packages/autosklearn/evaluation/train_evaluator.py:197: RuntimeWarning: Mean of empty slice\n",
            "  Y_train_pred = np.nanmean(Y_train_pred_full, axis=0)\n",
            "/usr/local/lib/python3.6/dist-packages/autosklearn/evaluation/train_evaluator.py:197: RuntimeWarning: Mean of empty slice\n",
            "  Y_train_pred = np.nanmean(Y_train_pred_full, axis=0)\n",
            "/usr/local/lib/python3.6/dist-packages/autosklearn/evaluation/train_evaluator.py:197: RuntimeWarning: Mean of empty slice\n",
            "  Y_train_pred = np.nanmean(Y_train_pred_full, axis=0)\n",
            "/usr/local/lib/python3.6/dist-packages/autosklearn/evaluation/train_evaluator.py:197: RuntimeWarning: Mean of empty slice\n",
            "  Y_train_pred = np.nanmean(Y_train_pred_full, axis=0)\n",
            "/usr/local/lib/python3.6/dist-packages/autosklearn/evaluation/train_evaluator.py:197: RuntimeWarning: Mean of empty slice\n",
            "  Y_train_pred = np.nanmean(Y_train_pred_full, axis=0)\n",
            "/usr/local/lib/python3.6/dist-packages/autosklearn/evaluation/train_evaluator.py:197: RuntimeWarning: Mean of empty slice\n",
            "  Y_train_pred = np.nanmean(Y_train_pred_full, axis=0)\n",
            "/usr/local/lib/python3.6/dist-packages/autosklearn/evaluation/train_evaluator.py:197: RuntimeWarning: Mean of empty slice\n",
            "  Y_train_pred = np.nanmean(Y_train_pred_full, axis=0)\n",
            "/usr/local/lib/python3.6/dist-packages/autosklearn/evaluation/train_evaluator.py:197: RuntimeWarning: Mean of empty slice\n",
            "  Y_train_pred = np.nanmean(Y_train_pred_full, axis=0)\n",
            "/usr/local/lib/python3.6/dist-packages/autosklearn/evaluation/train_evaluator.py:197: RuntimeWarning: Mean of empty slice\n",
            "  Y_train_pred = np.nanmean(Y_train_pred_full, axis=0)\n",
            "/usr/local/lib/python3.6/dist-packages/autosklearn/evaluation/train_evaluator.py:197: RuntimeWarning: Mean of empty slice\n",
            "  Y_train_pred = np.nanmean(Y_train_pred_full, axis=0)\n",
            "/usr/local/lib/python3.6/dist-packages/autosklearn/evaluation/train_evaluator.py:197: RuntimeWarning: Mean of empty slice\n",
            "  Y_train_pred = np.nanmean(Y_train_pred_full, axis=0)\n",
            "/usr/local/lib/python3.6/dist-packages/autosklearn/evaluation/train_evaluator.py:197: RuntimeWarning: Mean of empty slice\n",
            "  Y_train_pred = np.nanmean(Y_train_pred_full, axis=0)\n",
            "/usr/local/lib/python3.6/dist-packages/autosklearn/evaluation/train_evaluator.py:197: RuntimeWarning: Mean of empty slice\n",
            "  Y_train_pred = np.nanmean(Y_train_pred_full, axis=0)\n",
            "/usr/local/lib/python3.6/dist-packages/autosklearn/evaluation/train_evaluator.py:197: RuntimeWarning: Mean of empty slice\n",
            "  Y_train_pred = np.nanmean(Y_train_pred_full, axis=0)\n",
            "/usr/local/lib/python3.6/dist-packages/autosklearn/evaluation/train_evaluator.py:197: RuntimeWarning: Mean of empty slice\n",
            "  Y_train_pred = np.nanmean(Y_train_pred_full, axis=0)\n",
            "/usr/local/lib/python3.6/dist-packages/autosklearn/evaluation/train_evaluator.py:197: RuntimeWarning: Mean of empty slice\n",
            "  Y_train_pred = np.nanmean(Y_train_pred_full, axis=0)\n",
            "/usr/local/lib/python3.6/dist-packages/autosklearn/evaluation/train_evaluator.py:197: RuntimeWarning: Mean of empty slice\n",
            "  Y_train_pred = np.nanmean(Y_train_pred_full, axis=0)\n",
            "/usr/local/lib/python3.6/dist-packages/autosklearn/evaluation/train_evaluator.py:197: RuntimeWarning: Mean of empty slice\n",
            "  Y_train_pred = np.nanmean(Y_train_pred_full, axis=0)\n",
            "/usr/local/lib/python3.6/dist-packages/autosklearn/evaluation/train_evaluator.py:197: RuntimeWarning: Mean of empty slice\n",
            "  Y_train_pred = np.nanmean(Y_train_pred_full, axis=0)\n",
            "/usr/local/lib/python3.6/dist-packages/autosklearn/evaluation/train_evaluator.py:197: RuntimeWarning: Mean of empty slice\n",
            "  Y_train_pred = np.nanmean(Y_train_pred_full, axis=0)\n",
            "/usr/local/lib/python3.6/dist-packages/autosklearn/evaluation/train_evaluator.py:197: RuntimeWarning: Mean of empty slice\n",
            "  Y_train_pred = np.nanmean(Y_train_pred_full, axis=0)\n",
            "/usr/local/lib/python3.6/dist-packages/autosklearn/evaluation/train_evaluator.py:197: RuntimeWarning: Mean of empty slice\n",
            "  Y_train_pred = np.nanmean(Y_train_pred_full, axis=0)\n",
            "/usr/local/lib/python3.6/dist-packages/autosklearn/evaluation/train_evaluator.py:197: RuntimeWarning: Mean of empty slice\n",
            "  Y_train_pred = np.nanmean(Y_train_pred_full, axis=0)\n",
            "/usr/local/lib/python3.6/dist-packages/autosklearn/evaluation/train_evaluator.py:197: RuntimeWarning: Mean of empty slice\n",
            "  Y_train_pred = np.nanmean(Y_train_pred_full, axis=0)\n",
            "/usr/local/lib/python3.6/dist-packages/autosklearn/evaluation/train_evaluator.py:197: RuntimeWarning: Mean of empty slice\n",
            "  Y_train_pred = np.nanmean(Y_train_pred_full, axis=0)\n",
            "/usr/local/lib/python3.6/dist-packages/autosklearn/evaluation/train_evaluator.py:197: RuntimeWarning: Mean of empty slice\n",
            "  Y_train_pred = np.nanmean(Y_train_pred_full, axis=0)\n",
            "/usr/local/lib/python3.6/dist-packages/autosklearn/evaluation/train_evaluator.py:197: RuntimeWarning: Mean of empty slice\n",
            "  Y_train_pred = np.nanmean(Y_train_pred_full, axis=0)\n",
            "/usr/local/lib/python3.6/dist-packages/autosklearn/evaluation/train_evaluator.py:197: RuntimeWarning: Mean of empty slice\n",
            "  Y_train_pred = np.nanmean(Y_train_pred_full, axis=0)\n",
            "/usr/local/lib/python3.6/dist-packages/autosklearn/evaluation/train_evaluator.py:197: RuntimeWarning: Mean of empty slice\n",
            "  Y_train_pred = np.nanmean(Y_train_pred_full, axis=0)\n"
          ],
          "name": "stderr"
        },
        {
          "output_type": "stream",
          "text": [
            "1\n",
            "['/tmp/autosklearn_tmp_126_1946/.auto-sklearn/ensembles/1.0000000000.ensemble', '/tmp/autosklearn_tmp_126_1946/.auto-sklearn/ensembles/1.0000000001.ensemble', '/tmp/autosklearn_tmp_126_1946/.auto-sklearn/ensembles/1.0000000002.ensemble', '/tmp/autosklearn_tmp_126_1946/.auto-sklearn/ensembles/1.0000000003.ensemble', '/tmp/autosklearn_tmp_126_1946/.auto-sklearn/ensembles/1.0000000004.ensemble', '/tmp/autosklearn_tmp_126_1946/.auto-sklearn/ensembles/1.0000000005.ensemble', '/tmp/autosklearn_tmp_126_1946/.auto-sklearn/ensembles/1.0000000006.ensemble', '/tmp/autosklearn_tmp_126_1946/.auto-sklearn/ensembles/1.0000000007.ensemble', '/tmp/autosklearn_tmp_126_1946/.auto-sklearn/ensembles/1.0000000008.ensemble', '/tmp/autosklearn_tmp_126_1946/.auto-sklearn/ensembles/1.0000000009.ensemble', '/tmp/autosklearn_tmp_126_1946/.auto-sklearn/ensembles/1.0000000010.ensemble', '/tmp/autosklearn_tmp_126_1946/.auto-sklearn/ensembles/1.0000000011.ensemble', '/tmp/autosklearn_tmp_126_1946/.auto-sklearn/ensembles/1.0000000012.ensemble', '/tmp/autosklearn_tmp_126_1946/.auto-sklearn/ensembles/1.0000000013.ensemble', '/tmp/autosklearn_tmp_126_1946/.auto-sklearn/ensembles/1.0000000014.ensemble', '/tmp/autosklearn_tmp_126_1946/.auto-sklearn/ensembles/1.0000000015.ensemble', '/tmp/autosklearn_tmp_126_1946/.auto-sklearn/ensembles/1.0000000016.ensemble', '/tmp/autosklearn_tmp_126_1946/.auto-sklearn/ensembles/1.0000000017.ensemble', '/tmp/autosklearn_tmp_126_1946/.auto-sklearn/ensembles/1.0000000018.ensemble', '/tmp/autosklearn_tmp_126_1946/.auto-sklearn/ensembles/1.0000000019.ensemble', '/tmp/autosklearn_tmp_126_1946/.auto-sklearn/ensembles/1.0000000020.ensemble', '/tmp/autosklearn_tmp_126_1946/.auto-sklearn/ensembles/1.0000000021.ensemble', '/tmp/autosklearn_tmp_126_1946/.auto-sklearn/ensembles/1.0000000022.ensemble', '/tmp/autosklearn_tmp_126_1946/.auto-sklearn/ensembles/1.0000000023.ensemble', '/tmp/autosklearn_tmp_126_1946/.auto-sklearn/ensembles/1.0000000024.ensemble', '/tmp/autosklearn_tmp_126_1946/.auto-sklearn/ensembles/1.0000000025.ensemble', '/tmp/autosklearn_tmp_126_1946/.auto-sklearn/ensembles/1.0000000026.ensemble', '/tmp/autosklearn_tmp_126_1946/.auto-sklearn/ensembles/1.0000000027.ensemble', '/tmp/autosklearn_tmp_126_1946/.auto-sklearn/ensembles/1.0000000028.ensemble', '/tmp/autosklearn_tmp_126_1946/.auto-sklearn/ensembles/1.0000000029.ensemble', '/tmp/autosklearn_tmp_126_1946/.auto-sklearn/ensembles/1.0000000030.ensemble', '/tmp/autosklearn_tmp_126_1946/.auto-sklearn/ensembles/1.0000000031.ensemble']\n",
            "[19:31:08] WARNING: /workspace/src/objective/regression_obj.cu:152: reg:linear is now deprecated in favor of reg:squarederror.\n",
            "[19:31:08] WARNING: /workspace/src/objective/regression_obj.cu:152: reg:linear is now deprecated in favor of reg:squarederror.\n",
            "[19:31:08] WARNING: /workspace/src/objective/regression_obj.cu:152: reg:linear is now deprecated in favor of reg:squarederror.\n"
          ],
          "name": "stdout"
        },
        {
          "output_type": "execute_result",
          "data": {
            "text/plain": [
              "AutoSklearnRegressor(delete_output_folder_after_terminate=True,\n",
              "                     delete_tmp_folder_after_terminate=True,\n",
              "                     disable_evaluator_output=False, ensemble_memory_limit=1024,\n",
              "                     ensemble_nbest=50, ensemble_size=50,\n",
              "                     exclude_estimators=None, exclude_preprocessors=None,\n",
              "                     get_smac_object_callback=None, include_estimators=None,\n",
              "                     include_preprocessors=None,\n",
              "                     initial_configurations_via_metalearning=25,\n",
              "                     logging_config=None, metadata_directory=None,\n",
              "                     ml_memory_limit=3072, n_jobs=None, output_folder=None,\n",
              "                     per_run_time_limit=360, resampling_strategy='holdout',\n",
              "                     resampling_strategy_arguments=None, seed=1,\n",
              "                     shared_mode=False, smac_scenario_args=None,\n",
              "                     time_left_for_this_task=3600, tmp_folder=None)"
            ]
          },
          "metadata": {
            "tags": []
          },
          "execution_count": 345
        }
      ]
    },
    {
      "cell_type": "markdown",
      "metadata": {
        "id": "Egihf-uffVR5",
        "colab_type": "text"
      },
      "source": [
        "Assim como Tpot o AutoSklearn também teve um bom desempenho chegando a métricas consideravelmente baixas. Viés e Variância seguiram baixos."
      ]
    },
    {
      "cell_type": "code",
      "metadata": {
        "id": "kN-K04KnFKL5",
        "colab_type": "code",
        "outputId": "33c9dbcd-9ab5-4933-a6d6-2f182001cfe4",
        "colab": {
          "base_uri": "https://localhost:8080/",
          "height": 109
        }
      },
      "source": [
        "autosklearn_y_pred = autosklearn_reg.predict(X_test)\n",
        "autosklearn_y_train_pred = autosklearn_reg.predict(X_train)\n",
        "\n",
        "autosklearn_test_error = mean_squared_error(y_test, autosklearn_y_pred)\n",
        "autosklearn_train_error = mean_squared_error(y_train, autosklearn_y_train_pred)\n",
        "\n",
        "summary_results(y_test, autosklearn_y_pred)\n"
      ],
      "execution_count": 347,
      "outputs": [
        {
          "output_type": "stream",
          "text": [
            "MSE: 0.2465632551533332\n",
            "MAE: 0.338716768673765\n",
            "R^2: 0.11595815187148817\n",
            "MSLE: 0.012621780634889316\n",
            "MAPE: 9.782403977300865\n"
          ],
          "name": "stdout"
        }
      ]
    },
    {
      "cell_type": "code",
      "metadata": {
        "id": "bwBzXHzLfM6g",
        "colab_type": "code",
        "colab": {
          "base_uri": "https://localhost:8080/",
          "height": 35
        },
        "outputId": "02d061a9-caa6-40c5-ae06-6b3b2de0a9de"
      },
      "source": [
        "print(f'Viés: {autosklearn_train_error-target_error} ; Variância: {autosklearn_test_error-tpot_train_error}')"
      ],
      "execution_count": 349,
      "outputs": [
        {
          "output_type": "stream",
          "text": [
            "Viés: 0.016402822298596242 ; Variância: 0.0707034738733954\n"
          ],
          "name": "stdout"
        }
      ]
    },
    {
      "cell_type": "markdown",
      "metadata": {
        "id": "Fm5FUQyaWQ69",
        "colab_type": "text"
      },
      "source": [
        "###Sumarização dos Resultados"
      ]
    },
    {
      "cell_type": "markdown",
      "metadata": {
        "id": "sDWLj3cmmuik",
        "colab_type": "text"
      },
      "source": [
        "A seguir um resumo com os principais resultados em todos modelos preditivos tentados. Gradient Boosting foi o modelo mais promissor(olhar R^2 e MAPE além das outras métricas). Também foram adicionados TPOT e AutoSklearn ao resumo mesmo sabendo que ele também utiliza dos outros métodos para uma análise mais abrangente."
      ]
    },
    {
      "cell_type": "code",
      "metadata": {
        "id": "ETr9BXfnm6XI",
        "colab_type": "code",
        "colab": {
          "base_uri": "https://localhost:8080/",
          "height": 332
        },
        "outputId": "8880dfa0-66e8-4d2a-d7c6-16f0070b6cae"
      },
      "source": [
        "summary = [['Linear Regression', 0.27177415616584005, 0.36919380034194427, 0.02556556068744764, 0.013392825666617682, 10.38095628791456],\n",
        "           ['Random Forest', 0.2571140611802593, 0.34501033833262384, 0.07812869486870533, 0.013038229335312934, 9.914332714434536],\n",
        "           ['Sklearn Gradient Boosting', 0.24568611971258358, 0.34180995258691443, 0.11910308291815641, 0.012514930041964103, 9.802665784939073],\n",
        "           ['Xtreme Gradient Boosting', 0.2544236727597348, 0.34966286122314333, 0.08777496576168542, 0.012919285302881297, 10.005740480561846],\n",
        "           ['Light Gradient Boosting Machine', 0.24951786462537462, 0.3453667862738358, 0.10536452786803663, 0.012714230992581567, 9.901524690220281],\n",
        "           ['Multi-Layer Perceptron', 0.2651808215954424, 0.3646538698852656, 0.04920567557528499, 0.013095486399172488, 10.233026138345574],\n",
        "           ['Kth Nearest Neighbours', 0.2651708212949898, 0.3643483616654349, 0.04924153121844821, 0.013242420225513842, 10.335792928387995],\n",
        "           ['TPOT', 0.2507429232151745, 0.3453211772223917, 0.10097213347366962, 0.012732561466064062, 9.895086684587566],\n",
        "           ['AutoSklearn', 0.2465632551533332, 0.338716768673765, 0.11595815187148817, 0.012621780634889316, 9.782403977300865]]\n",
        "summary_df = pd.DataFrame(summary, columns=['Method', 'MSE', 'MAE', 'R^2', 'MLSE', 'MAPE'])\n",
        "summary_df"
      ],
      "execution_count": 384,
      "outputs": [
        {
          "output_type": "execute_result",
          "data": {
            "text/html": [
              "<div>\n",
              "<style scoped>\n",
              "    .dataframe tbody tr th:only-of-type {\n",
              "        vertical-align: middle;\n",
              "    }\n",
              "\n",
              "    .dataframe tbody tr th {\n",
              "        vertical-align: top;\n",
              "    }\n",
              "\n",
              "    .dataframe thead th {\n",
              "        text-align: right;\n",
              "    }\n",
              "</style>\n",
              "<table border=\"1\" class=\"dataframe\">\n",
              "  <thead>\n",
              "    <tr style=\"text-align: right;\">\n",
              "      <th></th>\n",
              "      <th>Method</th>\n",
              "      <th>MSE</th>\n",
              "      <th>MAE</th>\n",
              "      <th>R^2</th>\n",
              "      <th>MLSE</th>\n",
              "      <th>MAPE</th>\n",
              "    </tr>\n",
              "  </thead>\n",
              "  <tbody>\n",
              "    <tr>\n",
              "      <th>0</th>\n",
              "      <td>Linear Regression</td>\n",
              "      <td>0.271774</td>\n",
              "      <td>0.369194</td>\n",
              "      <td>0.025566</td>\n",
              "      <td>0.013393</td>\n",
              "      <td>10.380956</td>\n",
              "    </tr>\n",
              "    <tr>\n",
              "      <th>1</th>\n",
              "      <td>Random Forest</td>\n",
              "      <td>0.257114</td>\n",
              "      <td>0.345010</td>\n",
              "      <td>0.078129</td>\n",
              "      <td>0.013038</td>\n",
              "      <td>9.914333</td>\n",
              "    </tr>\n",
              "    <tr>\n",
              "      <th>2</th>\n",
              "      <td>Sklearn Gradient Boosting</td>\n",
              "      <td>0.245686</td>\n",
              "      <td>0.341810</td>\n",
              "      <td>0.119103</td>\n",
              "      <td>0.012515</td>\n",
              "      <td>9.802666</td>\n",
              "    </tr>\n",
              "    <tr>\n",
              "      <th>3</th>\n",
              "      <td>Xtreme Gradient Boosting</td>\n",
              "      <td>0.254424</td>\n",
              "      <td>0.349663</td>\n",
              "      <td>0.087775</td>\n",
              "      <td>0.012919</td>\n",
              "      <td>10.005740</td>\n",
              "    </tr>\n",
              "    <tr>\n",
              "      <th>4</th>\n",
              "      <td>Light Gradient Boosting Machine</td>\n",
              "      <td>0.249518</td>\n",
              "      <td>0.345367</td>\n",
              "      <td>0.105365</td>\n",
              "      <td>0.012714</td>\n",
              "      <td>9.901525</td>\n",
              "    </tr>\n",
              "    <tr>\n",
              "      <th>5</th>\n",
              "      <td>Multi-Layer Perceptron</td>\n",
              "      <td>0.265181</td>\n",
              "      <td>0.364654</td>\n",
              "      <td>0.049206</td>\n",
              "      <td>0.013095</td>\n",
              "      <td>10.233026</td>\n",
              "    </tr>\n",
              "    <tr>\n",
              "      <th>6</th>\n",
              "      <td>Kth Nearest Neighbours</td>\n",
              "      <td>0.265171</td>\n",
              "      <td>0.364348</td>\n",
              "      <td>0.049242</td>\n",
              "      <td>0.013242</td>\n",
              "      <td>10.335793</td>\n",
              "    </tr>\n",
              "    <tr>\n",
              "      <th>7</th>\n",
              "      <td>TPOT</td>\n",
              "      <td>0.250743</td>\n",
              "      <td>0.345321</td>\n",
              "      <td>0.100972</td>\n",
              "      <td>0.012733</td>\n",
              "      <td>9.895087</td>\n",
              "    </tr>\n",
              "    <tr>\n",
              "      <th>8</th>\n",
              "      <td>AutoSklearn</td>\n",
              "      <td>0.246563</td>\n",
              "      <td>0.338717</td>\n",
              "      <td>0.115958</td>\n",
              "      <td>0.012622</td>\n",
              "      <td>9.782404</td>\n",
              "    </tr>\n",
              "  </tbody>\n",
              "</table>\n",
              "</div>"
            ],
            "text/plain": [
              "                            Method  ...                 MAPE\n",
              "0                Linear Regression  ...            10.380956\n",
              "1                    Random Forest  ...             9.914333\n",
              "2        Sklearn Gradient Boosting  ...             9.802666\n",
              "3         Xtreme Gradient Boosting  ...            10.005740\n",
              "4  Light Gradient Boosting Machine  ...             9.901525\n",
              "5           Multi-Layer Perceptron  ...            10.233026\n",
              "6           Kth Nearest Neighbours  ...            10.335793\n",
              "7                             TPOT  ...             9.895087\n",
              "8                      AutoSklearn  ...             9.782404\n",
              "\n",
              "[9 rows x 6 columns]"
            ]
          },
          "metadata": {
            "tags": []
          },
          "execution_count": 384
        }
      ]
    },
    {
      "cell_type": "code",
      "metadata": {
        "id": "CvdNG0b3tNA6",
        "colab_type": "code",
        "colab": {}
      },
      "source": [
        "summary_df.to_csv('summary_results.csv', index=False, header=True)"
      ],
      "execution_count": 0,
      "outputs": []
    },
    {
      "cell_type": "code",
      "metadata": {
        "id": "CcgIxJR7t0pC",
        "colab_type": "code",
        "colab": {}
      },
      "source": [
        "files.download('summary_results.csv')"
      ],
      "execution_count": 0,
      "outputs": []
    }
  ]
}